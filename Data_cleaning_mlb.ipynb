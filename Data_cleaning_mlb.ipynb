{
 "cells": [
  {
   "cell_type": "markdown",
   "metadata": {},
   "source": [
    "# Introduction\n",
    "___\n",
    "We are living in the age of a global pandemic. Covid-19 has a put a dent in the global economy that hasn't been seen in decades. One of the many industries that are suffering because of the pandemic is global sports. Professional sports leagues aorund the had to shut down for months. Once these leagues such as the English premier league and NBA started to return, they couldn't allow fans back into the stadiums. This has led to teams losing a chunk of their yearly revenue. Major League Baseball is a prime example of how much revenue is being lossed due to the absence of ticket sales.  \n",
    "\n",
    "The purpose of this project is to predict home attendances for the New York mets. If we can succesfully predict attendance for New York Mets home games then not only can we better estimate the lost revenue this season but we can also determine how to increase revenue in following seasons when fans are back allowed in stadiums again. \n",
    "\n",
    "We will eventually use regeression and time series models to predict our target variable. Our data was collected from the Baseball Reference website. We looked at the past 10 seasons of results data for the Mets.\n",
    "\n",
    "### Column Descriptions:\n",
    "\n",
    "* **game#** = The game number of that season for the Mets.\n",
    "* **date** = The month, day and date the game was played.\n",
    "* **h/a** = '@' indicating that the game was played at the opponents home ground.\n",
    "* **w-l** = win-loss record for that season for the Mets at the time of the game.\n",
    "* **rank** = Divisional rank for the mets at the time of the game.\n",
    "* **games_behind** = the average of the differences between the leading team wins and the trailing team wins, and the leading teams losses and the trailing team losses.\n",
    "* **d/n** = 'D' indicating a day game. 'N' indicating a night game\n",
    "* **attendance** = Ticket sales for that game.\n",
    "* **cli** = How important a game for he probability of winning the championship.\n",
    "* **streak** = '+' indicating a winning streak. '-' indicating a losing streak."
   ]
  },
  {
   "cell_type": "code",
   "execution_count": 1,
   "metadata": {},
   "outputs": [],
   "source": [
    "# import the libraries necessarry for cleaning and eda\n",
    "import numpy as np\n",
    "import pandas as pd\n",
    "import matplotlib.pyplot as plt\n",
    "%matplotlib inline\n",
    "\n",
    "import seaborn as sns\n",
    "sns.set(style='white')\n",
    "plt.style.use('seaborn')\n",
    "\n",
    "pd.set_option('display.max_columns', 100)  # display max rows and columns\n",
    "pd.set_option('display.max_rows', 100)\n",
    "pd.set_option('display.float_format', lambda x: '%.2f' % x)  # avoid outputing scientific notation"
   ]
  },
  {
   "cell_type": "markdown",
   "metadata": {},
   "source": [
    "## Data Exploration & Cleaning\n",
    "___\n",
    "In order to the models to our data we need to clean the data set first. Therefore, we have to remove or impute any missing values, convert string columns to numeric columns etc."
   ]
  },
  {
   "cell_type": "code",
   "execution_count": 2,
   "metadata": {},
   "outputs": [],
   "source": [
    "nym = pd.read_csv('nym_mlb.txt', sep = ',')  # read in the text file"
   ]
  },
  {
   "cell_type": "code",
   "execution_count": 3,
   "metadata": {},
   "outputs": [
    {
     "name": "stdout",
     "output_type": "stream",
     "text": [
      "(1620, 11)\n"
     ]
    },
    {
     "data": {
      "text/html": [
       "<div>\n",
       "<style scoped>\n",
       "    .dataframe tbody tr th:only-of-type {\n",
       "        vertical-align: middle;\n",
       "    }\n",
       "\n",
       "    .dataframe tbody tr th {\n",
       "        vertical-align: top;\n",
       "    }\n",
       "\n",
       "    .dataframe thead th {\n",
       "        text-align: right;\n",
       "    }\n",
       "</style>\n",
       "<table border=\"1\" class=\"dataframe\">\n",
       "  <thead>\n",
       "    <tr style=\"text-align: right;\">\n",
       "      <th></th>\n",
       "      <th>game#</th>\n",
       "      <th>date</th>\n",
       "      <th>h/a</th>\n",
       "      <th>opponent</th>\n",
       "      <th>w-l</th>\n",
       "      <th>rank</th>\n",
       "      <th>games_behind</th>\n",
       "      <th>d/n</th>\n",
       "      <th>attendance</th>\n",
       "      <th>cli</th>\n",
       "      <th>streak</th>\n",
       "    </tr>\n",
       "  </thead>\n",
       "  <tbody>\n",
       "    <tr>\n",
       "      <th>0</th>\n",
       "      <td>1</td>\n",
       "      <td>Monday Apr 5</td>\n",
       "      <td>NaN</td>\n",
       "      <td>FLA</td>\n",
       "      <td>1-0</td>\n",
       "      <td>1</td>\n",
       "      <td>Tied</td>\n",
       "      <td>D</td>\n",
       "      <td>41245.00</td>\n",
       "      <td>1.08</td>\n",
       "      <td>+</td>\n",
       "    </tr>\n",
       "    <tr>\n",
       "      <th>1</th>\n",
       "      <td>2</td>\n",
       "      <td>Wednesday Apr 7</td>\n",
       "      <td>NaN</td>\n",
       "      <td>FLA</td>\n",
       "      <td>1-1</td>\n",
       "      <td>3</td>\n",
       "      <td>1.0</td>\n",
       "      <td>N</td>\n",
       "      <td>38863.00</td>\n",
       "      <td>1.14</td>\n",
       "      <td>-</td>\n",
       "    </tr>\n",
       "    <tr>\n",
       "      <th>2</th>\n",
       "      <td>3</td>\n",
       "      <td>Thursday Apr 8</td>\n",
       "      <td>NaN</td>\n",
       "      <td>FLA</td>\n",
       "      <td>1-2</td>\n",
       "      <td>4</td>\n",
       "      <td>1.0</td>\n",
       "      <td>N</td>\n",
       "      <td>25982.00</td>\n",
       "      <td>1.01</td>\n",
       "      <td>--</td>\n",
       "    </tr>\n",
       "    <tr>\n",
       "      <th>3</th>\n",
       "      <td>4</td>\n",
       "      <td>Friday Apr 9</td>\n",
       "      <td>NaN</td>\n",
       "      <td>WSN</td>\n",
       "      <td>2-2</td>\n",
       "      <td>2</td>\n",
       "      <td>1.0</td>\n",
       "      <td>N</td>\n",
       "      <td>28055.00</td>\n",
       "      <td>0.98</td>\n",
       "      <td>+</td>\n",
       "    </tr>\n",
       "    <tr>\n",
       "      <th>4</th>\n",
       "      <td>5</td>\n",
       "      <td>Saturday Apr 10</td>\n",
       "      <td>NaN</td>\n",
       "      <td>WSN</td>\n",
       "      <td>2-3</td>\n",
       "      <td>4</td>\n",
       "      <td>2.0</td>\n",
       "      <td>D</td>\n",
       "      <td>33044.00</td>\n",
       "      <td>1.06</td>\n",
       "      <td>-</td>\n",
       "    </tr>\n",
       "  </tbody>\n",
       "</table>\n",
       "</div>"
      ],
      "text/plain": [
       "   game#             date  h/a opponent  w-l  rank games_behind d/n  \\\n",
       "0      1     Monday Apr 5  NaN      FLA  1-0     1         Tied   D   \n",
       "1      2  Wednesday Apr 7  NaN      FLA  1-1     3          1.0   N   \n",
       "2      3   Thursday Apr 8  NaN      FLA  1-2     4          1.0   N   \n",
       "3      4     Friday Apr 9  NaN      WSN  2-2     2          1.0   N   \n",
       "4      5  Saturday Apr 10  NaN      WSN  2-3     4          2.0   D   \n",
       "\n",
       "   attendance  cli streak  \n",
       "0    41245.00 1.08      +  \n",
       "1    38863.00 1.14      -  \n",
       "2    25982.00 1.01     --  \n",
       "3    28055.00 0.98      +  \n",
       "4    33044.00 1.06      -  "
      ]
     },
     "execution_count": 3,
     "metadata": {},
     "output_type": "execute_result"
    }
   ],
   "source": [
    "print(nym.shape)  # check the dimensions of the \n",
    "nym.head()  # print the first 5 rows"
   ]
  },
  {
   "cell_type": "markdown",
   "metadata": {},
   "source": [
    "* the `h/a` column indicates whether the game was played citifield, which is the Mets homeground, or at away ground.\n",
    "* '@' value indicates that it was played at the opponents home turf."
   ]
  },
  {
   "cell_type": "code",
   "execution_count": 4,
   "metadata": {},
   "outputs": [
    {
     "data": {
      "text/plain": [
       "@      810\n",
       "NaN    810\n",
       "Name: h/a, dtype: int64"
      ]
     },
     "execution_count": 4,
     "metadata": {},
     "output_type": "execute_result"
    }
   ],
   "source": [
    "nym['h/a'].value_counts(dropna=False)  # the games should be equally distributed in both classes"
   ]
  },
  {
   "cell_type": "code",
   "execution_count": 5,
   "metadata": {},
   "outputs": [
    {
     "data": {
      "text/plain": [
       "(810, 11)"
      ]
     },
     "execution_count": 5,
     "metadata": {},
     "output_type": "execute_result"
    }
   ],
   "source": [
    "# We only want the games that were played at the NY Mets home stadium\n",
    "nym_home = nym[nym['h/a'] != '@'].copy()\n",
    "nym_home.shape"
   ]
  },
  {
   "cell_type": "markdown",
   "metadata": {},
   "source": [
    "**We need to add year values to the date column in order to signifity which season the game belongs to.**\n",
    "\n",
    "* The following indices _81, 162, 243, 324, 405, 486, 567, 648, 729_ indicate the start of a new season, since there are 81 home games per season"
   ]
  },
  {
   "cell_type": "code",
   "execution_count": 6,
   "metadata": {},
   "outputs": [],
   "source": [
    "import warnings  \n",
    "from pandas.core.common import SettingWithCopyWarning  # in order to avoid setting with copy warnings\n",
    "\n",
    "warnings.simplefilter(action=\"ignore\", category=SettingWithCopyWarning)"
   ]
  },
  {
   "cell_type": "code",
   "execution_count": 7,
   "metadata": {},
   "outputs": [],
   "source": [
    "# add the 'year' string depending on the index values\n",
    "nym_home['date'][:81] = nym_home['date'][:81] + ' 2010'\n",
    "nym_home['date'][81:162] = nym_home['date'][81:162] + ' 2011'\n",
    "nym_home['date'][162:243] = nym_home['date'][162:243] + ' 2012'\n",
    "nym_home['date'][243:324] = nym_home['date'][243:324] + ' 2013'\n",
    "nym_home['date'][324:405] = nym_home['date'][324:405] + ' 2014'\n",
    "nym_home['date'][405:486] = nym_home['date'][405:486] + ' 2015'\n",
    "nym_home['date'][486:567] = nym_home['date'][486:567] + ' 2016'\n",
    "nym_home['date'][567:648] = nym_home['date'][567:648] + ' 2017'\n",
    "nym_home['date'][648:729] = nym_home['date'][648:729] + ' 2018'\n",
    "nym_home['date'][729:] = nym_home['date'][729:] + ' 2019'"
   ]
  },
  {
   "cell_type": "code",
   "execution_count": 8,
   "metadata": {},
   "outputs": [
    {
     "data": {
      "text/html": [
       "<div>\n",
       "<style scoped>\n",
       "    .dataframe tbody tr th:only-of-type {\n",
       "        vertical-align: middle;\n",
       "    }\n",
       "\n",
       "    .dataframe tbody tr th {\n",
       "        vertical-align: top;\n",
       "    }\n",
       "\n",
       "    .dataframe thead th {\n",
       "        text-align: right;\n",
       "    }\n",
       "</style>\n",
       "<table border=\"1\" class=\"dataframe\">\n",
       "  <thead>\n",
       "    <tr style=\"text-align: right;\">\n",
       "      <th></th>\n",
       "      <th>game#</th>\n",
       "      <th>date</th>\n",
       "      <th>h/a</th>\n",
       "      <th>opponent</th>\n",
       "      <th>w-l</th>\n",
       "      <th>rank</th>\n",
       "      <th>games_behind</th>\n",
       "      <th>d/n</th>\n",
       "      <th>attendance</th>\n",
       "      <th>cli</th>\n",
       "      <th>streak</th>\n",
       "    </tr>\n",
       "  </thead>\n",
       "  <tbody>\n",
       "    <tr>\n",
       "      <th>0</th>\n",
       "      <td>1</td>\n",
       "      <td>Monday Apr 5 2010</td>\n",
       "      <td>NaN</td>\n",
       "      <td>FLA</td>\n",
       "      <td>1-0</td>\n",
       "      <td>1</td>\n",
       "      <td>Tied</td>\n",
       "      <td>D</td>\n",
       "      <td>41245.00</td>\n",
       "      <td>1.08</td>\n",
       "      <td>+</td>\n",
       "    </tr>\n",
       "    <tr>\n",
       "      <th>1</th>\n",
       "      <td>2</td>\n",
       "      <td>Wednesday Apr 7 2010</td>\n",
       "      <td>NaN</td>\n",
       "      <td>FLA</td>\n",
       "      <td>1-1</td>\n",
       "      <td>3</td>\n",
       "      <td>1.0</td>\n",
       "      <td>N</td>\n",
       "      <td>38863.00</td>\n",
       "      <td>1.14</td>\n",
       "      <td>-</td>\n",
       "    </tr>\n",
       "    <tr>\n",
       "      <th>2</th>\n",
       "      <td>3</td>\n",
       "      <td>Thursday Apr 8 2010</td>\n",
       "      <td>NaN</td>\n",
       "      <td>FLA</td>\n",
       "      <td>1-2</td>\n",
       "      <td>4</td>\n",
       "      <td>1.0</td>\n",
       "      <td>N</td>\n",
       "      <td>25982.00</td>\n",
       "      <td>1.01</td>\n",
       "      <td>--</td>\n",
       "    </tr>\n",
       "    <tr>\n",
       "      <th>3</th>\n",
       "      <td>4</td>\n",
       "      <td>Friday Apr 9 2010</td>\n",
       "      <td>NaN</td>\n",
       "      <td>WSN</td>\n",
       "      <td>2-2</td>\n",
       "      <td>2</td>\n",
       "      <td>1.0</td>\n",
       "      <td>N</td>\n",
       "      <td>28055.00</td>\n",
       "      <td>0.98</td>\n",
       "      <td>+</td>\n",
       "    </tr>\n",
       "    <tr>\n",
       "      <th>4</th>\n",
       "      <td>5</td>\n",
       "      <td>Saturday Apr 10 2010</td>\n",
       "      <td>NaN</td>\n",
       "      <td>WSN</td>\n",
       "      <td>2-3</td>\n",
       "      <td>4</td>\n",
       "      <td>2.0</td>\n",
       "      <td>D</td>\n",
       "      <td>33044.00</td>\n",
       "      <td>1.06</td>\n",
       "      <td>-</td>\n",
       "    </tr>\n",
       "  </tbody>\n",
       "</table>\n",
       "</div>"
      ],
      "text/plain": [
       "   game#                  date  h/a opponent  w-l  rank games_behind d/n  \\\n",
       "0      1     Monday Apr 5 2010  NaN      FLA  1-0     1         Tied   D   \n",
       "1      2  Wednesday Apr 7 2010  NaN      FLA  1-1     3          1.0   N   \n",
       "2      3   Thursday Apr 8 2010  NaN      FLA  1-2     4          1.0   N   \n",
       "3      4     Friday Apr 9 2010  NaN      WSN  2-2     2          1.0   N   \n",
       "4      5  Saturday Apr 10 2010  NaN      WSN  2-3     4          2.0   D   \n",
       "\n",
       "   attendance  cli streak  \n",
       "0    41245.00 1.08      +  \n",
       "1    38863.00 1.14      -  \n",
       "2    25982.00 1.01     --  \n",
       "3    28055.00 0.98      +  \n",
       "4    33044.00 1.06      -  "
      ]
     },
     "execution_count": 8,
     "metadata": {},
     "output_type": "execute_result"
    }
   ],
   "source": [
    "nym_home.head()  # check the modified data"
   ]
  },
  {
   "cell_type": "code",
   "execution_count": 9,
   "metadata": {},
   "outputs": [
    {
     "name": "stdout",
     "output_type": "stream",
     "text": [
      "<class 'pandas.core.frame.DataFrame'>\n",
      "Int64Index: 810 entries, 0 to 1619\n",
      "Data columns (total 11 columns):\n",
      " #   Column        Non-Null Count  Dtype  \n",
      "---  ------        --------------  -----  \n",
      " 0   game#         810 non-null    int64  \n",
      " 1   date          810 non-null    object \n",
      " 2   h/a           0 non-null      object \n",
      " 3   opponent      810 non-null    object \n",
      " 4   w-l           810 non-null    object \n",
      " 5   rank          810 non-null    int64  \n",
      " 6   games_behind  810 non-null    object \n",
      " 7   d/n           810 non-null    object \n",
      " 8   attendance    797 non-null    float64\n",
      " 9   cli           810 non-null    float64\n",
      " 10  streak        810 non-null    object \n",
      "dtypes: float64(2), int64(2), object(7)\n",
      "memory usage: 75.9+ KB\n"
     ]
    }
   ],
   "source": [
    "nym_home.info()  # check the column types and how many null values they have"
   ]
  },
  {
   "cell_type": "markdown",
   "metadata": {},
   "source": [
    "* As expected, `h/a` column should have no more non-null values.\n",
    "* Attendance is missing for 13 games. Let's inspect these observations."
   ]
  },
  {
   "cell_type": "code",
   "execution_count": 10,
   "metadata": {},
   "outputs": [],
   "source": [
    "# drop h/a since all games are home games now. Drop w-l because it's not giving very different \n",
    "# information from games_behind\n",
    "\n",
    "nym_home.drop(columns= ['h/a','w-l'], inplace= True)  "
   ]
  },
  {
   "cell_type": "code",
   "execution_count": 11,
   "metadata": {},
   "outputs": [
    {
     "data": {
      "text/html": [
       "<div>\n",
       "<style scoped>\n",
       "    .dataframe tbody tr th:only-of-type {\n",
       "        vertical-align: middle;\n",
       "    }\n",
       "\n",
       "    .dataframe tbody tr th {\n",
       "        vertical-align: top;\n",
       "    }\n",
       "\n",
       "    .dataframe thead th {\n",
       "        text-align: right;\n",
       "    }\n",
       "</style>\n",
       "<table border=\"1\" class=\"dataframe\">\n",
       "  <thead>\n",
       "    <tr style=\"text-align: right;\">\n",
       "      <th></th>\n",
       "      <th>game#</th>\n",
       "      <th>date</th>\n",
       "      <th>opponent</th>\n",
       "      <th>rank</th>\n",
       "      <th>games_behind</th>\n",
       "      <th>d/n</th>\n",
       "      <th>attendance</th>\n",
       "      <th>cli</th>\n",
       "      <th>streak</th>\n",
       "    </tr>\n",
       "  </thead>\n",
       "  <tbody>\n",
       "    <tr>\n",
       "      <th>19</th>\n",
       "      <td>20</td>\n",
       "      <td>Tuesday Apr 27 (1) 2010</td>\n",
       "      <td>LAD</td>\n",
       "      <td>1</td>\n",
       "      <td>up 0.5</td>\n",
       "      <td>D</td>\n",
       "      <td>nan</td>\n",
       "      <td>1.02</td>\n",
       "      <td>+++++</td>\n",
       "    </tr>\n",
       "    <tr>\n",
       "      <th>156</th>\n",
       "      <td>157</td>\n",
       "      <td>Wednesday Sep 29 (1) 2010</td>\n",
       "      <td>MIL</td>\n",
       "      <td>3</td>\n",
       "      <td>17.5</td>\n",
       "      <td>D</td>\n",
       "      <td>nan</td>\n",
       "      <td>0.00</td>\n",
       "      <td>-</td>\n",
       "    </tr>\n",
       "    <tr>\n",
       "      <th>173</th>\n",
       "      <td>12</td>\n",
       "      <td>Thursday Apr 14 (1) 2011</td>\n",
       "      <td>COL</td>\n",
       "      <td>5</td>\n",
       "      <td>5.5</td>\n",
       "      <td>D</td>\n",
       "      <td>nan</td>\n",
       "      <td>0.78</td>\n",
       "      <td>----</td>\n",
       "    </tr>\n",
       "    <tr>\n",
       "      <th>292</th>\n",
       "      <td>131</td>\n",
       "      <td>Monday Aug 29 (1) 2011</td>\n",
       "      <td>FLA</td>\n",
       "      <td>3</td>\n",
       "      <td>21.0</td>\n",
       "      <td>D</td>\n",
       "      <td>nan</td>\n",
       "      <td>0.00</td>\n",
       "      <td>+++</td>\n",
       "    </tr>\n",
       "    <tr>\n",
       "      <th>303</th>\n",
       "      <td>142</td>\n",
       "      <td>Thursday Sep 8 (1) 2011</td>\n",
       "      <td>ATL</td>\n",
       "      <td>3</td>\n",
       "      <td>23.5</td>\n",
       "      <td>D</td>\n",
       "      <td>nan</td>\n",
       "      <td>0.02</td>\n",
       "      <td>-</td>\n",
       "    </tr>\n",
       "    <tr>\n",
       "      <th>338</th>\n",
       "      <td>15</td>\n",
       "      <td>Monday Apr 23 (1) 2012</td>\n",
       "      <td>SFG</td>\n",
       "      <td>3</td>\n",
       "      <td>4.0</td>\n",
       "      <td>D</td>\n",
       "      <td>nan</td>\n",
       "      <td>0.95</td>\n",
       "      <td>-</td>\n",
       "    </tr>\n",
       "    <tr>\n",
       "      <th>632</th>\n",
       "      <td>147</td>\n",
       "      <td>Saturday Sep 14 (1) 2013</td>\n",
       "      <td>MIA</td>\n",
       "      <td>4</td>\n",
       "      <td>23.0</td>\n",
       "      <td>D</td>\n",
       "      <td>nan</td>\n",
       "      <td>0.00</td>\n",
       "      <td>-</td>\n",
       "    </tr>\n",
       "    <tr>\n",
       "      <th>695</th>\n",
       "      <td>48</td>\n",
       "      <td>Sunday May 25 (1) 2014</td>\n",
       "      <td>ARI</td>\n",
       "      <td>4</td>\n",
       "      <td>6.0</td>\n",
       "      <td>D</td>\n",
       "      <td>nan</td>\n",
       "      <td>0.72</td>\n",
       "      <td>--</td>\n",
       "    </tr>\n",
       "    <tr>\n",
       "      <th>1069</th>\n",
       "      <td>98</td>\n",
       "      <td>Tuesday Jul 26 (1) 2016</td>\n",
       "      <td>STL</td>\n",
       "      <td>3</td>\n",
       "      <td>4.5</td>\n",
       "      <td>D</td>\n",
       "      <td>nan</td>\n",
       "      <td>1.53</td>\n",
       "      <td>-</td>\n",
       "    </tr>\n",
       "    <tr>\n",
       "      <th>1289</th>\n",
       "      <td>156</td>\n",
       "      <td>Monday Sep 25 (1) 2017</td>\n",
       "      <td>ATL</td>\n",
       "      <td>4</td>\n",
       "      <td>28.5</td>\n",
       "      <td>D</td>\n",
       "      <td>nan</td>\n",
       "      <td>0.00</td>\n",
       "      <td>---</td>\n",
       "    </tr>\n",
       "    <tr>\n",
       "      <th>1382</th>\n",
       "      <td>87</td>\n",
       "      <td>Monday Jul 9 (1) 2018</td>\n",
       "      <td>PHI</td>\n",
       "      <td>4</td>\n",
       "      <td>13.5</td>\n",
       "      <td>D</td>\n",
       "      <td>nan</td>\n",
       "      <td>0.05</td>\n",
       "      <td>+</td>\n",
       "    </tr>\n",
       "    <tr>\n",
       "      <th>1440</th>\n",
       "      <td>145</td>\n",
       "      <td>Thursday Sep 13 (1) 2018</td>\n",
       "      <td>MIA</td>\n",
       "      <td>4</td>\n",
       "      <td>14.0</td>\n",
       "      <td>D</td>\n",
       "      <td>nan</td>\n",
       "      <td>0.00</td>\n",
       "      <td>++</td>\n",
       "    </tr>\n",
       "    <tr>\n",
       "      <th>1569</th>\n",
       "      <td>112</td>\n",
       "      <td>Monday Aug 5 (1) 2019</td>\n",
       "      <td>MIA</td>\n",
       "      <td>4</td>\n",
       "      <td>8.5</td>\n",
       "      <td>D</td>\n",
       "      <td>nan</td>\n",
       "      <td>0.78</td>\n",
       "      <td>+++</td>\n",
       "    </tr>\n",
       "  </tbody>\n",
       "</table>\n",
       "</div>"
      ],
      "text/plain": [
       "      game#                       date opponent  rank games_behind d/n  \\\n",
       "19       20    Tuesday Apr 27 (1) 2010      LAD     1       up 0.5   D   \n",
       "156     157  Wednesday Sep 29 (1) 2010      MIL     3         17.5   D   \n",
       "173      12   Thursday Apr 14 (1) 2011      COL     5          5.5   D   \n",
       "292     131     Monday Aug 29 (1) 2011      FLA     3         21.0   D   \n",
       "303     142    Thursday Sep 8 (1) 2011      ATL     3         23.5   D   \n",
       "338      15     Monday Apr 23 (1) 2012      SFG     3          4.0   D   \n",
       "632     147   Saturday Sep 14 (1) 2013      MIA     4         23.0   D   \n",
       "695      48     Sunday May 25 (1) 2014      ARI     4          6.0   D   \n",
       "1069     98    Tuesday Jul 26 (1) 2016      STL     3          4.5   D   \n",
       "1289    156     Monday Sep 25 (1) 2017      ATL     4         28.5   D   \n",
       "1382     87      Monday Jul 9 (1) 2018      PHI     4         13.5   D   \n",
       "1440    145   Thursday Sep 13 (1) 2018      MIA     4         14.0   D   \n",
       "1569    112      Monday Aug 5 (1) 2019      MIA     4          8.5   D   \n",
       "\n",
       "      attendance  cli streak  \n",
       "19           nan 1.02  +++++  \n",
       "156          nan 0.00      -  \n",
       "173          nan 0.78   ----  \n",
       "292          nan 0.00    +++  \n",
       "303          nan 0.02      -  \n",
       "338          nan 0.95      -  \n",
       "632          nan 0.00      -  \n",
       "695          nan 0.72     --  \n",
       "1069         nan 1.53      -  \n",
       "1289         nan 0.00    ---  \n",
       "1382         nan 0.05      +  \n",
       "1440         nan 0.00     ++  \n",
       "1569         nan 0.78    +++  "
      ]
     },
     "execution_count": 11,
     "metadata": {},
     "output_type": "execute_result"
    }
   ],
   "source": [
    "nym_home[nym_home['attendance'].isnull() == True]  # print the rows with null attendance"
   ]
  },
  {
   "cell_type": "markdown",
   "metadata": {},
   "source": [
    "* The data values of these rows have `'(1)'` attached at the end. This might indicate that two games were played that day against the same opponent.\n",
    "* Let's inspect couple of the rows right after these missing value rows."
   ]
  },
  {
   "cell_type": "code",
   "execution_count": 12,
   "metadata": {},
   "outputs": [
    {
     "data": {
      "text/html": [
       "<div>\n",
       "<style scoped>\n",
       "    .dataframe tbody tr th:only-of-type {\n",
       "        vertical-align: middle;\n",
       "    }\n",
       "\n",
       "    .dataframe tbody tr th {\n",
       "        vertical-align: top;\n",
       "    }\n",
       "\n",
       "    .dataframe thead th {\n",
       "        text-align: right;\n",
       "    }\n",
       "</style>\n",
       "<table border=\"1\" class=\"dataframe\">\n",
       "  <thead>\n",
       "    <tr style=\"text-align: right;\">\n",
       "      <th></th>\n",
       "      <th>game#</th>\n",
       "      <th>date</th>\n",
       "      <th>opponent</th>\n",
       "      <th>rank</th>\n",
       "      <th>games_behind</th>\n",
       "      <th>d/n</th>\n",
       "      <th>attendance</th>\n",
       "      <th>cli</th>\n",
       "      <th>streak</th>\n",
       "    </tr>\n",
       "  </thead>\n",
       "  <tbody>\n",
       "    <tr>\n",
       "      <th>1383</th>\n",
       "      <td>88</td>\n",
       "      <td>Monday Jul 9 (2) 2018</td>\n",
       "      <td>PHI</td>\n",
       "      <td>4</td>\n",
       "      <td>13.5</td>\n",
       "      <td>N</td>\n",
       "      <td>24139.00</td>\n",
       "      <td>0.06</td>\n",
       "      <td>-</td>\n",
       "    </tr>\n",
       "    <tr>\n",
       "      <th>1441</th>\n",
       "      <td>146</td>\n",
       "      <td>Thursday Sep 13 (2) 2018</td>\n",
       "      <td>MIA</td>\n",
       "      <td>4</td>\n",
       "      <td>14.0</td>\n",
       "      <td>N</td>\n",
       "      <td>22640.00</td>\n",
       "      <td>0.00</td>\n",
       "      <td>+++</td>\n",
       "    </tr>\n",
       "  </tbody>\n",
       "</table>\n",
       "</div>"
      ],
      "text/plain": [
       "      game#                      date opponent  rank games_behind d/n  \\\n",
       "1383     88     Monday Jul 9 (2) 2018      PHI     4         13.5   N   \n",
       "1441    146  Thursday Sep 13 (2) 2018      MIA     4         14.0   N   \n",
       "\n",
       "      attendance  cli streak  \n",
       "1383    24139.00 0.06      -  \n",
       "1441    22640.00 0.00    +++  "
      ]
     },
     "execution_count": 12,
     "metadata": {},
     "output_type": "execute_result"
    }
   ],
   "source": [
    "nym_home[(nym_home.index == 1383) | (nym_home.index == 1441)]"
   ]
  },
  {
   "cell_type": "markdown",
   "metadata": {},
   "source": [
    "* We were correct in guessing that these were double-header games and attendance was only recorded for the second game.\n",
    "* We can either remove these rows and or impute the values with the actual attendaces from the second game of the day."
   ]
  },
  {
   "cell_type": "code",
   "execution_count": 13,
   "metadata": {},
   "outputs": [],
   "source": [
    "import re  # import the RegEx module\n",
    "pattern = \"\\(2\\)\"  # look for rows with the string '(2)' in them\n",
    "\n",
    "impute_vals = nym_home[nym_home['date'].str.contains(pattern)]['attendance']\n",
    "keys = list(impute_vals.index - 1)  # the keys should be the index with the missing value\n",
    "values = list(impute_vals.values)  # values should be the attendance from the 2nd game that day"
   ]
  },
  {
   "cell_type": "code",
   "execution_count": 14,
   "metadata": {},
   "outputs": [
    {
     "data": {
      "text/plain": [
       "{19: 32012.0,\n",
       " 58: 28072.0,\n",
       " 156: 28280.0,\n",
       " 173: 25758.0,\n",
       " 292: 29335.0,\n",
       " 303: 25953.0,\n",
       " 318: 32437.0,\n",
       " 338: 23866.0,\n",
       " 632: 25175.0,\n",
       " 695: 30785.0,\n",
       " 969: 41480.0,\n",
       " 1069: 37116.0,\n",
       " 1289: 21698.0,\n",
       " 1382: 24139.0,\n",
       " 1440: 22640.0,\n",
       " 1569: 29645.0}"
      ]
     },
     "execution_count": 14,
     "metadata": {},
     "output_type": "execute_result"
    }
   ],
   "source": [
    "impute_dict = dict(zip(keys, values))  # make a dictionary with the keys and values created\n",
    "impute_dict  # check the values"
   ]
  },
  {
   "cell_type": "code",
   "execution_count": 15,
   "metadata": {},
   "outputs": [],
   "source": [
    "# impute missing values with the attendance from the second game that day\n",
    "nym_home['attendance'].fillna(impute_dict, inplace= True, )"
   ]
  },
  {
   "cell_type": "code",
   "execution_count": 16,
   "metadata": {},
   "outputs": [
    {
     "data": {
      "text/plain": [
       "False"
      ]
     },
     "execution_count": 16,
     "metadata": {},
     "output_type": "execute_result"
    }
   ],
   "source": [
    "nym_home.isnull().sum().any()  # check for any more null rows"
   ]
  },
  {
   "cell_type": "code",
   "execution_count": 17,
   "metadata": {},
   "outputs": [],
   "source": [
    "import re  # import the RegEx module\n",
    "\n",
    "pattern = \"\\([12]\\)\"''\n",
    "nym_home['date'] = nym_home['date'].str.replace(pattern, '')  # remove the '(1)','(2)' strings from the date column"
   ]
  },
  {
   "cell_type": "code",
   "execution_count": 18,
   "metadata": {},
   "outputs": [
    {
     "name": "stdout",
     "output_type": "stream",
     "text": [
      "19\n"
     ]
    },
    {
     "data": {
      "text/plain": [
       "array(['+', '-', '--', '++', '+++', '++++', '+++++', '++++++', '+++++++',\n",
       "       '---', '----', '-----', '------', '++++++++', '+++++++++',\n",
       "       '++++++++++', '+++++++++++', '-------', '--------'], dtype=object)"
      ]
     },
     "execution_count": 18,
     "metadata": {},
     "output_type": "execute_result"
    }
   ],
   "source": [
    "# transform the values in the streak column into integers indicating winning/losing streak\n",
    "print(nym_home['streak'].nunique())\n",
    "nym_home['streak'].unique()  # check the current number and types of unique streak values"
   ]
  },
  {
   "cell_type": "code",
   "execution_count": 19,
   "metadata": {},
   "outputs": [],
   "source": [
    "nym_home['streak'] = nym_home['streak'].apply(lambda x: len(x) * -1 if '-' in x else len(x))"
   ]
  },
  {
   "cell_type": "code",
   "execution_count": 20,
   "metadata": {},
   "outputs": [
    {
     "name": "stdout",
     "output_type": "stream",
     "text": [
      "19\n"
     ]
    },
    {
     "data": {
      "text/plain": [
       "array([ 1, -1, -2,  2,  3,  4,  5,  6,  7, -3, -4, -5, -6,  8,  9, 10, 11,\n",
       "       -7, -8])"
      ]
     },
     "execution_count": 20,
     "metadata": {},
     "output_type": "execute_result"
    }
   ],
   "source": [
    "print(nym_home['streak'].nunique())\n",
    "nym_home.streak.unique()  # check the transformed streak values"
   ]
  },
  {
   "cell_type": "markdown",
   "metadata": {},
   "source": [
    "## Feature Engineering\n",
    "___\n",
    "* Create new features from feature interactions or by creating dummy variables in order to detect a clear pattern with the features and the target."
   ]
  },
  {
   "cell_type": "code",
   "execution_count": 21,
   "metadata": {},
   "outputs": [
    {
     "data": {
      "text/plain": [
       "N    539\n",
       "D    271\n",
       "Name: d/n, dtype: int64"
      ]
     },
     "execution_count": 21,
     "metadata": {},
     "output_type": "execute_result"
    }
   ],
   "source": [
    "# convert d/n column to boolean column indicating if it was a night game or not\n",
    "nym_home['d/n'].value_counts() "
   ]
  },
  {
   "cell_type": "code",
   "execution_count": 22,
   "metadata": {},
   "outputs": [
    {
     "data": {
      "text/plain": [
       "1    539\n",
       "0    271\n",
       "Name: d/n, dtype: int64"
      ]
     },
     "execution_count": 22,
     "metadata": {},
     "output_type": "execute_result"
    }
   ],
   "source": [
    "# if it's a night game replace with 1 and if not replace with 0\n",
    "nym_home['d/n'] = nym_home['d/n'].apply(lambda x: 1 if x == 'N' else 0)\n",
    "nym_home['d/n'].value_counts()"
   ]
  },
  {
   "cell_type": "code",
   "execution_count": 23,
   "metadata": {},
   "outputs": [],
   "source": [
    "nym_home.rename(columns= {'d/n':'night_game'}, inplace= True)  # rename the column appropriately"
   ]
  },
  {
   "cell_type": "code",
   "execution_count": 24,
   "metadata": {},
   "outputs": [],
   "source": [
    "# check the values for the games behind column\n",
    "# nym_home.games_behind.value_counts(dropna=False)"
   ]
  },
  {
   "cell_type": "markdown",
   "metadata": {},
   "source": [
    "* 'Tied' indicates 0 games behind\n",
    "* 'up' indicated positives value. Every other value indicates negative games behind.\n",
    "* Replace strings appropriately and convert to numeric type"
   ]
  },
  {
   "cell_type": "code",
   "execution_count": 25,
   "metadata": {},
   "outputs": [],
   "source": [
    "nym_home['games_behind'] = nym_home['games_behind'].str.replace('Tied', '0.0').str.replace('up ', '+')"
   ]
  },
  {
   "cell_type": "code",
   "execution_count": 26,
   "metadata": {},
   "outputs": [],
   "source": [
    "nym_home['games_behind'] = nym_home['games_behind'].apply(lambda x: float(x) * -1 if '+' not in x else float(x))"
   ]
  },
  {
   "cell_type": "code",
   "execution_count": 27,
   "metadata": {
    "scrolled": true
   },
   "outputs": [
    {
     "name": "stdout",
     "output_type": "stream",
     "text": [
      "(810, 9)\n"
     ]
    },
    {
     "data": {
      "text/html": [
       "<div>\n",
       "<style scoped>\n",
       "    .dataframe tbody tr th:only-of-type {\n",
       "        vertical-align: middle;\n",
       "    }\n",
       "\n",
       "    .dataframe tbody tr th {\n",
       "        vertical-align: top;\n",
       "    }\n",
       "\n",
       "    .dataframe thead th {\n",
       "        text-align: right;\n",
       "    }\n",
       "</style>\n",
       "<table border=\"1\" class=\"dataframe\">\n",
       "  <thead>\n",
       "    <tr style=\"text-align: right;\">\n",
       "      <th></th>\n",
       "      <th>game#</th>\n",
       "      <th>date</th>\n",
       "      <th>opponent</th>\n",
       "      <th>rank</th>\n",
       "      <th>games_behind</th>\n",
       "      <th>night_game</th>\n",
       "      <th>attendance</th>\n",
       "      <th>cli</th>\n",
       "      <th>streak</th>\n",
       "    </tr>\n",
       "  </thead>\n",
       "  <tbody>\n",
       "    <tr>\n",
       "      <th>0</th>\n",
       "      <td>1</td>\n",
       "      <td>Monday Apr 5 2010</td>\n",
       "      <td>FLA</td>\n",
       "      <td>1</td>\n",
       "      <td>-0.00</td>\n",
       "      <td>0</td>\n",
       "      <td>41245.00</td>\n",
       "      <td>1.08</td>\n",
       "      <td>1</td>\n",
       "    </tr>\n",
       "    <tr>\n",
       "      <th>1</th>\n",
       "      <td>2</td>\n",
       "      <td>Wednesday Apr 7 2010</td>\n",
       "      <td>FLA</td>\n",
       "      <td>3</td>\n",
       "      <td>-1.00</td>\n",
       "      <td>1</td>\n",
       "      <td>38863.00</td>\n",
       "      <td>1.14</td>\n",
       "      <td>-1</td>\n",
       "    </tr>\n",
       "    <tr>\n",
       "      <th>2</th>\n",
       "      <td>3</td>\n",
       "      <td>Thursday Apr 8 2010</td>\n",
       "      <td>FLA</td>\n",
       "      <td>4</td>\n",
       "      <td>-1.00</td>\n",
       "      <td>1</td>\n",
       "      <td>25982.00</td>\n",
       "      <td>1.01</td>\n",
       "      <td>-2</td>\n",
       "    </tr>\n",
       "    <tr>\n",
       "      <th>3</th>\n",
       "      <td>4</td>\n",
       "      <td>Friday Apr 9 2010</td>\n",
       "      <td>WSN</td>\n",
       "      <td>2</td>\n",
       "      <td>-1.00</td>\n",
       "      <td>1</td>\n",
       "      <td>28055.00</td>\n",
       "      <td>0.98</td>\n",
       "      <td>1</td>\n",
       "    </tr>\n",
       "    <tr>\n",
       "      <th>4</th>\n",
       "      <td>5</td>\n",
       "      <td>Saturday Apr 10 2010</td>\n",
       "      <td>WSN</td>\n",
       "      <td>4</td>\n",
       "      <td>-2.00</td>\n",
       "      <td>0</td>\n",
       "      <td>33044.00</td>\n",
       "      <td>1.06</td>\n",
       "      <td>-1</td>\n",
       "    </tr>\n",
       "  </tbody>\n",
       "</table>\n",
       "</div>"
      ],
      "text/plain": [
       "   game#                  date opponent  rank  games_behind  night_game  \\\n",
       "0      1     Monday Apr 5 2010      FLA     1         -0.00           0   \n",
       "1      2  Wednesday Apr 7 2010      FLA     3         -1.00           1   \n",
       "2      3   Thursday Apr 8 2010      FLA     4         -1.00           1   \n",
       "3      4     Friday Apr 9 2010      WSN     2         -1.00           1   \n",
       "4      5  Saturday Apr 10 2010      WSN     4         -2.00           0   \n",
       "\n",
       "   attendance  cli  streak  \n",
       "0    41245.00 1.08       1  \n",
       "1    38863.00 1.14      -1  \n",
       "2    25982.00 1.01      -2  \n",
       "3    28055.00 0.98       1  \n",
       "4    33044.00 1.06      -1  "
      ]
     },
     "execution_count": 27,
     "metadata": {},
     "output_type": "execute_result"
    }
   ],
   "source": [
    "print(nym_home.shape)\n",
    "nym_home.head()"
   ]
  },
  {
   "cell_type": "code",
   "execution_count": 28,
   "metadata": {},
   "outputs": [],
   "source": [
    "# create new column indicating games left in season\n",
    "nym_home['games_left_in_season'] = 162 - nym_home['game#'] "
   ]
  },
  {
   "cell_type": "code",
   "execution_count": 29,
   "metadata": {},
   "outputs": [],
   "source": [
    "# create new column indicating the day of the week\n",
    "nym_home ['day_of_week'] = nym_home['date'].apply(lambda x : x.split()[0])"
   ]
  },
  {
   "cell_type": "code",
   "execution_count": 30,
   "metadata": {},
   "outputs": [],
   "source": [
    "# create new column indicating the month of the year\n",
    "nym_home['month'] = nym_home['date'].apply(lambda x : x.split()[1]) "
   ]
  },
  {
   "cell_type": "code",
   "execution_count": 31,
   "metadata": {},
   "outputs": [],
   "source": [
    "# create an interaction feature between games_left and games_behind\n",
    "nym_home['games_left-games_behind'] = nym_home['games_left_in_season'] - np.abs(nym_home['games_behind'])"
   ]
  },
  {
   "cell_type": "code",
   "execution_count": 32,
   "metadata": {},
   "outputs": [],
   "source": [
    "# create a new column indicating if it was a weekend game or not\n",
    "nym_home['weekend'] = nym_home['day_of_week'].apply(lambda x: 1 if (x == 'Saturday') | (x == 'Sunday') else 0 )"
   ]
  },
  {
   "cell_type": "code",
   "execution_count": 33,
   "metadata": {},
   "outputs": [],
   "source": [
    "# create an interaction feature between night_game and weekend\n",
    "nym_home['weekend_x_night'] = nym_home['weekend'] * nym_home['night_game']"
   ]
  },
  {
   "cell_type": "code",
   "execution_count": 34,
   "metadata": {},
   "outputs": [
    {
     "data": {
      "image/png": "[encoded data removed]",
      "text/plain": [
       "<Figure size 864x576 with 2 Axes>"
      ]
     },
     "metadata": {},
     "output_type": "display_data"
    }
   ],
   "source": [
    "# check the correlation matrix between features to check for muliti-colinearity\n",
    "mask = np.zeros_like(nym_home.corr().abs(), dtype=np.bool) \n",
    "mask[np.triu_indices_from(mask)] = True \n",
    "\n",
    "f, ax = plt.subplots(figsize=(12, 8))\n",
    "plt.title('Pearson Correlation Matrix',fontsize=10)\n",
    "\n",
    "sns.heatmap(nym_home.corr().abs(),linewidths=0.25,vmax=0.9,square=True,cmap=\"BuGn\", #\"BuGn_r\" to reverse \n",
    "            linecolor='w',annot=True,annot_kws={\"size\":9},mask=mask,cbar_kws={\"shrink\": .9});\n",
    "plt.show()"
   ]
  },
  {
   "cell_type": "markdown",
   "metadata": {},
   "source": [
    "* game# is extremely correlated with games_left_in_season and games_left-games_behind\n",
    "* games_left_in_season and games_left-games_behind are highly correlated."
   ]
  },
  {
   "cell_type": "markdown",
   "metadata": {},
   "source": [
    "### Exploratory Data Analysis"
   ]
  },
  {
   "cell_type": "code",
   "execution_count": 35,
   "metadata": {},
   "outputs": [
    {
     "data": {
      "text/html": [
       "<div>\n",
       "<style scoped>\n",
       "    .dataframe tbody tr th:only-of-type {\n",
       "        vertical-align: middle;\n",
       "    }\n",
       "\n",
       "    .dataframe tbody tr th {\n",
       "        vertical-align: top;\n",
       "    }\n",
       "\n",
       "    .dataframe thead th {\n",
       "        text-align: right;\n",
       "    }\n",
       "</style>\n",
       "<table border=\"1\" class=\"dataframe\">\n",
       "  <thead>\n",
       "    <tr style=\"text-align: right;\">\n",
       "      <th></th>\n",
       "      <th>game#</th>\n",
       "      <th>date</th>\n",
       "      <th>opponent</th>\n",
       "      <th>rank</th>\n",
       "      <th>games_behind</th>\n",
       "      <th>night_game</th>\n",
       "      <th>attendance</th>\n",
       "      <th>cli</th>\n",
       "      <th>streak</th>\n",
       "      <th>games_left_in_season</th>\n",
       "      <th>day_of_week</th>\n",
       "      <th>month</th>\n",
       "      <th>games_left-games_behind</th>\n",
       "      <th>weekend</th>\n",
       "      <th>weekend_x_night</th>\n",
       "    </tr>\n",
       "  </thead>\n",
       "  <tbody>\n",
       "    <tr>\n",
       "      <th>0</th>\n",
       "      <td>1</td>\n",
       "      <td>Monday Apr 5 2010</td>\n",
       "      <td>FLA</td>\n",
       "      <td>1</td>\n",
       "      <td>-0.00</td>\n",
       "      <td>0</td>\n",
       "      <td>41245.00</td>\n",
       "      <td>1.08</td>\n",
       "      <td>1</td>\n",
       "      <td>161</td>\n",
       "      <td>Monday</td>\n",
       "      <td>Apr</td>\n",
       "      <td>161.00</td>\n",
       "      <td>0</td>\n",
       "      <td>0</td>\n",
       "    </tr>\n",
       "    <tr>\n",
       "      <th>1</th>\n",
       "      <td>2</td>\n",
       "      <td>Wednesday Apr 7 2010</td>\n",
       "      <td>FLA</td>\n",
       "      <td>3</td>\n",
       "      <td>-1.00</td>\n",
       "      <td>1</td>\n",
       "      <td>38863.00</td>\n",
       "      <td>1.14</td>\n",
       "      <td>-1</td>\n",
       "      <td>160</td>\n",
       "      <td>Wednesday</td>\n",
       "      <td>Apr</td>\n",
       "      <td>159.00</td>\n",
       "      <td>0</td>\n",
       "      <td>0</td>\n",
       "    </tr>\n",
       "    <tr>\n",
       "      <th>2</th>\n",
       "      <td>3</td>\n",
       "      <td>Thursday Apr 8 2010</td>\n",
       "      <td>FLA</td>\n",
       "      <td>4</td>\n",
       "      <td>-1.00</td>\n",
       "      <td>1</td>\n",
       "      <td>25982.00</td>\n",
       "      <td>1.01</td>\n",
       "      <td>-2</td>\n",
       "      <td>159</td>\n",
       "      <td>Thursday</td>\n",
       "      <td>Apr</td>\n",
       "      <td>158.00</td>\n",
       "      <td>0</td>\n",
       "      <td>0</td>\n",
       "    </tr>\n",
       "    <tr>\n",
       "      <th>3</th>\n",
       "      <td>4</td>\n",
       "      <td>Friday Apr 9 2010</td>\n",
       "      <td>WSN</td>\n",
       "      <td>2</td>\n",
       "      <td>-1.00</td>\n",
       "      <td>1</td>\n",
       "      <td>28055.00</td>\n",
       "      <td>0.98</td>\n",
       "      <td>1</td>\n",
       "      <td>158</td>\n",
       "      <td>Friday</td>\n",
       "      <td>Apr</td>\n",
       "      <td>157.00</td>\n",
       "      <td>0</td>\n",
       "      <td>0</td>\n",
       "    </tr>\n",
       "    <tr>\n",
       "      <th>4</th>\n",
       "      <td>5</td>\n",
       "      <td>Saturday Apr 10 2010</td>\n",
       "      <td>WSN</td>\n",
       "      <td>4</td>\n",
       "      <td>-2.00</td>\n",
       "      <td>0</td>\n",
       "      <td>33044.00</td>\n",
       "      <td>1.06</td>\n",
       "      <td>-1</td>\n",
       "      <td>157</td>\n",
       "      <td>Saturday</td>\n",
       "      <td>Apr</td>\n",
       "      <td>155.00</td>\n",
       "      <td>1</td>\n",
       "      <td>0</td>\n",
       "    </tr>\n",
       "  </tbody>\n",
       "</table>\n",
       "</div>"
      ],
      "text/plain": [
       "   game#                  date opponent  rank  games_behind  night_game  \\\n",
       "0      1     Monday Apr 5 2010      FLA     1         -0.00           0   \n",
       "1      2  Wednesday Apr 7 2010      FLA     3         -1.00           1   \n",
       "2      3   Thursday Apr 8 2010      FLA     4         -1.00           1   \n",
       "3      4     Friday Apr 9 2010      WSN     2         -1.00           1   \n",
       "4      5  Saturday Apr 10 2010      WSN     4         -2.00           0   \n",
       "\n",
       "   attendance  cli  streak  games_left_in_season day_of_week month  \\\n",
       "0    41245.00 1.08       1                   161      Monday   Apr   \n",
       "1    38863.00 1.14      -1                   160   Wednesday   Apr   \n",
       "2    25982.00 1.01      -2                   159    Thursday   Apr   \n",
       "3    28055.00 0.98       1                   158      Friday   Apr   \n",
       "4    33044.00 1.06      -1                   157    Saturday   Apr   \n",
       "\n",
       "   games_left-games_behind  weekend  weekend_x_night  \n",
       "0                   161.00        0                0  \n",
       "1                   159.00        0                0  \n",
       "2                   158.00        0                0  \n",
       "3                   157.00        0                0  \n",
       "4                   155.00        1                0  "
      ]
     },
     "execution_count": 35,
     "metadata": {},
     "output_type": "execute_result"
    }
   ],
   "source": [
    "nym_home.head()"
   ]
  },
  {
   "cell_type": "code",
   "execution_count": 48,
   "metadata": {},
   "outputs": [
    {
     "data": {
      "image/png": "[encoded data removed]",
      "text/plain": [
       "<Figure size 576x396 with 1 Axes>"
      ]
     },
     "metadata": {},
     "output_type": "display_data"
    }
   ],
   "source": [
    "# create a distribution plot for attendance\n",
    "sns.distplot(nym_home['attendance'], bins=30, color= 'red')\n",
    "plt.show()"
   ]
  },
  {
   "cell_type": "markdown",
   "metadata": {},
   "source": [
    "* The data is slightly left-skewed."
   ]
  },
  {
   "cell_type": "code",
   "execution_count": 37,
   "metadata": {},
   "outputs": [
    {
     "data": {
      "image/png": "[encoded data removed]",
      "text/plain": [
       "<Figure size 576x396 with 1 Axes>"
      ]
     },
     "metadata": {},
     "output_type": "display_data"
    }
   ],
   "source": [
    "# create a scatterplot between attendance and games_behind\n",
    "sns.scatterplot(x = 'attendance' , y = 'games_behind', data= nym_home, )\n",
    "plt.xlabel('Attendance')\n",
    "plt.ylabel('Games Behind')\n",
    "plt.savefig('Visualizations/attendance_x_games_behind.png')"
   ]
  },
  {
   "cell_type": "markdown",
   "metadata": {},
   "source": [
    "* There seems to be no significant correlation between the variables."
   ]
  },
  {
   "cell_type": "code",
   "execution_count": 48,
   "metadata": {},
   "outputs": [
    {
     "data": {
      "image/png": "[encoded data removed]",
      "text/plain": [
       "<Figure size 576x396 with 1 Axes>"
      ]
     },
     "metadata": {},
     "output_type": "display_data"
    }
   ],
   "source": [
    "# check the average crowd for games played during the night on the weekends and alternative options\n",
    "grp_night_wknd = nym_home.groupby('weekend_x_night')['attendance'].mean().sort_values()\n",
    "sns.barplot(y = grp_night_wknd, x = ['No', 'Yes'], palette= 'Paired')\n",
    "\n",
    "plt.ylim(25000,35000)\n",
    "plt.ylabel('Average Attendance')\n",
    "plt.title('attendance based on weekend night game or not'.title())\n",
    "plt.savefig('Visualizations/weekend_night_games.png')"
   ]
  },
  {
   "cell_type": "markdown",
   "metadata": {},
   "source": [
    "* Weekned-night games definitely more popular than alternative options."
   ]
  },
  {
   "cell_type": "code",
   "execution_count": 55,
   "metadata": {
    "scrolled": false
   },
   "outputs": [
    {
     "data": {
      "image/png": "[encoded data removed]",
      "text/plain": [
       "<Figure size 576x396 with 1 Axes>"
      ]
     },
     "metadata": {},
     "output_type": "display_data"
    }
   ],
   "source": [
    "# check which days of the week draw more crowds\n",
    "grpby_day = nym_home.groupby('day_of_week')['attendance'].mean().sort_values()\n",
    "sns.barplot(y= grpby_day, x = grpby_day.index, palette= 'vlag')\n",
    "plt.ylim(24000, 35000)\n",
    "plt.xlabel('Day Of Week')\n",
    "plt.ylabel('Average Attendance')\n",
    "plt.title('daily average attendance'.title())\n",
    "plt.savefig('Visualizations/avg_attendance_daily.png')"
   ]
  },
  {
   "cell_type": "markdown",
   "metadata": {},
   "source": [
    "* Expectedly Friday-Sunday draws in more crowd than other days."
   ]
  },
  {
   "cell_type": "code",
   "execution_count": 54,
   "metadata": {},
   "outputs": [
    {
     "data": {
      "image/png": "[encoded data removed]",
      "text/plain": [
       "<Figure size 576x396 with 1 Axes>"
      ]
     },
     "metadata": {},
     "output_type": "display_data"
    }
   ],
   "source": [
    "# check avg attendance by month\n",
    "grpby_month = nym_home.groupby('month')['attendance'].mean().sort_values()\n",
    "sns.barplot(y= grpby_month, x = grpby_month.index,)\n",
    "plt.ylim(22000, 42000)\n",
    "plt.xlabel('Month')\n",
    "plt.ylabel('Average Attendance')\n",
    "plt.title('average attendance by month'.title())\n",
    "plt.savefig('Visualizations/avg_attendance_month.png')"
   ]
  },
  {
   "cell_type": "code",
   "execution_count": 98,
   "metadata": {},
   "outputs": [
    {
     "data": {
      "image/png": "[encoded data removed]",
      "text/plain": [
       "<Figure size 576x396 with 1 Axes>"
      ]
     },
     "metadata": {},
     "output_type": "display_data"
    }
   ],
   "source": [
    "# check avg attendance grouped by the away team\n",
    "\n",
    "away_team_grpby = nym_home.groupby('opponent')['attendance'].mean().sort_values(ascending = False).head(10)\n",
    "sns.barplot(y= away_team_grpby, x = away_team_grpby.index, )\n",
    "plt.ylim(27000, 42000)\n",
    "plt.xlabel('Away Team')\n",
    "plt.ylabel('Average Attendance')\n",
    "plt.title('top 10: average attandance grouped by the opponent'.title())\n",
    "plt.savefig('Visualizations/avg_attendance_by_team.png')"
   ]
  },
  {
   "cell_type": "markdown",
   "metadata": {},
   "source": [
    "* Some opponenents are clearly more popular than others such the New York Yankees and the Boston Red Sox."
   ]
  },
  {
   "cell_type": "code",
   "execution_count": 42,
   "metadata": {},
   "outputs": [],
   "source": [
    "# create dummy variables\n",
    "nym_dummy = pd.get_dummies(nym_home, columns= ['month','day_of_week','opponent'], \n",
    "               prefix = {'month': '', 'day_of_week': '', 'opponent': ''}, prefix_sep = '' )"
   ]
  },
  {
   "cell_type": "code",
   "execution_count": 43,
   "metadata": {},
   "outputs": [],
   "source": [
    "# drop unnecessarry or highly multi-colinear features\n",
    "nym_dummy.drop(columns=['date', 'Saturday', 'Sunday', 'game#', 'games_left_in_season'], inplace= True)"
   ]
  },
  {
   "cell_type": "code",
   "execution_count": 44,
   "metadata": {},
   "outputs": [],
   "source": [
    "# standardize the dataframe except for the target variable\n",
    "nym_normal = (nym_dummy - nym_dummy.mean())/(nym_dummy.std())"
   ]
  },
  {
   "cell_type": "code",
   "execution_count": 45,
   "metadata": {},
   "outputs": [],
   "source": [
    "nym_normal['attendance'] = nym_dummy['attendance']  # plug back in non-normalized target"
   ]
  },
  {
   "cell_type": "code",
   "execution_count": 46,
   "metadata": {},
   "outputs": [
    {
     "name": "stdout",
     "output_type": "stream",
     "text": [
      "(810, 51)\n"
     ]
    },
    {
     "data": {
      "text/html": [
       "<div>\n",
       "<style scoped>\n",
       "    .dataframe tbody tr th:only-of-type {\n",
       "        vertical-align: middle;\n",
       "    }\n",
       "\n",
       "    .dataframe tbody tr th {\n",
       "        vertical-align: top;\n",
       "    }\n",
       "\n",
       "    .dataframe thead th {\n",
       "        text-align: right;\n",
       "    }\n",
       "</style>\n",
       "<table border=\"1\" class=\"dataframe\">\n",
       "  <thead>\n",
       "    <tr style=\"text-align: right;\">\n",
       "      <th></th>\n",
       "      <th>rank</th>\n",
       "      <th>games_behind</th>\n",
       "      <th>night_game</th>\n",
       "      <th>attendance</th>\n",
       "      <th>cli</th>\n",
       "      <th>streak</th>\n",
       "      <th>games_left-games_behind</th>\n",
       "      <th>weekend</th>\n",
       "      <th>weekend_x_night</th>\n",
       "      <th>Apr</th>\n",
       "      <th>Aug</th>\n",
       "      <th>Jul</th>\n",
       "      <th>Jun</th>\n",
       "      <th>Mar</th>\n",
       "      <th>May</th>\n",
       "      <th>Oct</th>\n",
       "      <th>Sep</th>\n",
       "      <th>Friday</th>\n",
       "      <th>Monday</th>\n",
       "      <th>Thursday</th>\n",
       "      <th>Tuesday</th>\n",
       "      <th>Wednesday</th>\n",
       "      <th>ARI</th>\n",
       "      <th>ATL</th>\n",
       "      <th>BAL</th>\n",
       "      <th>BOS</th>\n",
       "      <th>CHC</th>\n",
       "      <th>CHW</th>\n",
       "      <th>CIN</th>\n",
       "      <th>CLE</th>\n",
       "      <th>COL</th>\n",
       "      <th>DET</th>\n",
       "      <th>FLA</th>\n",
       "      <th>HOU</th>\n",
       "      <th>KCR</th>\n",
       "      <th>LAA</th>\n",
       "      <th>LAD</th>\n",
       "      <th>MIA</th>\n",
       "      <th>MIL</th>\n",
       "      <th>MIN</th>\n",
       "      <th>NYY</th>\n",
       "      <th>OAK</th>\n",
       "      <th>PHI</th>\n",
       "      <th>PIT</th>\n",
       "      <th>SDP</th>\n",
       "      <th>SFG</th>\n",
       "      <th>STL</th>\n",
       "      <th>TBR</th>\n",
       "      <th>TEX</th>\n",
       "      <th>TOR</th>\n",
       "      <th>WSN</th>\n",
       "    </tr>\n",
       "  </thead>\n",
       "  <tbody>\n",
       "    <tr>\n",
       "      <th>0</th>\n",
       "      <td>-1.88</td>\n",
       "      <td>1.13</td>\n",
       "      <td>-1.41</td>\n",
       "      <td>41245.00</td>\n",
       "      <td>0.73</td>\n",
       "      <td>0.40</td>\n",
       "      <td>1.68</td>\n",
       "      <td>-0.69</td>\n",
       "      <td>-0.36</td>\n",
       "      <td>2.29</td>\n",
       "      <td>-0.47</td>\n",
       "      <td>-0.42</td>\n",
       "      <td>-0.41</td>\n",
       "      <td>-0.06</td>\n",
       "      <td>-0.46</td>\n",
       "      <td>-0.09</td>\n",
       "      <td>-0.46</td>\n",
       "      <td>-0.42</td>\n",
       "      <td>2.96</td>\n",
       "      <td>-0.37</td>\n",
       "      <td>-0.41</td>\n",
       "      <td>-0.42</td>\n",
       "      <td>-0.21</td>\n",
       "      <td>-0.36</td>\n",
       "      <td>-0.09</td>\n",
       "      <td>-0.06</td>\n",
       "      <td>-0.21</td>\n",
       "      <td>-0.08</td>\n",
       "      <td>-0.21</td>\n",
       "      <td>-0.06</td>\n",
       "      <td>-0.21</td>\n",
       "      <td>-0.11</td>\n",
       "      <td>6.63</td>\n",
       "      <td>-0.12</td>\n",
       "      <td>-0.08</td>\n",
       "      <td>-0.09</td>\n",
       "      <td>-0.20</td>\n",
       "      <td>-0.32</td>\n",
       "      <td>-0.20</td>\n",
       "      <td>-0.10</td>\n",
       "      <td>-0.18</td>\n",
       "      <td>-0.10</td>\n",
       "      <td>-0.36</td>\n",
       "      <td>-0.21</td>\n",
       "      <td>-0.20</td>\n",
       "      <td>-0.21</td>\n",
       "      <td>-0.21</td>\n",
       "      <td>-0.06</td>\n",
       "      <td>-0.08</td>\n",
       "      <td>-0.07</td>\n",
       "      <td>-0.37</td>\n",
       "    </tr>\n",
       "    <tr>\n",
       "      <th>1</th>\n",
       "      <td>-0.04</td>\n",
       "      <td>0.99</td>\n",
       "      <td>0.71</td>\n",
       "      <td>38863.00</td>\n",
       "      <td>0.84</td>\n",
       "      <td>-0.39</td>\n",
       "      <td>1.64</td>\n",
       "      <td>-0.69</td>\n",
       "      <td>-0.36</td>\n",
       "      <td>2.29</td>\n",
       "      <td>-0.47</td>\n",
       "      <td>-0.42</td>\n",
       "      <td>-0.41</td>\n",
       "      <td>-0.06</td>\n",
       "      <td>-0.46</td>\n",
       "      <td>-0.09</td>\n",
       "      <td>-0.46</td>\n",
       "      <td>-0.42</td>\n",
       "      <td>-0.34</td>\n",
       "      <td>-0.37</td>\n",
       "      <td>-0.41</td>\n",
       "      <td>2.36</td>\n",
       "      <td>-0.21</td>\n",
       "      <td>-0.36</td>\n",
       "      <td>-0.09</td>\n",
       "      <td>-0.06</td>\n",
       "      <td>-0.21</td>\n",
       "      <td>-0.08</td>\n",
       "      <td>-0.21</td>\n",
       "      <td>-0.06</td>\n",
       "      <td>-0.21</td>\n",
       "      <td>-0.11</td>\n",
       "      <td>6.63</td>\n",
       "      <td>-0.12</td>\n",
       "      <td>-0.08</td>\n",
       "      <td>-0.09</td>\n",
       "      <td>-0.20</td>\n",
       "      <td>-0.32</td>\n",
       "      <td>-0.20</td>\n",
       "      <td>-0.10</td>\n",
       "      <td>-0.18</td>\n",
       "      <td>-0.10</td>\n",
       "      <td>-0.36</td>\n",
       "      <td>-0.21</td>\n",
       "      <td>-0.20</td>\n",
       "      <td>-0.21</td>\n",
       "      <td>-0.21</td>\n",
       "      <td>-0.06</td>\n",
       "      <td>-0.08</td>\n",
       "      <td>-0.07</td>\n",
       "      <td>-0.37</td>\n",
       "    </tr>\n",
       "    <tr>\n",
       "      <th>2</th>\n",
       "      <td>0.89</td>\n",
       "      <td>0.99</td>\n",
       "      <td>0.71</td>\n",
       "      <td>25982.00</td>\n",
       "      <td>0.60</td>\n",
       "      <td>-0.78</td>\n",
       "      <td>1.62</td>\n",
       "      <td>-0.69</td>\n",
       "      <td>-0.36</td>\n",
       "      <td>2.29</td>\n",
       "      <td>-0.47</td>\n",
       "      <td>-0.42</td>\n",
       "      <td>-0.41</td>\n",
       "      <td>-0.06</td>\n",
       "      <td>-0.46</td>\n",
       "      <td>-0.09</td>\n",
       "      <td>-0.46</td>\n",
       "      <td>-0.42</td>\n",
       "      <td>-0.34</td>\n",
       "      <td>2.68</td>\n",
       "      <td>-0.41</td>\n",
       "      <td>-0.42</td>\n",
       "      <td>-0.21</td>\n",
       "      <td>-0.36</td>\n",
       "      <td>-0.09</td>\n",
       "      <td>-0.06</td>\n",
       "      <td>-0.21</td>\n",
       "      <td>-0.08</td>\n",
       "      <td>-0.21</td>\n",
       "      <td>-0.06</td>\n",
       "      <td>-0.21</td>\n",
       "      <td>-0.11</td>\n",
       "      <td>6.63</td>\n",
       "      <td>-0.12</td>\n",
       "      <td>-0.08</td>\n",
       "      <td>-0.09</td>\n",
       "      <td>-0.20</td>\n",
       "      <td>-0.32</td>\n",
       "      <td>-0.20</td>\n",
       "      <td>-0.10</td>\n",
       "      <td>-0.18</td>\n",
       "      <td>-0.10</td>\n",
       "      <td>-0.36</td>\n",
       "      <td>-0.21</td>\n",
       "      <td>-0.20</td>\n",
       "      <td>-0.21</td>\n",
       "      <td>-0.21</td>\n",
       "      <td>-0.06</td>\n",
       "      <td>-0.08</td>\n",
       "      <td>-0.07</td>\n",
       "      <td>-0.37</td>\n",
       "    </tr>\n",
       "    <tr>\n",
       "      <th>3</th>\n",
       "      <td>-0.96</td>\n",
       "      <td>0.99</td>\n",
       "      <td>0.71</td>\n",
       "      <td>28055.00</td>\n",
       "      <td>0.54</td>\n",
       "      <td>0.40</td>\n",
       "      <td>1.60</td>\n",
       "      <td>-0.69</td>\n",
       "      <td>-0.36</td>\n",
       "      <td>2.29</td>\n",
       "      <td>-0.47</td>\n",
       "      <td>-0.42</td>\n",
       "      <td>-0.41</td>\n",
       "      <td>-0.06</td>\n",
       "      <td>-0.46</td>\n",
       "      <td>-0.09</td>\n",
       "      <td>-0.46</td>\n",
       "      <td>2.35</td>\n",
       "      <td>-0.34</td>\n",
       "      <td>-0.37</td>\n",
       "      <td>-0.41</td>\n",
       "      <td>-0.42</td>\n",
       "      <td>-0.21</td>\n",
       "      <td>-0.36</td>\n",
       "      <td>-0.09</td>\n",
       "      <td>-0.06</td>\n",
       "      <td>-0.21</td>\n",
       "      <td>-0.08</td>\n",
       "      <td>-0.21</td>\n",
       "      <td>-0.06</td>\n",
       "      <td>-0.21</td>\n",
       "      <td>-0.11</td>\n",
       "      <td>-0.15</td>\n",
       "      <td>-0.12</td>\n",
       "      <td>-0.08</td>\n",
       "      <td>-0.09</td>\n",
       "      <td>-0.20</td>\n",
       "      <td>-0.32</td>\n",
       "      <td>-0.20</td>\n",
       "      <td>-0.10</td>\n",
       "      <td>-0.18</td>\n",
       "      <td>-0.10</td>\n",
       "      <td>-0.36</td>\n",
       "      <td>-0.21</td>\n",
       "      <td>-0.20</td>\n",
       "      <td>-0.21</td>\n",
       "      <td>-0.21</td>\n",
       "      <td>-0.06</td>\n",
       "      <td>-0.08</td>\n",
       "      <td>-0.07</td>\n",
       "      <td>2.71</td>\n",
       "    </tr>\n",
       "    <tr>\n",
       "      <th>4</th>\n",
       "      <td>0.89</td>\n",
       "      <td>0.86</td>\n",
       "      <td>-1.41</td>\n",
       "      <td>33044.00</td>\n",
       "      <td>0.69</td>\n",
       "      <td>-0.39</td>\n",
       "      <td>1.57</td>\n",
       "      <td>1.45</td>\n",
       "      <td>-0.36</td>\n",
       "      <td>2.29</td>\n",
       "      <td>-0.47</td>\n",
       "      <td>-0.42</td>\n",
       "      <td>-0.41</td>\n",
       "      <td>-0.06</td>\n",
       "      <td>-0.46</td>\n",
       "      <td>-0.09</td>\n",
       "      <td>-0.46</td>\n",
       "      <td>-0.42</td>\n",
       "      <td>-0.34</td>\n",
       "      <td>-0.37</td>\n",
       "      <td>-0.41</td>\n",
       "      <td>-0.42</td>\n",
       "      <td>-0.21</td>\n",
       "      <td>-0.36</td>\n",
       "      <td>-0.09</td>\n",
       "      <td>-0.06</td>\n",
       "      <td>-0.21</td>\n",
       "      <td>-0.08</td>\n",
       "      <td>-0.21</td>\n",
       "      <td>-0.06</td>\n",
       "      <td>-0.21</td>\n",
       "      <td>-0.11</td>\n",
       "      <td>-0.15</td>\n",
       "      <td>-0.12</td>\n",
       "      <td>-0.08</td>\n",
       "      <td>-0.09</td>\n",
       "      <td>-0.20</td>\n",
       "      <td>-0.32</td>\n",
       "      <td>-0.20</td>\n",
       "      <td>-0.10</td>\n",
       "      <td>-0.18</td>\n",
       "      <td>-0.10</td>\n",
       "      <td>-0.36</td>\n",
       "      <td>-0.21</td>\n",
       "      <td>-0.20</td>\n",
       "      <td>-0.21</td>\n",
       "      <td>-0.21</td>\n",
       "      <td>-0.06</td>\n",
       "      <td>-0.08</td>\n",
       "      <td>-0.07</td>\n",
       "      <td>2.71</td>\n",
       "    </tr>\n",
       "  </tbody>\n",
       "</table>\n",
       "</div>"
      ],
      "text/plain": [
       "   rank  games_behind  night_game  attendance  cli  streak  \\\n",
       "0 -1.88          1.13       -1.41    41245.00 0.73    0.40   \n",
       "1 -0.04          0.99        0.71    38863.00 0.84   -0.39   \n",
       "2  0.89          0.99        0.71    25982.00 0.60   -0.78   \n",
       "3 -0.96          0.99        0.71    28055.00 0.54    0.40   \n",
       "4  0.89          0.86       -1.41    33044.00 0.69   -0.39   \n",
       "\n",
       "   games_left-games_behind  weekend  weekend_x_night  Apr   Aug   Jul   Jun  \\\n",
       "0                     1.68    -0.69            -0.36 2.29 -0.47 -0.42 -0.41   \n",
       "1                     1.64    -0.69            -0.36 2.29 -0.47 -0.42 -0.41   \n",
       "2                     1.62    -0.69            -0.36 2.29 -0.47 -0.42 -0.41   \n",
       "3                     1.60    -0.69            -0.36 2.29 -0.47 -0.42 -0.41   \n",
       "4                     1.57     1.45            -0.36 2.29 -0.47 -0.42 -0.41   \n",
       "\n",
       "    Mar   May   Oct   Sep  Friday  Monday  Thursday  Tuesday  Wednesday   ARI  \\\n",
       "0 -0.06 -0.46 -0.09 -0.46   -0.42    2.96     -0.37    -0.41      -0.42 -0.21   \n",
       "1 -0.06 -0.46 -0.09 -0.46   -0.42   -0.34     -0.37    -0.41       2.36 -0.21   \n",
       "2 -0.06 -0.46 -0.09 -0.46   -0.42   -0.34      2.68    -0.41      -0.42 -0.21   \n",
       "3 -0.06 -0.46 -0.09 -0.46    2.35   -0.34     -0.37    -0.41      -0.42 -0.21   \n",
       "4 -0.06 -0.46 -0.09 -0.46   -0.42   -0.34     -0.37    -0.41      -0.42 -0.21   \n",
       "\n",
       "    ATL   BAL   BOS   CHC   CHW   CIN   CLE   COL   DET   FLA   HOU   KCR  \\\n",
       "0 -0.36 -0.09 -0.06 -0.21 -0.08 -0.21 -0.06 -0.21 -0.11  6.63 -0.12 -0.08   \n",
       "1 -0.36 -0.09 -0.06 -0.21 -0.08 -0.21 -0.06 -0.21 -0.11  6.63 -0.12 -0.08   \n",
       "2 -0.36 -0.09 -0.06 -0.21 -0.08 -0.21 -0.06 -0.21 -0.11  6.63 -0.12 -0.08   \n",
       "3 -0.36 -0.09 -0.06 -0.21 -0.08 -0.21 -0.06 -0.21 -0.11 -0.15 -0.12 -0.08   \n",
       "4 -0.36 -0.09 -0.06 -0.21 -0.08 -0.21 -0.06 -0.21 -0.11 -0.15 -0.12 -0.08   \n",
       "\n",
       "    LAA   LAD   MIA   MIL   MIN   NYY   OAK   PHI   PIT   SDP   SFG   STL  \\\n",
       "0 -0.09 -0.20 -0.32 -0.20 -0.10 -0.18 -0.10 -0.36 -0.21 -0.20 -0.21 -0.21   \n",
       "1 -0.09 -0.20 -0.32 -0.20 -0.10 -0.18 -0.10 -0.36 -0.21 -0.20 -0.21 -0.21   \n",
       "2 -0.09 -0.20 -0.32 -0.20 -0.10 -0.18 -0.10 -0.36 -0.21 -0.20 -0.21 -0.21   \n",
       "3 -0.09 -0.20 -0.32 -0.20 -0.10 -0.18 -0.10 -0.36 -0.21 -0.20 -0.21 -0.21   \n",
       "4 -0.09 -0.20 -0.32 -0.20 -0.10 -0.18 -0.10 -0.36 -0.21 -0.20 -0.21 -0.21   \n",
       "\n",
       "    TBR   TEX   TOR   WSN  \n",
       "0 -0.06 -0.08 -0.07 -0.37  \n",
       "1 -0.06 -0.08 -0.07 -0.37  \n",
       "2 -0.06 -0.08 -0.07 -0.37  \n",
       "3 -0.06 -0.08 -0.07  2.71  \n",
       "4 -0.06 -0.08 -0.07  2.71  "
      ]
     },
     "execution_count": 46,
     "metadata": {},
     "output_type": "execute_result"
    }
   ],
   "source": [
    "print(nym_normal.shape)\n",
    "nym_normal.head()"
   ]
  },
  {
   "cell_type": "code",
   "execution_count": 47,
   "metadata": {},
   "outputs": [
    {
     "data": {
      "text/plain": [
       "attendance                1.00\n",
       "weekend                   0.34\n",
       "NYY                       0.31\n",
       "cli                       0.28\n",
       "weekend_x_night           0.24\n",
       "rank                      0.24\n",
       "games_behind              0.24\n",
       "Sep                       0.19\n",
       "night_game                0.19\n",
       "Tuesday                   0.18\n",
       "Wednesday                 0.15\n",
       "Monday                    0.15\n",
       "MIA                       0.14\n",
       "Jul                       0.13\n",
       "Mar                       0.11\n",
       "BOS                       0.10\n",
       "Jun                       0.10\n",
       "Friday                    0.09\n",
       "LAD                       0.09\n",
       "Apr                       0.08\n",
       "Thursday                  0.08\n",
       "CIN                       0.08\n",
       "games_left-games_behind   0.08\n",
       "Oct                       0.08\n",
       "ATL                       0.07\n",
       "LAA                       0.07\n",
       "DET                       0.06\n",
       "Name: attendance, dtype: float64"
      ]
     },
     "execution_count": 47,
     "metadata": {},
     "output_type": "execute_result"
    }
   ],
   "source": [
    "# check correlation between features and target\n",
    "corr = nym_normal.corr().abs()['attendance']\n",
    "corr[corr > 0.05].sort_values(ascending = False)"
   ]
  },
  {
   "cell_type": "code",
   "execution_count": 48,
   "metadata": {},
   "outputs": [
    {
     "data": {
      "text/html": [
       "<table class=\"simpletable\">\n",
       "<caption>OLS Regression Results</caption>\n",
       "<tr>\n",
       "  <th>Dep. Variable:</th>       <td>attendance</td>    <th>  R-squared:         </th> <td>   0.354</td> \n",
       "</tr>\n",
       "<tr>\n",
       "  <th>Model:</th>                   <td>OLS</td>       <th>  Adj. R-squared:    </th> <td>   0.349</td> \n",
       "</tr>\n",
       "<tr>\n",
       "  <th>Method:</th>             <td>Least Squares</td>  <th>  F-statistic:       </th> <td>   62.86</td> \n",
       "</tr>\n",
       "<tr>\n",
       "  <th>Date:</th>             <td>Mon, 02 Nov 2020</td> <th>  Prob (F-statistic):</th> <td>4.95e-72</td> \n",
       "</tr>\n",
       "<tr>\n",
       "  <th>Time:</th>                 <td>10:42:37</td>     <th>  Log-Likelihood:    </th> <td> -8051.8</td> \n",
       "</tr>\n",
       "<tr>\n",
       "  <th>No. Observations:</th>      <td>   810</td>      <th>  AIC:               </th> <td>1.612e+04</td>\n",
       "</tr>\n",
       "<tr>\n",
       "  <th>Df Residuals:</th>          <td>   802</td>      <th>  BIC:               </th> <td>1.616e+04</td>\n",
       "</tr>\n",
       "<tr>\n",
       "  <th>Df Model:</th>              <td>     7</td>      <th>                     </th>     <td> </td>    \n",
       "</tr>\n",
       "<tr>\n",
       "  <th>Covariance Type:</th>      <td>nonrobust</td>    <th>                     </th>     <td> </td>    \n",
       "</tr>\n",
       "</table>\n",
       "<table class=\"simpletable\">\n",
       "<tr>\n",
       "      <td></td>         <th>coef</th>     <th>std err</th>      <th>t</th>      <th>P>|t|</th>  <th>[0.025</th>    <th>0.975]</th>  \n",
       "</tr>\n",
       "<tr>\n",
       "  <th>Intercept</th> <td>     3e+04</td> <td>  177.321</td> <td>  169.163</td> <td> 0.000</td> <td> 2.96e+04</td> <td> 3.03e+04</td>\n",
       "</tr>\n",
       "<tr>\n",
       "  <th>weekend</th>   <td> 2391.3464</td> <td>  186.115</td> <td>   12.849</td> <td> 0.000</td> <td> 2026.016</td> <td> 2756.677</td>\n",
       "</tr>\n",
       "<tr>\n",
       "  <th>NYY</th>       <td> 1892.2614</td> <td>  178.107</td> <td>   10.624</td> <td> 0.000</td> <td> 1542.651</td> <td> 2241.872</td>\n",
       "</tr>\n",
       "<tr>\n",
       "  <th>cli</th>       <td> 1299.4826</td> <td>  221.301</td> <td>    5.872</td> <td> 0.000</td> <td>  865.085</td> <td> 1733.880</td>\n",
       "</tr>\n",
       "<tr>\n",
       "  <th>rank</th>      <td> -768.1428</td> <td>  222.712</td> <td>   -3.449</td> <td> 0.001</td> <td>-1205.310</td> <td> -330.975</td>\n",
       "</tr>\n",
       "<tr>\n",
       "  <th>MIA</th>       <td> -775.6190</td> <td>  178.130</td> <td>   -4.354</td> <td> 0.000</td> <td>-1125.274</td> <td> -425.964</td>\n",
       "</tr>\n",
       "<tr>\n",
       "  <th>Friday</th>    <td> 1209.3272</td> <td>  186.015</td> <td>    6.501</td> <td> 0.000</td> <td>  844.194</td> <td> 1574.460</td>\n",
       "</tr>\n",
       "<tr>\n",
       "  <th>BOS</th>       <td>  397.3612</td> <td>  179.456</td> <td>    2.214</td> <td> 0.027</td> <td>   45.103</td> <td>  749.619</td>\n",
       "</tr>\n",
       "</table>\n",
       "<table class=\"simpletable\">\n",
       "<tr>\n",
       "  <th>Omnibus:</th>       <td>21.108</td> <th>  Durbin-Watson:     </th> <td>   1.147</td>\n",
       "</tr>\n",
       "<tr>\n",
       "  <th>Prob(Omnibus):</th> <td> 0.000</td> <th>  Jarque-Bera (JB):  </th> <td>  22.384</td>\n",
       "</tr>\n",
       "<tr>\n",
       "  <th>Skew:</th>          <td> 0.404</td> <th>  Prob(JB):          </th> <td>1.38e-05</td>\n",
       "</tr>\n",
       "<tr>\n",
       "  <th>Kurtosis:</th>      <td> 2.892</td> <th>  Cond. No.          </th> <td>    2.02</td>\n",
       "</tr>\n",
       "</table><br/><br/>Warnings:<br/>[1] Standard Errors assume that the covariance matrix of the errors is correctly specified."
      ],
      "text/plain": [
       "<class 'statsmodels.iolib.summary.Summary'>\n",
       "\"\"\"\n",
       "                            OLS Regression Results                            \n",
       "==============================================================================\n",
       "Dep. Variable:             attendance   R-squared:                       0.354\n",
       "Model:                            OLS   Adj. R-squared:                  0.349\n",
       "Method:                 Least Squares   F-statistic:                     62.86\n",
       "Date:                Mon, 02 Nov 2020   Prob (F-statistic):           4.95e-72\n",
       "Time:                        10:42:37   Log-Likelihood:                -8051.8\n",
       "No. Observations:                 810   AIC:                         1.612e+04\n",
       "Df Residuals:                     802   BIC:                         1.616e+04\n",
       "Df Model:                           7                                         \n",
       "Covariance Type:            nonrobust                                         \n",
       "==============================================================================\n",
       "                 coef    std err          t      P>|t|      [0.025      0.975]\n",
       "------------------------------------------------------------------------------\n",
       "Intercept       3e+04    177.321    169.163      0.000    2.96e+04    3.03e+04\n",
       "weekend     2391.3464    186.115     12.849      0.000    2026.016    2756.677\n",
       "NYY         1892.2614    178.107     10.624      0.000    1542.651    2241.872\n",
       "cli         1299.4826    221.301      5.872      0.000     865.085    1733.880\n",
       "rank        -768.1428    222.712     -3.449      0.001   -1205.310    -330.975\n",
       "MIA         -775.6190    178.130     -4.354      0.000   -1125.274    -425.964\n",
       "Friday      1209.3272    186.015      6.501      0.000     844.194    1574.460\n",
       "BOS          397.3612    179.456      2.214      0.027      45.103     749.619\n",
       "==============================================================================\n",
       "Omnibus:                       21.108   Durbin-Watson:                   1.147\n",
       "Prob(Omnibus):                  0.000   Jarque-Bera (JB):               22.384\n",
       "Skew:                           0.404   Prob(JB):                     1.38e-05\n",
       "Kurtosis:                       2.892   Cond. No.                         2.02\n",
       "==============================================================================\n",
       "\n",
       "Warnings:\n",
       "[1] Standard Errors assume that the covariance matrix of the errors is correctly specified.\n",
       "\"\"\""
      ]
     },
     "execution_count": 48,
     "metadata": {},
     "output_type": "execute_result"
    }
   ],
   "source": [
    "from statsmodels.formula.api import ols\n",
    "\n",
    "lr_model = ols(formula='attendance~weekend+NYY+cli+rank+MIA+Friday+BOS', \n",
    "               data=nym_normal).fit()\n",
    "lr_model.summary()"
   ]
  },
  {
   "cell_type": "code",
   "execution_count": 50,
   "metadata": {},
   "outputs": [],
   "source": [
    "# save the split datasets into seprate csv files\n",
    "nym_normal.to_csv('cleaned_mlb.csv', index = False)"
   ]
  }
 ],
 "metadata": {
  "kernelspec": {
   "display_name": "Python 3",
   "language": "python",
   "name": "python3"
  },
  "language_info": {
   "codemirror_mode": {
    "name": "ipython",
    "version": 3
   },
   "file_extension": ".py",
   "mimetype": "text/x-python",
   "name": "python",
   "nbconvert_exporter": "python",
   "pygments_lexer": "ipython3",
   "version": "3.8.3"
  }
 },
 "nbformat": 4,
 "nbformat_minor": 4
}
