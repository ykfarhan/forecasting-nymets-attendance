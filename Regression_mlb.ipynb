{
 "cells": [
  {
   "cell_type": "markdown",
   "metadata": {},
   "source": [
    "# Introduction\n",
    "___\n",
    "* Linear regression modeling in this notebook"
   ]
  },
  {
   "cell_type": "code",
   "execution_count": 1,
   "metadata": {},
   "outputs": [],
   "source": [
    "# import the libraries necessarry for cleaning and eda\n",
    "import numpy as np\n",
    "import pandas as pd\n",
    "import matplotlib.pyplot as plt\n",
    "%matplotlib inline\n",
    "\n",
    "import seaborn as sns\n",
    "sns.set(style='white')\n",
    "plt.style.use('seaborn')\n",
    "\n",
    "pd.set_option('display.max_columns', 100)  # display max rows and columns\n",
    "pd.set_option('display.max_rows', 100)\n",
    "pd.set_option('display.float_format', lambda x: '%.2f' % x)  # avoid outputing scientific notation"
   ]
  },
  {
   "cell_type": "code",
   "execution_count": 2,
   "metadata": {},
   "outputs": [],
   "source": [
    "df = pd.read_csv('cleaned_mlb.csv')"
   ]
  },
  {
   "cell_type": "code",
   "execution_count": 3,
   "metadata": {},
   "outputs": [
    {
     "name": "stdout",
     "output_type": "stream",
     "text": [
      "(810, 51)\n"
     ]
    },
    {
     "data": {
      "text/html": [
       "<div>\n",
       "<style scoped>\n",
       "    .dataframe tbody tr th:only-of-type {\n",
       "        vertical-align: middle;\n",
       "    }\n",
       "\n",
       "    .dataframe tbody tr th {\n",
       "        vertical-align: top;\n",
       "    }\n",
       "\n",
       "    .dataframe thead th {\n",
       "        text-align: right;\n",
       "    }\n",
       "</style>\n",
       "<table border=\"1\" class=\"dataframe\">\n",
       "  <thead>\n",
       "    <tr style=\"text-align: right;\">\n",
       "      <th></th>\n",
       "      <th>rank</th>\n",
       "      <th>games_behind</th>\n",
       "      <th>night_game</th>\n",
       "      <th>attendance</th>\n",
       "      <th>cli</th>\n",
       "      <th>streak</th>\n",
       "      <th>games_left-games_behind</th>\n",
       "      <th>weekend</th>\n",
       "      <th>weekend_x_night</th>\n",
       "      <th>Apr</th>\n",
       "      <th>Aug</th>\n",
       "      <th>Jul</th>\n",
       "      <th>Jun</th>\n",
       "      <th>Mar</th>\n",
       "      <th>May</th>\n",
       "      <th>Oct</th>\n",
       "      <th>Sep</th>\n",
       "      <th>Friday</th>\n",
       "      <th>Monday</th>\n",
       "      <th>Thursday</th>\n",
       "      <th>Tuesday</th>\n",
       "      <th>Wednesday</th>\n",
       "      <th>ARI</th>\n",
       "      <th>ATL</th>\n",
       "      <th>BAL</th>\n",
       "      <th>BOS</th>\n",
       "      <th>CHC</th>\n",
       "      <th>CHW</th>\n",
       "      <th>CIN</th>\n",
       "      <th>CLE</th>\n",
       "      <th>COL</th>\n",
       "      <th>DET</th>\n",
       "      <th>FLA</th>\n",
       "      <th>HOU</th>\n",
       "      <th>KCR</th>\n",
       "      <th>LAA</th>\n",
       "      <th>LAD</th>\n",
       "      <th>MIA</th>\n",
       "      <th>MIL</th>\n",
       "      <th>MIN</th>\n",
       "      <th>NYY</th>\n",
       "      <th>OAK</th>\n",
       "      <th>PHI</th>\n",
       "      <th>PIT</th>\n",
       "      <th>SDP</th>\n",
       "      <th>SFG</th>\n",
       "      <th>STL</th>\n",
       "      <th>TBR</th>\n",
       "      <th>TEX</th>\n",
       "      <th>TOR</th>\n",
       "      <th>WSN</th>\n",
       "    </tr>\n",
       "  </thead>\n",
       "  <tbody>\n",
       "    <tr>\n",
       "      <th>0</th>\n",
       "      <td>-1.88</td>\n",
       "      <td>1.13</td>\n",
       "      <td>-1.41</td>\n",
       "      <td>41245.00</td>\n",
       "      <td>0.73</td>\n",
       "      <td>0.40</td>\n",
       "      <td>1.68</td>\n",
       "      <td>-0.69</td>\n",
       "      <td>-0.36</td>\n",
       "      <td>2.29</td>\n",
       "      <td>-0.47</td>\n",
       "      <td>-0.42</td>\n",
       "      <td>-0.41</td>\n",
       "      <td>-0.06</td>\n",
       "      <td>-0.46</td>\n",
       "      <td>-0.09</td>\n",
       "      <td>-0.46</td>\n",
       "      <td>-0.42</td>\n",
       "      <td>2.96</td>\n",
       "      <td>-0.37</td>\n",
       "      <td>-0.41</td>\n",
       "      <td>-0.42</td>\n",
       "      <td>-0.21</td>\n",
       "      <td>-0.36</td>\n",
       "      <td>-0.09</td>\n",
       "      <td>-0.06</td>\n",
       "      <td>-0.21</td>\n",
       "      <td>-0.08</td>\n",
       "      <td>-0.21</td>\n",
       "      <td>-0.06</td>\n",
       "      <td>-0.21</td>\n",
       "      <td>-0.11</td>\n",
       "      <td>6.63</td>\n",
       "      <td>-0.12</td>\n",
       "      <td>-0.08</td>\n",
       "      <td>-0.09</td>\n",
       "      <td>-0.20</td>\n",
       "      <td>-0.32</td>\n",
       "      <td>-0.20</td>\n",
       "      <td>-0.10</td>\n",
       "      <td>-0.18</td>\n",
       "      <td>-0.10</td>\n",
       "      <td>-0.36</td>\n",
       "      <td>-0.21</td>\n",
       "      <td>-0.20</td>\n",
       "      <td>-0.21</td>\n",
       "      <td>-0.21</td>\n",
       "      <td>-0.06</td>\n",
       "      <td>-0.08</td>\n",
       "      <td>-0.07</td>\n",
       "      <td>-0.37</td>\n",
       "    </tr>\n",
       "    <tr>\n",
       "      <th>1</th>\n",
       "      <td>-0.04</td>\n",
       "      <td>0.99</td>\n",
       "      <td>0.71</td>\n",
       "      <td>38863.00</td>\n",
       "      <td>0.84</td>\n",
       "      <td>-0.39</td>\n",
       "      <td>1.64</td>\n",
       "      <td>-0.69</td>\n",
       "      <td>-0.36</td>\n",
       "      <td>2.29</td>\n",
       "      <td>-0.47</td>\n",
       "      <td>-0.42</td>\n",
       "      <td>-0.41</td>\n",
       "      <td>-0.06</td>\n",
       "      <td>-0.46</td>\n",
       "      <td>-0.09</td>\n",
       "      <td>-0.46</td>\n",
       "      <td>-0.42</td>\n",
       "      <td>-0.34</td>\n",
       "      <td>-0.37</td>\n",
       "      <td>-0.41</td>\n",
       "      <td>2.36</td>\n",
       "      <td>-0.21</td>\n",
       "      <td>-0.36</td>\n",
       "      <td>-0.09</td>\n",
       "      <td>-0.06</td>\n",
       "      <td>-0.21</td>\n",
       "      <td>-0.08</td>\n",
       "      <td>-0.21</td>\n",
       "      <td>-0.06</td>\n",
       "      <td>-0.21</td>\n",
       "      <td>-0.11</td>\n",
       "      <td>6.63</td>\n",
       "      <td>-0.12</td>\n",
       "      <td>-0.08</td>\n",
       "      <td>-0.09</td>\n",
       "      <td>-0.20</td>\n",
       "      <td>-0.32</td>\n",
       "      <td>-0.20</td>\n",
       "      <td>-0.10</td>\n",
       "      <td>-0.18</td>\n",
       "      <td>-0.10</td>\n",
       "      <td>-0.36</td>\n",
       "      <td>-0.21</td>\n",
       "      <td>-0.20</td>\n",
       "      <td>-0.21</td>\n",
       "      <td>-0.21</td>\n",
       "      <td>-0.06</td>\n",
       "      <td>-0.08</td>\n",
       "      <td>-0.07</td>\n",
       "      <td>-0.37</td>\n",
       "    </tr>\n",
       "    <tr>\n",
       "      <th>2</th>\n",
       "      <td>0.89</td>\n",
       "      <td>0.99</td>\n",
       "      <td>0.71</td>\n",
       "      <td>25982.00</td>\n",
       "      <td>0.60</td>\n",
       "      <td>-0.78</td>\n",
       "      <td>1.62</td>\n",
       "      <td>-0.69</td>\n",
       "      <td>-0.36</td>\n",
       "      <td>2.29</td>\n",
       "      <td>-0.47</td>\n",
       "      <td>-0.42</td>\n",
       "      <td>-0.41</td>\n",
       "      <td>-0.06</td>\n",
       "      <td>-0.46</td>\n",
       "      <td>-0.09</td>\n",
       "      <td>-0.46</td>\n",
       "      <td>-0.42</td>\n",
       "      <td>-0.34</td>\n",
       "      <td>2.68</td>\n",
       "      <td>-0.41</td>\n",
       "      <td>-0.42</td>\n",
       "      <td>-0.21</td>\n",
       "      <td>-0.36</td>\n",
       "      <td>-0.09</td>\n",
       "      <td>-0.06</td>\n",
       "      <td>-0.21</td>\n",
       "      <td>-0.08</td>\n",
       "      <td>-0.21</td>\n",
       "      <td>-0.06</td>\n",
       "      <td>-0.21</td>\n",
       "      <td>-0.11</td>\n",
       "      <td>6.63</td>\n",
       "      <td>-0.12</td>\n",
       "      <td>-0.08</td>\n",
       "      <td>-0.09</td>\n",
       "      <td>-0.20</td>\n",
       "      <td>-0.32</td>\n",
       "      <td>-0.20</td>\n",
       "      <td>-0.10</td>\n",
       "      <td>-0.18</td>\n",
       "      <td>-0.10</td>\n",
       "      <td>-0.36</td>\n",
       "      <td>-0.21</td>\n",
       "      <td>-0.20</td>\n",
       "      <td>-0.21</td>\n",
       "      <td>-0.21</td>\n",
       "      <td>-0.06</td>\n",
       "      <td>-0.08</td>\n",
       "      <td>-0.07</td>\n",
       "      <td>-0.37</td>\n",
       "    </tr>\n",
       "    <tr>\n",
       "      <th>3</th>\n",
       "      <td>-0.96</td>\n",
       "      <td>0.99</td>\n",
       "      <td>0.71</td>\n",
       "      <td>28055.00</td>\n",
       "      <td>0.54</td>\n",
       "      <td>0.40</td>\n",
       "      <td>1.60</td>\n",
       "      <td>-0.69</td>\n",
       "      <td>-0.36</td>\n",
       "      <td>2.29</td>\n",
       "      <td>-0.47</td>\n",
       "      <td>-0.42</td>\n",
       "      <td>-0.41</td>\n",
       "      <td>-0.06</td>\n",
       "      <td>-0.46</td>\n",
       "      <td>-0.09</td>\n",
       "      <td>-0.46</td>\n",
       "      <td>2.35</td>\n",
       "      <td>-0.34</td>\n",
       "      <td>-0.37</td>\n",
       "      <td>-0.41</td>\n",
       "      <td>-0.42</td>\n",
       "      <td>-0.21</td>\n",
       "      <td>-0.36</td>\n",
       "      <td>-0.09</td>\n",
       "      <td>-0.06</td>\n",
       "      <td>-0.21</td>\n",
       "      <td>-0.08</td>\n",
       "      <td>-0.21</td>\n",
       "      <td>-0.06</td>\n",
       "      <td>-0.21</td>\n",
       "      <td>-0.11</td>\n",
       "      <td>-0.15</td>\n",
       "      <td>-0.12</td>\n",
       "      <td>-0.08</td>\n",
       "      <td>-0.09</td>\n",
       "      <td>-0.20</td>\n",
       "      <td>-0.32</td>\n",
       "      <td>-0.20</td>\n",
       "      <td>-0.10</td>\n",
       "      <td>-0.18</td>\n",
       "      <td>-0.10</td>\n",
       "      <td>-0.36</td>\n",
       "      <td>-0.21</td>\n",
       "      <td>-0.20</td>\n",
       "      <td>-0.21</td>\n",
       "      <td>-0.21</td>\n",
       "      <td>-0.06</td>\n",
       "      <td>-0.08</td>\n",
       "      <td>-0.07</td>\n",
       "      <td>2.71</td>\n",
       "    </tr>\n",
       "    <tr>\n",
       "      <th>4</th>\n",
       "      <td>0.89</td>\n",
       "      <td>0.86</td>\n",
       "      <td>-1.41</td>\n",
       "      <td>33044.00</td>\n",
       "      <td>0.69</td>\n",
       "      <td>-0.39</td>\n",
       "      <td>1.57</td>\n",
       "      <td>1.45</td>\n",
       "      <td>-0.36</td>\n",
       "      <td>2.29</td>\n",
       "      <td>-0.47</td>\n",
       "      <td>-0.42</td>\n",
       "      <td>-0.41</td>\n",
       "      <td>-0.06</td>\n",
       "      <td>-0.46</td>\n",
       "      <td>-0.09</td>\n",
       "      <td>-0.46</td>\n",
       "      <td>-0.42</td>\n",
       "      <td>-0.34</td>\n",
       "      <td>-0.37</td>\n",
       "      <td>-0.41</td>\n",
       "      <td>-0.42</td>\n",
       "      <td>-0.21</td>\n",
       "      <td>-0.36</td>\n",
       "      <td>-0.09</td>\n",
       "      <td>-0.06</td>\n",
       "      <td>-0.21</td>\n",
       "      <td>-0.08</td>\n",
       "      <td>-0.21</td>\n",
       "      <td>-0.06</td>\n",
       "      <td>-0.21</td>\n",
       "      <td>-0.11</td>\n",
       "      <td>-0.15</td>\n",
       "      <td>-0.12</td>\n",
       "      <td>-0.08</td>\n",
       "      <td>-0.09</td>\n",
       "      <td>-0.20</td>\n",
       "      <td>-0.32</td>\n",
       "      <td>-0.20</td>\n",
       "      <td>-0.10</td>\n",
       "      <td>-0.18</td>\n",
       "      <td>-0.10</td>\n",
       "      <td>-0.36</td>\n",
       "      <td>-0.21</td>\n",
       "      <td>-0.20</td>\n",
       "      <td>-0.21</td>\n",
       "      <td>-0.21</td>\n",
       "      <td>-0.06</td>\n",
       "      <td>-0.08</td>\n",
       "      <td>-0.07</td>\n",
       "      <td>2.71</td>\n",
       "    </tr>\n",
       "  </tbody>\n",
       "</table>\n",
       "</div>"
      ],
      "text/plain": [
       "   rank  games_behind  night_game  attendance  cli  streak  \\\n",
       "0 -1.88          1.13       -1.41    41245.00 0.73    0.40   \n",
       "1 -0.04          0.99        0.71    38863.00 0.84   -0.39   \n",
       "2  0.89          0.99        0.71    25982.00 0.60   -0.78   \n",
       "3 -0.96          0.99        0.71    28055.00 0.54    0.40   \n",
       "4  0.89          0.86       -1.41    33044.00 0.69   -0.39   \n",
       "\n",
       "   games_left-games_behind  weekend  weekend_x_night  Apr   Aug   Jul   Jun  \\\n",
       "0                     1.68    -0.69            -0.36 2.29 -0.47 -0.42 -0.41   \n",
       "1                     1.64    -0.69            -0.36 2.29 -0.47 -0.42 -0.41   \n",
       "2                     1.62    -0.69            -0.36 2.29 -0.47 -0.42 -0.41   \n",
       "3                     1.60    -0.69            -0.36 2.29 -0.47 -0.42 -0.41   \n",
       "4                     1.57     1.45            -0.36 2.29 -0.47 -0.42 -0.41   \n",
       "\n",
       "    Mar   May   Oct   Sep  Friday  Monday  Thursday  Tuesday  Wednesday   ARI  \\\n",
       "0 -0.06 -0.46 -0.09 -0.46   -0.42    2.96     -0.37    -0.41      -0.42 -0.21   \n",
       "1 -0.06 -0.46 -0.09 -0.46   -0.42   -0.34     -0.37    -0.41       2.36 -0.21   \n",
       "2 -0.06 -0.46 -0.09 -0.46   -0.42   -0.34      2.68    -0.41      -0.42 -0.21   \n",
       "3 -0.06 -0.46 -0.09 -0.46    2.35   -0.34     -0.37    -0.41      -0.42 -0.21   \n",
       "4 -0.06 -0.46 -0.09 -0.46   -0.42   -0.34     -0.37    -0.41      -0.42 -0.21   \n",
       "\n",
       "    ATL   BAL   BOS   CHC   CHW   CIN   CLE   COL   DET   FLA   HOU   KCR  \\\n",
       "0 -0.36 -0.09 -0.06 -0.21 -0.08 -0.21 -0.06 -0.21 -0.11  6.63 -0.12 -0.08   \n",
       "1 -0.36 -0.09 -0.06 -0.21 -0.08 -0.21 -0.06 -0.21 -0.11  6.63 -0.12 -0.08   \n",
       "2 -0.36 -0.09 -0.06 -0.21 -0.08 -0.21 -0.06 -0.21 -0.11  6.63 -0.12 -0.08   \n",
       "3 -0.36 -0.09 -0.06 -0.21 -0.08 -0.21 -0.06 -0.21 -0.11 -0.15 -0.12 -0.08   \n",
       "4 -0.36 -0.09 -0.06 -0.21 -0.08 -0.21 -0.06 -0.21 -0.11 -0.15 -0.12 -0.08   \n",
       "\n",
       "    LAA   LAD   MIA   MIL   MIN   NYY   OAK   PHI   PIT   SDP   SFG   STL  \\\n",
       "0 -0.09 -0.20 -0.32 -0.20 -0.10 -0.18 -0.10 -0.36 -0.21 -0.20 -0.21 -0.21   \n",
       "1 -0.09 -0.20 -0.32 -0.20 -0.10 -0.18 -0.10 -0.36 -0.21 -0.20 -0.21 -0.21   \n",
       "2 -0.09 -0.20 -0.32 -0.20 -0.10 -0.18 -0.10 -0.36 -0.21 -0.20 -0.21 -0.21   \n",
       "3 -0.09 -0.20 -0.32 -0.20 -0.10 -0.18 -0.10 -0.36 -0.21 -0.20 -0.21 -0.21   \n",
       "4 -0.09 -0.20 -0.32 -0.20 -0.10 -0.18 -0.10 -0.36 -0.21 -0.20 -0.21 -0.21   \n",
       "\n",
       "    TBR   TEX   TOR   WSN  \n",
       "0 -0.06 -0.08 -0.07 -0.37  \n",
       "1 -0.06 -0.08 -0.07 -0.37  \n",
       "2 -0.06 -0.08 -0.07 -0.37  \n",
       "3 -0.06 -0.08 -0.07  2.71  \n",
       "4 -0.06 -0.08 -0.07  2.71  "
      ]
     },
     "execution_count": 3,
     "metadata": {},
     "output_type": "execute_result"
    }
   ],
   "source": [
    "print(df.shape)\n",
    "df.head()"
   ]
  },
  {
   "cell_type": "code",
   "execution_count": 210,
   "metadata": {},
   "outputs": [
    {
     "data": {
      "text/plain": [
       "29996.107407407406"
      ]
     },
     "execution_count": 210,
     "metadata": {},
     "output_type": "execute_result"
    }
   ],
   "source": [
    "df.attendance.mean()"
   ]
  },
  {
   "cell_type": "code",
   "execution_count": 165,
   "metadata": {},
   "outputs": [],
   "source": [
    "# split the set in a 8:2 seasons ratio\n",
    "train_set = df[:729]\n",
    "test_set = df[729:]"
   ]
  },
  {
   "cell_type": "markdown",
   "metadata": {},
   "source": [
    "## Train-Test Split\n",
    "___"
   ]
  },
  {
   "cell_type": "code",
   "execution_count": 171,
   "metadata": {},
   "outputs": [],
   "source": [
    "from sklearn.metrics import mean_squared_error, mean_absolute_error\n",
    "from sklearn import linear_model\n",
    "from sklearn.linear_model import LinearRegression\n",
    "from sklearn.model_selection import train_test_split\n",
    "from sklearn.preprocessing import PolynomialFeatures"
   ]
  },
  {
   "cell_type": "code",
   "execution_count": 172,
   "metadata": {},
   "outputs": [],
   "source": [
    "target = train_set['attendance']\n",
    "features = train_set.drop(columns= 'attendance')"
   ]
  },
  {
   "cell_type": "code",
   "execution_count": 173,
   "metadata": {},
   "outputs": [
    {
     "data": {
      "text/plain": [
       "(729, 50)"
      ]
     },
     "execution_count": 173,
     "metadata": {},
     "output_type": "execute_result"
    }
   ],
   "source": [
    "features.shape"
   ]
  },
  {
   "cell_type": "code",
   "execution_count": 174,
   "metadata": {},
   "outputs": [
    {
     "name": "stdout",
     "output_type": "stream",
     "text": [
      "Average attendance for 8 seasons is: 29937\n"
     ]
    },
    {
     "data": {
      "text/plain": [
       "(729,)"
      ]
     },
     "execution_count": 174,
     "metadata": {},
     "output_type": "execute_result"
    }
   ],
   "source": [
    "print('Average attendance for 8 seasons is:', int(target.mean()))\n",
    "target.shape"
   ]
  },
  {
   "cell_type": "code",
   "execution_count": 175,
   "metadata": {},
   "outputs": [],
   "source": [
    "X_train, X_test, y_train, y_test = train_test_split(features, target, random_state=9,test_size=0.20)"
   ]
  },
  {
   "cell_type": "code",
   "execution_count": 176,
   "metadata": {},
   "outputs": [
    {
     "data": {
      "text/plain": [
       "(583, 50)"
      ]
     },
     "execution_count": 176,
     "metadata": {},
     "output_type": "execute_result"
    }
   ],
   "source": [
    "X_train.shape"
   ]
  },
  {
   "cell_type": "markdown",
   "metadata": {},
   "source": [
    "## Modelling Process\n",
    "____"
   ]
  },
  {
   "cell_type": "markdown",
   "metadata": {},
   "source": [
    "### Dummy Regressor"
   ]
  },
  {
   "cell_type": "code",
   "execution_count": 177,
   "metadata": {},
   "outputs": [],
   "source": [
    "from sklearn.dummy import DummyRegressor\n",
    "\n",
    "dummy = DummyRegressor()"
   ]
  },
  {
   "cell_type": "code",
   "execution_count": 178,
   "metadata": {},
   "outputs": [
    {
     "name": "stdout",
     "output_type": "stream",
     "text": [
      "Testing RMSE: 5987\n"
     ]
    }
   ],
   "source": [
    "dummy.fit(X_train, y_train)\n",
    "\n",
    "dummy_preds_test = dummy.predict(X_test)\n",
    "\n",
    "dummy_test_rmse = np.sqrt(mean_squared_error(y_test, dummy_preds_test))\n",
    "\n",
    "print('Testing RMSE:' , int(dummy_test_rmse))"
   ]
  },
  {
   "cell_type": "markdown",
   "metadata": {},
   "source": [
    "## Linear Regression"
   ]
  },
  {
   "cell_type": "code",
   "execution_count": 179,
   "metadata": {},
   "outputs": [
    {
     "name": "stdout",
     "output_type": "stream",
     "text": [
      "Training RMSE: 4561\n",
      "Testing RMSE: 4763\n"
     ]
    }
   ],
   "source": [
    "#instantiate a linear regression object\n",
    "lm = LinearRegression()\n",
    "\n",
    "#fit the linear regression to the data\n",
    "lm = lm.fit(X_train, y_train)\n",
    "\n",
    "y_train_pred = lm.predict(X_train)\n",
    "#use fitted model to predict on the test examples\n",
    "y_test_pred = lm.predict(X_test)\n",
    "\n",
    "train_rmse = np.sqrt(mean_squared_error(y_train, y_train_pred))\n",
    "#evaluate the predictions on the test examples\n",
    "test_rmse = np.sqrt(mean_squared_error(y_test, y_test_pred))\n",
    "\n",
    "print('Training RMSE:' , int(train_rmse))\n",
    "print('Testing RMSE:' , int(test_rmse))"
   ]
  },
  {
   "cell_type": "code",
   "execution_count": 180,
   "metadata": {},
   "outputs": [
    {
     "data": {
      "text/plain": [
       "{'Linear Regression': 4763.057814075711}"
      ]
     },
     "execution_count": 180,
     "metadata": {},
     "output_type": "execute_result"
    }
   ],
   "source": [
    "rmse_dict = {'Linear Regression': test_rmse}\n",
    "rmse_dict"
   ]
  },
  {
   "cell_type": "code",
   "execution_count": 181,
   "metadata": {},
   "outputs": [
    {
     "data": {
      "image/png": "[encoded data removed]",
      "text/plain": [
       "<Figure size 576x396 with 1 Axes>"
      ]
     },
     "metadata": {},
     "output_type": "display_data"
    }
   ],
   "source": [
    "sns.residplot( y_test, y_test_pred,lowess=True, color= 'red')\n",
    "plt.show()"
   ]
  },
  {
   "cell_type": "markdown",
   "metadata": {},
   "source": [
    "### K-Best Model"
   ]
  },
  {
   "cell_type": "code",
   "execution_count": 182,
   "metadata": {},
   "outputs": [
    {
     "name": "stderr",
     "output_type": "stream",
     "text": [
      "/Users/farhan/opt/anaconda3/lib/python3.8/site-packages/sklearn/feature_selection/_univariate_selection.py:295: RuntimeWarning: invalid value encountered in sqrt\n",
      "  X_norms = np.sqrt(row_norms(X.T, squared=True) -\n",
      "/Users/farhan/opt/anaconda3/lib/python3.8/site-packages/scipy/stats/_distn_infrastructure.py:1932: RuntimeWarning: invalid value encountered in less_equal\n",
      "  cond2 = cond0 & (x <= _a)\n"
     ]
    },
    {
     "data": {
      "text/plain": [
       "SelectKBest(k=25, score_func=<function f_regression at 0x7fa837351790>)"
      ]
     },
     "execution_count": 182,
     "metadata": {},
     "output_type": "execute_result"
    }
   ],
   "source": [
    "from sklearn.feature_selection import SelectKBest, f_regression,mutual_info_regression\n",
    "\n",
    "selector = SelectKBest(f_regression, k=25)\n",
    "\n",
    "selector.fit(X_train, y_train)"
   ]
  },
  {
   "cell_type": "code",
   "execution_count": 183,
   "metadata": {},
   "outputs": [],
   "source": [
    "selected_columns = X_train.columns[selector.get_support()]\n",
    "removed_columns = X_train.columns[~selector.get_support()]"
   ]
  },
  {
   "cell_type": "code",
   "execution_count": 184,
   "metadata": {},
   "outputs": [
    {
     "name": "stdout",
     "output_type": "stream",
     "text": [
      "Index(['streak', 'Aug', 'May', 'ARI', 'BAL', 'CHC', 'CHW', 'CLE', 'COL', 'DET',\n",
      "       'FLA', 'HOU', 'KCR', 'MIL', 'MIN', 'OAK', 'PHI', 'PIT', 'SDP', 'SFG',\n",
      "       'STL', 'TBR', 'TEX', 'TOR', 'WSN'],\n",
      "      dtype='object')\n"
     ]
    }
   ],
   "source": [
    "print(removed_columns)"
   ]
  },
  {
   "cell_type": "code",
   "execution_count": 185,
   "metadata": {},
   "outputs": [
    {
     "name": "stdout",
     "output_type": "stream",
     "text": [
      "Index(['rank', 'games_behind', 'night_game', 'cli', 'games_left-games_behind',\n",
      "       'weekend', 'weekend_x_night', 'Apr', 'Jul', 'Jun', 'Mar', 'Oct', 'Sep',\n",
      "       'Friday', 'Monday', 'Thursday', 'Tuesday', 'Wednesday', 'ATL', 'BOS',\n",
      "       'CIN', 'LAA', 'LAD', 'MIA', 'NYY'],\n",
      "      dtype='object')\n"
     ]
    }
   ],
   "source": [
    "print(selected_columns)"
   ]
  },
  {
   "cell_type": "code",
   "execution_count": 186,
   "metadata": {},
   "outputs": [
    {
     "name": "stdout",
     "output_type": "stream",
     "text": [
      "Training RMSE: 4657\n",
      "Testing RMSE: 4691\n"
     ]
    }
   ],
   "source": [
    "lm_kbest = LinearRegression()\n",
    "\n",
    "lm_kbest = lm_kbest.fit(X_train[selected_columns], y_train)  #fit the linear regression to the data\n",
    "\n",
    "train_kbest = lm_kbest.predict(X_train[selected_columns])  # predict on the train and test k-best\n",
    "test_kbest = lm_kbest.predict(X_test[selected_columns])\n",
    "\n",
    "trainK_rmse = np.sqrt(mean_squared_error(y_train, train_kbest))  # calculate the train-test RMSE\n",
    "testK_rmse = np.sqrt(mean_squared_error(y_test, test_kbest))\n",
    "\n",
    "print('Training RMSE:' , int(trainK_rmse))\n",
    "print('Testing RMSE:' , int(testK_rmse))"
   ]
  },
  {
   "cell_type": "code",
   "execution_count": 187,
   "metadata": {},
   "outputs": [
    {
     "name": "stdout",
     "output_type": "stream",
     "text": [
      "Testing MAE: 3815\n"
     ]
    }
   ],
   "source": [
    "print('Testing MAE:' , int(mean_absolute_error(y_test, test_kbest)))"
   ]
  },
  {
   "cell_type": "code",
   "execution_count": 188,
   "metadata": {},
   "outputs": [
    {
     "data": {
      "text/plain": [
       "{'Linear Regression': 4763.057814075711, 'k-Best': 4691.093170985697}"
      ]
     },
     "execution_count": 188,
     "metadata": {},
     "output_type": "execute_result"
    }
   ],
   "source": [
    "rmse_dict['k-Best'] = testK_rmse\n",
    "rmse_dict"
   ]
  },
  {
   "cell_type": "markdown",
   "metadata": {},
   "source": [
    "## Polynomial Features\n"
   ]
  },
  {
   "cell_type": "code",
   "execution_count": 189,
   "metadata": {},
   "outputs": [
    {
     "data": {
      "text/html": [
       "<div>\n",
       "<style scoped>\n",
       "    .dataframe tbody tr th:only-of-type {\n",
       "        vertical-align: middle;\n",
       "    }\n",
       "\n",
       "    .dataframe tbody tr th {\n",
       "        vertical-align: top;\n",
       "    }\n",
       "\n",
       "    .dataframe thead th {\n",
       "        text-align: right;\n",
       "    }\n",
       "</style>\n",
       "<table border=\"1\" class=\"dataframe\">\n",
       "  <thead>\n",
       "    <tr style=\"text-align: right;\">\n",
       "      <th></th>\n",
       "      <th>rank</th>\n",
       "      <th>games_behind</th>\n",
       "      <th>night_game</th>\n",
       "      <th>cli</th>\n",
       "      <th>streak</th>\n",
       "      <th>games_left-games_behind</th>\n",
       "      <th>weekend</th>\n",
       "      <th>weekend_x_night</th>\n",
       "      <th>Apr</th>\n",
       "      <th>Aug</th>\n",
       "      <th>Jul</th>\n",
       "      <th>Jun</th>\n",
       "      <th>Mar</th>\n",
       "      <th>May</th>\n",
       "      <th>Oct</th>\n",
       "      <th>Sep</th>\n",
       "      <th>Friday</th>\n",
       "      <th>Monday</th>\n",
       "      <th>Thursday</th>\n",
       "      <th>Tuesday</th>\n",
       "      <th>Wednesday</th>\n",
       "      <th>ARI</th>\n",
       "      <th>ATL</th>\n",
       "      <th>BAL</th>\n",
       "      <th>BOS</th>\n",
       "      <th>CHC</th>\n",
       "      <th>CHW</th>\n",
       "      <th>CIN</th>\n",
       "      <th>CLE</th>\n",
       "      <th>COL</th>\n",
       "      <th>DET</th>\n",
       "      <th>FLA</th>\n",
       "      <th>HOU</th>\n",
       "      <th>KCR</th>\n",
       "      <th>LAA</th>\n",
       "      <th>LAD</th>\n",
       "      <th>MIA</th>\n",
       "      <th>MIL</th>\n",
       "      <th>MIN</th>\n",
       "      <th>NYY</th>\n",
       "      <th>OAK</th>\n",
       "      <th>PHI</th>\n",
       "      <th>PIT</th>\n",
       "      <th>SDP</th>\n",
       "      <th>SFG</th>\n",
       "      <th>STL</th>\n",
       "      <th>TBR</th>\n",
       "      <th>TEX</th>\n",
       "      <th>TOR</th>\n",
       "      <th>WSN</th>\n",
       "      <th>...</th>\n",
       "      <th>OAK STL</th>\n",
       "      <th>OAK TBR</th>\n",
       "      <th>OAK TEX</th>\n",
       "      <th>OAK TOR</th>\n",
       "      <th>OAK WSN</th>\n",
       "      <th>PHI^2</th>\n",
       "      <th>PHI PIT</th>\n",
       "      <th>PHI SDP</th>\n",
       "      <th>PHI SFG</th>\n",
       "      <th>PHI STL</th>\n",
       "      <th>PHI TBR</th>\n",
       "      <th>PHI TEX</th>\n",
       "      <th>PHI TOR</th>\n",
       "      <th>PHI WSN</th>\n",
       "      <th>PIT^2</th>\n",
       "      <th>PIT SDP</th>\n",
       "      <th>PIT SFG</th>\n",
       "      <th>PIT STL</th>\n",
       "      <th>PIT TBR</th>\n",
       "      <th>PIT TEX</th>\n",
       "      <th>PIT TOR</th>\n",
       "      <th>PIT WSN</th>\n",
       "      <th>SDP^2</th>\n",
       "      <th>SDP SFG</th>\n",
       "      <th>SDP STL</th>\n",
       "      <th>SDP TBR</th>\n",
       "      <th>SDP TEX</th>\n",
       "      <th>SDP TOR</th>\n",
       "      <th>SDP WSN</th>\n",
       "      <th>SFG^2</th>\n",
       "      <th>SFG STL</th>\n",
       "      <th>SFG TBR</th>\n",
       "      <th>SFG TEX</th>\n",
       "      <th>SFG TOR</th>\n",
       "      <th>SFG WSN</th>\n",
       "      <th>STL^2</th>\n",
       "      <th>STL TBR</th>\n",
       "      <th>STL TEX</th>\n",
       "      <th>STL TOR</th>\n",
       "      <th>STL WSN</th>\n",
       "      <th>TBR^2</th>\n",
       "      <th>TBR TEX</th>\n",
       "      <th>TBR TOR</th>\n",
       "      <th>TBR WSN</th>\n",
       "      <th>TEX^2</th>\n",
       "      <th>TEX TOR</th>\n",
       "      <th>TEX WSN</th>\n",
       "      <th>TOR^2</th>\n",
       "      <th>TOR WSN</th>\n",
       "      <th>WSN^2</th>\n",
       "    </tr>\n",
       "  </thead>\n",
       "  <tbody>\n",
       "    <tr>\n",
       "      <th>0</th>\n",
       "      <td>-1.88</td>\n",
       "      <td>1.13</td>\n",
       "      <td>-1.41</td>\n",
       "      <td>0.73</td>\n",
       "      <td>0.40</td>\n",
       "      <td>1.68</td>\n",
       "      <td>-0.69</td>\n",
       "      <td>-0.36</td>\n",
       "      <td>2.29</td>\n",
       "      <td>-0.47</td>\n",
       "      <td>-0.42</td>\n",
       "      <td>-0.41</td>\n",
       "      <td>-0.06</td>\n",
       "      <td>-0.46</td>\n",
       "      <td>-0.09</td>\n",
       "      <td>-0.46</td>\n",
       "      <td>-0.42</td>\n",
       "      <td>2.96</td>\n",
       "      <td>-0.37</td>\n",
       "      <td>-0.41</td>\n",
       "      <td>-0.42</td>\n",
       "      <td>-0.21</td>\n",
       "      <td>-0.36</td>\n",
       "      <td>-0.09</td>\n",
       "      <td>-0.06</td>\n",
       "      <td>-0.21</td>\n",
       "      <td>-0.08</td>\n",
       "      <td>-0.21</td>\n",
       "      <td>-0.06</td>\n",
       "      <td>-0.21</td>\n",
       "      <td>-0.11</td>\n",
       "      <td>6.63</td>\n",
       "      <td>-0.12</td>\n",
       "      <td>-0.08</td>\n",
       "      <td>-0.09</td>\n",
       "      <td>-0.20</td>\n",
       "      <td>-0.32</td>\n",
       "      <td>-0.20</td>\n",
       "      <td>-0.10</td>\n",
       "      <td>-0.18</td>\n",
       "      <td>-0.10</td>\n",
       "      <td>-0.36</td>\n",
       "      <td>-0.21</td>\n",
       "      <td>-0.20</td>\n",
       "      <td>-0.21</td>\n",
       "      <td>-0.21</td>\n",
       "      <td>-0.06</td>\n",
       "      <td>-0.08</td>\n",
       "      <td>-0.07</td>\n",
       "      <td>-0.37</td>\n",
       "      <td>...</td>\n",
       "      <td>0.02</td>\n",
       "      <td>0.01</td>\n",
       "      <td>0.01</td>\n",
       "      <td>0.01</td>\n",
       "      <td>0.04</td>\n",
       "      <td>0.13</td>\n",
       "      <td>0.07</td>\n",
       "      <td>0.07</td>\n",
       "      <td>0.07</td>\n",
       "      <td>0.08</td>\n",
       "      <td>0.02</td>\n",
       "      <td>0.03</td>\n",
       "      <td>0.03</td>\n",
       "      <td>0.13</td>\n",
       "      <td>0.04</td>\n",
       "      <td>0.04</td>\n",
       "      <td>0.04</td>\n",
       "      <td>0.04</td>\n",
       "      <td>0.01</td>\n",
       "      <td>0.02</td>\n",
       "      <td>0.01</td>\n",
       "      <td>0.08</td>\n",
       "      <td>0.04</td>\n",
       "      <td>0.04</td>\n",
       "      <td>0.04</td>\n",
       "      <td>0.01</td>\n",
       "      <td>0.02</td>\n",
       "      <td>0.01</td>\n",
       "      <td>0.07</td>\n",
       "      <td>0.04</td>\n",
       "      <td>0.04</td>\n",
       "      <td>0.01</td>\n",
       "      <td>0.02</td>\n",
       "      <td>0.01</td>\n",
       "      <td>0.08</td>\n",
       "      <td>0.05</td>\n",
       "      <td>0.01</td>\n",
       "      <td>0.02</td>\n",
       "      <td>0.01</td>\n",
       "      <td>0.08</td>\n",
       "      <td>0.00</td>\n",
       "      <td>0.00</td>\n",
       "      <td>0.00</td>\n",
       "      <td>0.02</td>\n",
       "      <td>0.01</td>\n",
       "      <td>0.01</td>\n",
       "      <td>0.03</td>\n",
       "      <td>0.00</td>\n",
       "      <td>0.03</td>\n",
       "      <td>0.14</td>\n",
       "    </tr>\n",
       "    <tr>\n",
       "      <th>1</th>\n",
       "      <td>-0.04</td>\n",
       "      <td>0.99</td>\n",
       "      <td>0.71</td>\n",
       "      <td>0.84</td>\n",
       "      <td>-0.39</td>\n",
       "      <td>1.64</td>\n",
       "      <td>-0.69</td>\n",
       "      <td>-0.36</td>\n",
       "      <td>2.29</td>\n",
       "      <td>-0.47</td>\n",
       "      <td>-0.42</td>\n",
       "      <td>-0.41</td>\n",
       "      <td>-0.06</td>\n",
       "      <td>-0.46</td>\n",
       "      <td>-0.09</td>\n",
       "      <td>-0.46</td>\n",
       "      <td>-0.42</td>\n",
       "      <td>-0.34</td>\n",
       "      <td>-0.37</td>\n",
       "      <td>-0.41</td>\n",
       "      <td>2.36</td>\n",
       "      <td>-0.21</td>\n",
       "      <td>-0.36</td>\n",
       "      <td>-0.09</td>\n",
       "      <td>-0.06</td>\n",
       "      <td>-0.21</td>\n",
       "      <td>-0.08</td>\n",
       "      <td>-0.21</td>\n",
       "      <td>-0.06</td>\n",
       "      <td>-0.21</td>\n",
       "      <td>-0.11</td>\n",
       "      <td>6.63</td>\n",
       "      <td>-0.12</td>\n",
       "      <td>-0.08</td>\n",
       "      <td>-0.09</td>\n",
       "      <td>-0.20</td>\n",
       "      <td>-0.32</td>\n",
       "      <td>-0.20</td>\n",
       "      <td>-0.10</td>\n",
       "      <td>-0.18</td>\n",
       "      <td>-0.10</td>\n",
       "      <td>-0.36</td>\n",
       "      <td>-0.21</td>\n",
       "      <td>-0.20</td>\n",
       "      <td>-0.21</td>\n",
       "      <td>-0.21</td>\n",
       "      <td>-0.06</td>\n",
       "      <td>-0.08</td>\n",
       "      <td>-0.07</td>\n",
       "      <td>-0.37</td>\n",
       "      <td>...</td>\n",
       "      <td>0.02</td>\n",
       "      <td>0.01</td>\n",
       "      <td>0.01</td>\n",
       "      <td>0.01</td>\n",
       "      <td>0.04</td>\n",
       "      <td>0.13</td>\n",
       "      <td>0.07</td>\n",
       "      <td>0.07</td>\n",
       "      <td>0.07</td>\n",
       "      <td>0.08</td>\n",
       "      <td>0.02</td>\n",
       "      <td>0.03</td>\n",
       "      <td>0.03</td>\n",
       "      <td>0.13</td>\n",
       "      <td>0.04</td>\n",
       "      <td>0.04</td>\n",
       "      <td>0.04</td>\n",
       "      <td>0.04</td>\n",
       "      <td>0.01</td>\n",
       "      <td>0.02</td>\n",
       "      <td>0.01</td>\n",
       "      <td>0.08</td>\n",
       "      <td>0.04</td>\n",
       "      <td>0.04</td>\n",
       "      <td>0.04</td>\n",
       "      <td>0.01</td>\n",
       "      <td>0.02</td>\n",
       "      <td>0.01</td>\n",
       "      <td>0.07</td>\n",
       "      <td>0.04</td>\n",
       "      <td>0.04</td>\n",
       "      <td>0.01</td>\n",
       "      <td>0.02</td>\n",
       "      <td>0.01</td>\n",
       "      <td>0.08</td>\n",
       "      <td>0.05</td>\n",
       "      <td>0.01</td>\n",
       "      <td>0.02</td>\n",
       "      <td>0.01</td>\n",
       "      <td>0.08</td>\n",
       "      <td>0.00</td>\n",
       "      <td>0.00</td>\n",
       "      <td>0.00</td>\n",
       "      <td>0.02</td>\n",
       "      <td>0.01</td>\n",
       "      <td>0.01</td>\n",
       "      <td>0.03</td>\n",
       "      <td>0.00</td>\n",
       "      <td>0.03</td>\n",
       "      <td>0.14</td>\n",
       "    </tr>\n",
       "    <tr>\n",
       "      <th>2</th>\n",
       "      <td>0.89</td>\n",
       "      <td>0.99</td>\n",
       "      <td>0.71</td>\n",
       "      <td>0.60</td>\n",
       "      <td>-0.78</td>\n",
       "      <td>1.62</td>\n",
       "      <td>-0.69</td>\n",
       "      <td>-0.36</td>\n",
       "      <td>2.29</td>\n",
       "      <td>-0.47</td>\n",
       "      <td>-0.42</td>\n",
       "      <td>-0.41</td>\n",
       "      <td>-0.06</td>\n",
       "      <td>-0.46</td>\n",
       "      <td>-0.09</td>\n",
       "      <td>-0.46</td>\n",
       "      <td>-0.42</td>\n",
       "      <td>-0.34</td>\n",
       "      <td>2.68</td>\n",
       "      <td>-0.41</td>\n",
       "      <td>-0.42</td>\n",
       "      <td>-0.21</td>\n",
       "      <td>-0.36</td>\n",
       "      <td>-0.09</td>\n",
       "      <td>-0.06</td>\n",
       "      <td>-0.21</td>\n",
       "      <td>-0.08</td>\n",
       "      <td>-0.21</td>\n",
       "      <td>-0.06</td>\n",
       "      <td>-0.21</td>\n",
       "      <td>-0.11</td>\n",
       "      <td>6.63</td>\n",
       "      <td>-0.12</td>\n",
       "      <td>-0.08</td>\n",
       "      <td>-0.09</td>\n",
       "      <td>-0.20</td>\n",
       "      <td>-0.32</td>\n",
       "      <td>-0.20</td>\n",
       "      <td>-0.10</td>\n",
       "      <td>-0.18</td>\n",
       "      <td>-0.10</td>\n",
       "      <td>-0.36</td>\n",
       "      <td>-0.21</td>\n",
       "      <td>-0.20</td>\n",
       "      <td>-0.21</td>\n",
       "      <td>-0.21</td>\n",
       "      <td>-0.06</td>\n",
       "      <td>-0.08</td>\n",
       "      <td>-0.07</td>\n",
       "      <td>-0.37</td>\n",
       "      <td>...</td>\n",
       "      <td>0.02</td>\n",
       "      <td>0.01</td>\n",
       "      <td>0.01</td>\n",
       "      <td>0.01</td>\n",
       "      <td>0.04</td>\n",
       "      <td>0.13</td>\n",
       "      <td>0.07</td>\n",
       "      <td>0.07</td>\n",
       "      <td>0.07</td>\n",
       "      <td>0.08</td>\n",
       "      <td>0.02</td>\n",
       "      <td>0.03</td>\n",
       "      <td>0.03</td>\n",
       "      <td>0.13</td>\n",
       "      <td>0.04</td>\n",
       "      <td>0.04</td>\n",
       "      <td>0.04</td>\n",
       "      <td>0.04</td>\n",
       "      <td>0.01</td>\n",
       "      <td>0.02</td>\n",
       "      <td>0.01</td>\n",
       "      <td>0.08</td>\n",
       "      <td>0.04</td>\n",
       "      <td>0.04</td>\n",
       "      <td>0.04</td>\n",
       "      <td>0.01</td>\n",
       "      <td>0.02</td>\n",
       "      <td>0.01</td>\n",
       "      <td>0.07</td>\n",
       "      <td>0.04</td>\n",
       "      <td>0.04</td>\n",
       "      <td>0.01</td>\n",
       "      <td>0.02</td>\n",
       "      <td>0.01</td>\n",
       "      <td>0.08</td>\n",
       "      <td>0.05</td>\n",
       "      <td>0.01</td>\n",
       "      <td>0.02</td>\n",
       "      <td>0.01</td>\n",
       "      <td>0.08</td>\n",
       "      <td>0.00</td>\n",
       "      <td>0.00</td>\n",
       "      <td>0.00</td>\n",
       "      <td>0.02</td>\n",
       "      <td>0.01</td>\n",
       "      <td>0.01</td>\n",
       "      <td>0.03</td>\n",
       "      <td>0.00</td>\n",
       "      <td>0.03</td>\n",
       "      <td>0.14</td>\n",
       "    </tr>\n",
       "    <tr>\n",
       "      <th>3</th>\n",
       "      <td>-0.96</td>\n",
       "      <td>0.99</td>\n",
       "      <td>0.71</td>\n",
       "      <td>0.54</td>\n",
       "      <td>0.40</td>\n",
       "      <td>1.60</td>\n",
       "      <td>-0.69</td>\n",
       "      <td>-0.36</td>\n",
       "      <td>2.29</td>\n",
       "      <td>-0.47</td>\n",
       "      <td>-0.42</td>\n",
       "      <td>-0.41</td>\n",
       "      <td>-0.06</td>\n",
       "      <td>-0.46</td>\n",
       "      <td>-0.09</td>\n",
       "      <td>-0.46</td>\n",
       "      <td>2.35</td>\n",
       "      <td>-0.34</td>\n",
       "      <td>-0.37</td>\n",
       "      <td>-0.41</td>\n",
       "      <td>-0.42</td>\n",
       "      <td>-0.21</td>\n",
       "      <td>-0.36</td>\n",
       "      <td>-0.09</td>\n",
       "      <td>-0.06</td>\n",
       "      <td>-0.21</td>\n",
       "      <td>-0.08</td>\n",
       "      <td>-0.21</td>\n",
       "      <td>-0.06</td>\n",
       "      <td>-0.21</td>\n",
       "      <td>-0.11</td>\n",
       "      <td>-0.15</td>\n",
       "      <td>-0.12</td>\n",
       "      <td>-0.08</td>\n",
       "      <td>-0.09</td>\n",
       "      <td>-0.20</td>\n",
       "      <td>-0.32</td>\n",
       "      <td>-0.20</td>\n",
       "      <td>-0.10</td>\n",
       "      <td>-0.18</td>\n",
       "      <td>-0.10</td>\n",
       "      <td>-0.36</td>\n",
       "      <td>-0.21</td>\n",
       "      <td>-0.20</td>\n",
       "      <td>-0.21</td>\n",
       "      <td>-0.21</td>\n",
       "      <td>-0.06</td>\n",
       "      <td>-0.08</td>\n",
       "      <td>-0.07</td>\n",
       "      <td>2.71</td>\n",
       "      <td>...</td>\n",
       "      <td>0.02</td>\n",
       "      <td>0.01</td>\n",
       "      <td>0.01</td>\n",
       "      <td>0.01</td>\n",
       "      <td>-0.27</td>\n",
       "      <td>0.13</td>\n",
       "      <td>0.07</td>\n",
       "      <td>0.07</td>\n",
       "      <td>0.07</td>\n",
       "      <td>0.08</td>\n",
       "      <td>0.02</td>\n",
       "      <td>0.03</td>\n",
       "      <td>0.03</td>\n",
       "      <td>-0.97</td>\n",
       "      <td>0.04</td>\n",
       "      <td>0.04</td>\n",
       "      <td>0.04</td>\n",
       "      <td>0.04</td>\n",
       "      <td>0.01</td>\n",
       "      <td>0.02</td>\n",
       "      <td>0.01</td>\n",
       "      <td>-0.57</td>\n",
       "      <td>0.04</td>\n",
       "      <td>0.04</td>\n",
       "      <td>0.04</td>\n",
       "      <td>0.01</td>\n",
       "      <td>0.02</td>\n",
       "      <td>0.01</td>\n",
       "      <td>-0.55</td>\n",
       "      <td>0.04</td>\n",
       "      <td>0.04</td>\n",
       "      <td>0.01</td>\n",
       "      <td>0.02</td>\n",
       "      <td>0.01</td>\n",
       "      <td>-0.56</td>\n",
       "      <td>0.05</td>\n",
       "      <td>0.01</td>\n",
       "      <td>0.02</td>\n",
       "      <td>0.01</td>\n",
       "      <td>-0.58</td>\n",
       "      <td>0.00</td>\n",
       "      <td>0.00</td>\n",
       "      <td>0.00</td>\n",
       "      <td>-0.17</td>\n",
       "      <td>0.01</td>\n",
       "      <td>0.01</td>\n",
       "      <td>-0.21</td>\n",
       "      <td>0.00</td>\n",
       "      <td>-0.19</td>\n",
       "      <td>7.34</td>\n",
       "    </tr>\n",
       "    <tr>\n",
       "      <th>4</th>\n",
       "      <td>0.89</td>\n",
       "      <td>0.86</td>\n",
       "      <td>-1.41</td>\n",
       "      <td>0.69</td>\n",
       "      <td>-0.39</td>\n",
       "      <td>1.57</td>\n",
       "      <td>1.45</td>\n",
       "      <td>-0.36</td>\n",
       "      <td>2.29</td>\n",
       "      <td>-0.47</td>\n",
       "      <td>-0.42</td>\n",
       "      <td>-0.41</td>\n",
       "      <td>-0.06</td>\n",
       "      <td>-0.46</td>\n",
       "      <td>-0.09</td>\n",
       "      <td>-0.46</td>\n",
       "      <td>-0.42</td>\n",
       "      <td>-0.34</td>\n",
       "      <td>-0.37</td>\n",
       "      <td>-0.41</td>\n",
       "      <td>-0.42</td>\n",
       "      <td>-0.21</td>\n",
       "      <td>-0.36</td>\n",
       "      <td>-0.09</td>\n",
       "      <td>-0.06</td>\n",
       "      <td>-0.21</td>\n",
       "      <td>-0.08</td>\n",
       "      <td>-0.21</td>\n",
       "      <td>-0.06</td>\n",
       "      <td>-0.21</td>\n",
       "      <td>-0.11</td>\n",
       "      <td>-0.15</td>\n",
       "      <td>-0.12</td>\n",
       "      <td>-0.08</td>\n",
       "      <td>-0.09</td>\n",
       "      <td>-0.20</td>\n",
       "      <td>-0.32</td>\n",
       "      <td>-0.20</td>\n",
       "      <td>-0.10</td>\n",
       "      <td>-0.18</td>\n",
       "      <td>-0.10</td>\n",
       "      <td>-0.36</td>\n",
       "      <td>-0.21</td>\n",
       "      <td>-0.20</td>\n",
       "      <td>-0.21</td>\n",
       "      <td>-0.21</td>\n",
       "      <td>-0.06</td>\n",
       "      <td>-0.08</td>\n",
       "      <td>-0.07</td>\n",
       "      <td>2.71</td>\n",
       "      <td>...</td>\n",
       "      <td>0.02</td>\n",
       "      <td>0.01</td>\n",
       "      <td>0.01</td>\n",
       "      <td>0.01</td>\n",
       "      <td>-0.27</td>\n",
       "      <td>0.13</td>\n",
       "      <td>0.07</td>\n",
       "      <td>0.07</td>\n",
       "      <td>0.07</td>\n",
       "      <td>0.08</td>\n",
       "      <td>0.02</td>\n",
       "      <td>0.03</td>\n",
       "      <td>0.03</td>\n",
       "      <td>-0.97</td>\n",
       "      <td>0.04</td>\n",
       "      <td>0.04</td>\n",
       "      <td>0.04</td>\n",
       "      <td>0.04</td>\n",
       "      <td>0.01</td>\n",
       "      <td>0.02</td>\n",
       "      <td>0.01</td>\n",
       "      <td>-0.57</td>\n",
       "      <td>0.04</td>\n",
       "      <td>0.04</td>\n",
       "      <td>0.04</td>\n",
       "      <td>0.01</td>\n",
       "      <td>0.02</td>\n",
       "      <td>0.01</td>\n",
       "      <td>-0.55</td>\n",
       "      <td>0.04</td>\n",
       "      <td>0.04</td>\n",
       "      <td>0.01</td>\n",
       "      <td>0.02</td>\n",
       "      <td>0.01</td>\n",
       "      <td>-0.56</td>\n",
       "      <td>0.05</td>\n",
       "      <td>0.01</td>\n",
       "      <td>0.02</td>\n",
       "      <td>0.01</td>\n",
       "      <td>-0.58</td>\n",
       "      <td>0.00</td>\n",
       "      <td>0.00</td>\n",
       "      <td>0.00</td>\n",
       "      <td>-0.17</td>\n",
       "      <td>0.01</td>\n",
       "      <td>0.01</td>\n",
       "      <td>-0.21</td>\n",
       "      <td>0.00</td>\n",
       "      <td>-0.19</td>\n",
       "      <td>7.34</td>\n",
       "    </tr>\n",
       "  </tbody>\n",
       "</table>\n",
       "<p>5 rows × 1325 columns</p>\n",
       "</div>"
      ],
      "text/plain": [
       "   rank  games_behind  night_game  cli  streak  games_left-games_behind  \\\n",
       "0 -1.88          1.13       -1.41 0.73    0.40                     1.68   \n",
       "1 -0.04          0.99        0.71 0.84   -0.39                     1.64   \n",
       "2  0.89          0.99        0.71 0.60   -0.78                     1.62   \n",
       "3 -0.96          0.99        0.71 0.54    0.40                     1.60   \n",
       "4  0.89          0.86       -1.41 0.69   -0.39                     1.57   \n",
       "\n",
       "   weekend  weekend_x_night  Apr   Aug   Jul   Jun   Mar   May   Oct   Sep  \\\n",
       "0    -0.69            -0.36 2.29 -0.47 -0.42 -0.41 -0.06 -0.46 -0.09 -0.46   \n",
       "1    -0.69            -0.36 2.29 -0.47 -0.42 -0.41 -0.06 -0.46 -0.09 -0.46   \n",
       "2    -0.69            -0.36 2.29 -0.47 -0.42 -0.41 -0.06 -0.46 -0.09 -0.46   \n",
       "3    -0.69            -0.36 2.29 -0.47 -0.42 -0.41 -0.06 -0.46 -0.09 -0.46   \n",
       "4     1.45            -0.36 2.29 -0.47 -0.42 -0.41 -0.06 -0.46 -0.09 -0.46   \n",
       "\n",
       "   Friday  Monday  Thursday  Tuesday  Wednesday   ARI   ATL   BAL   BOS   CHC  \\\n",
       "0   -0.42    2.96     -0.37    -0.41      -0.42 -0.21 -0.36 -0.09 -0.06 -0.21   \n",
       "1   -0.42   -0.34     -0.37    -0.41       2.36 -0.21 -0.36 -0.09 -0.06 -0.21   \n",
       "2   -0.42   -0.34      2.68    -0.41      -0.42 -0.21 -0.36 -0.09 -0.06 -0.21   \n",
       "3    2.35   -0.34     -0.37    -0.41      -0.42 -0.21 -0.36 -0.09 -0.06 -0.21   \n",
       "4   -0.42   -0.34     -0.37    -0.41      -0.42 -0.21 -0.36 -0.09 -0.06 -0.21   \n",
       "\n",
       "    CHW   CIN   CLE   COL   DET   FLA   HOU   KCR   LAA   LAD   MIA   MIL  \\\n",
       "0 -0.08 -0.21 -0.06 -0.21 -0.11  6.63 -0.12 -0.08 -0.09 -0.20 -0.32 -0.20   \n",
       "1 -0.08 -0.21 -0.06 -0.21 -0.11  6.63 -0.12 -0.08 -0.09 -0.20 -0.32 -0.20   \n",
       "2 -0.08 -0.21 -0.06 -0.21 -0.11  6.63 -0.12 -0.08 -0.09 -0.20 -0.32 -0.20   \n",
       "3 -0.08 -0.21 -0.06 -0.21 -0.11 -0.15 -0.12 -0.08 -0.09 -0.20 -0.32 -0.20   \n",
       "4 -0.08 -0.21 -0.06 -0.21 -0.11 -0.15 -0.12 -0.08 -0.09 -0.20 -0.32 -0.20   \n",
       "\n",
       "    MIN   NYY   OAK   PHI   PIT   SDP   SFG   STL   TBR   TEX   TOR   WSN  \\\n",
       "0 -0.10 -0.18 -0.10 -0.36 -0.21 -0.20 -0.21 -0.21 -0.06 -0.08 -0.07 -0.37   \n",
       "1 -0.10 -0.18 -0.10 -0.36 -0.21 -0.20 -0.21 -0.21 -0.06 -0.08 -0.07 -0.37   \n",
       "2 -0.10 -0.18 -0.10 -0.36 -0.21 -0.20 -0.21 -0.21 -0.06 -0.08 -0.07 -0.37   \n",
       "3 -0.10 -0.18 -0.10 -0.36 -0.21 -0.20 -0.21 -0.21 -0.06 -0.08 -0.07  2.71   \n",
       "4 -0.10 -0.18 -0.10 -0.36 -0.21 -0.20 -0.21 -0.21 -0.06 -0.08 -0.07  2.71   \n",
       "\n",
       "   ...  OAK STL  OAK TBR  OAK TEX  OAK TOR  OAK WSN  PHI^2  PHI PIT  PHI SDP  \\\n",
       "0  ...     0.02     0.01     0.01     0.01     0.04   0.13     0.07     0.07   \n",
       "1  ...     0.02     0.01     0.01     0.01     0.04   0.13     0.07     0.07   \n",
       "2  ...     0.02     0.01     0.01     0.01     0.04   0.13     0.07     0.07   \n",
       "3  ...     0.02     0.01     0.01     0.01    -0.27   0.13     0.07     0.07   \n",
       "4  ...     0.02     0.01     0.01     0.01    -0.27   0.13     0.07     0.07   \n",
       "\n",
       "   PHI SFG  PHI STL  PHI TBR  PHI TEX  PHI TOR  PHI WSN  PIT^2  PIT SDP  \\\n",
       "0     0.07     0.08     0.02     0.03     0.03     0.13   0.04     0.04   \n",
       "1     0.07     0.08     0.02     0.03     0.03     0.13   0.04     0.04   \n",
       "2     0.07     0.08     0.02     0.03     0.03     0.13   0.04     0.04   \n",
       "3     0.07     0.08     0.02     0.03     0.03    -0.97   0.04     0.04   \n",
       "4     0.07     0.08     0.02     0.03     0.03    -0.97   0.04     0.04   \n",
       "\n",
       "   PIT SFG  PIT STL  PIT TBR  PIT TEX  PIT TOR  PIT WSN  SDP^2  SDP SFG  \\\n",
       "0     0.04     0.04     0.01     0.02     0.01     0.08   0.04     0.04   \n",
       "1     0.04     0.04     0.01     0.02     0.01     0.08   0.04     0.04   \n",
       "2     0.04     0.04     0.01     0.02     0.01     0.08   0.04     0.04   \n",
       "3     0.04     0.04     0.01     0.02     0.01    -0.57   0.04     0.04   \n",
       "4     0.04     0.04     0.01     0.02     0.01    -0.57   0.04     0.04   \n",
       "\n",
       "   SDP STL  SDP TBR  SDP TEX  SDP TOR  SDP WSN  SFG^2  SFG STL  SFG TBR  \\\n",
       "0     0.04     0.01     0.02     0.01     0.07   0.04     0.04     0.01   \n",
       "1     0.04     0.01     0.02     0.01     0.07   0.04     0.04     0.01   \n",
       "2     0.04     0.01     0.02     0.01     0.07   0.04     0.04     0.01   \n",
       "3     0.04     0.01     0.02     0.01    -0.55   0.04     0.04     0.01   \n",
       "4     0.04     0.01     0.02     0.01    -0.55   0.04     0.04     0.01   \n",
       "\n",
       "   SFG TEX  SFG TOR  SFG WSN  STL^2  STL TBR  STL TEX  STL TOR  STL WSN  \\\n",
       "0     0.02     0.01     0.08   0.05     0.01     0.02     0.01     0.08   \n",
       "1     0.02     0.01     0.08   0.05     0.01     0.02     0.01     0.08   \n",
       "2     0.02     0.01     0.08   0.05     0.01     0.02     0.01     0.08   \n",
       "3     0.02     0.01    -0.56   0.05     0.01     0.02     0.01    -0.58   \n",
       "4     0.02     0.01    -0.56   0.05     0.01     0.02     0.01    -0.58   \n",
       "\n",
       "   TBR^2  TBR TEX  TBR TOR  TBR WSN  TEX^2  TEX TOR  TEX WSN  TOR^2  TOR WSN  \\\n",
       "0   0.00     0.00     0.00     0.02   0.01     0.01     0.03   0.00     0.03   \n",
       "1   0.00     0.00     0.00     0.02   0.01     0.01     0.03   0.00     0.03   \n",
       "2   0.00     0.00     0.00     0.02   0.01     0.01     0.03   0.00     0.03   \n",
       "3   0.00     0.00     0.00    -0.17   0.01     0.01    -0.21   0.00    -0.19   \n",
       "4   0.00     0.00     0.00    -0.17   0.01     0.01    -0.21   0.00    -0.19   \n",
       "\n",
       "   WSN^2  \n",
       "0   0.14  \n",
       "1   0.14  \n",
       "2   0.14  \n",
       "3   7.34  \n",
       "4   7.34  \n",
       "\n",
       "[5 rows x 1325 columns]"
      ]
     },
     "execution_count": 189,
     "metadata": {},
     "output_type": "execute_result"
    }
   ],
   "source": [
    "poly_2 = PolynomialFeatures(degree=2, include_bias=False)\n",
    "poly2_data = poly_2.fit_transform(features)\n",
    "poly2_columns = poly_2.get_feature_names(features.columns)\n",
    "df_poly2 = pd.DataFrame(poly2_data, columns=poly2_columns)\n",
    "df_poly2.head()"
   ]
  },
  {
   "cell_type": "code",
   "execution_count": 190,
   "metadata": {},
   "outputs": [],
   "source": [
    "X_train, X_test, y_train, y_test = train_test_split(df_poly2, target, random_state=9,test_size=0.2)"
   ]
  },
  {
   "cell_type": "markdown",
   "metadata": {},
   "source": [
    "### Polynomial: Lasso Model\n"
   ]
  },
  {
   "cell_type": "code",
   "execution_count": 191,
   "metadata": {},
   "outputs": [
    {
     "name": "stdout",
     "output_type": "stream",
     "text": [
      "Training RMSE: 2029\n",
      "Testing RMSE: 42548\n"
     ]
    },
    {
     "name": "stderr",
     "output_type": "stream",
     "text": [
      "/Users/farhan/opt/anaconda3/lib/python3.8/site-packages/sklearn/linear_model/_coordinate_descent.py:529: ConvergenceWarning: Objective did not converge. You might want to increase the number of iterations. Duality gap: 1189079684.3947172, tolerance: 2297650.7372428817\n",
      "  model = cd_fast.enet_coordinate_descent(\n"
     ]
    }
   ],
   "source": [
    "from sklearn.linear_model import Lasso, Ridge\n",
    "\n",
    "lasso = Lasso(alpha=0.001, normalize=False, max_iter=100000, )\n",
    "\n",
    "lasso.fit(X_train,y_train)\n",
    "\n",
    "y_train_pred = lasso.predict(X_train)\n",
    "y_pred = lasso.predict(X_test)\n",
    "\n",
    "train_rmse_lasso01 = np.sqrt(mean_squared_error(y_train, y_train_pred))\n",
    "test_rmse_lasso01 = np.sqrt(mean_squared_error(y_test, y_pred))\n",
    "\n",
    "print('Training RMSE:', int(train_rmse_lasso01) )\n",
    "print('Testing RMSE:', int(test_rmse_lasso01) )"
   ]
  },
  {
   "cell_type": "code",
   "execution_count": 192,
   "metadata": {},
   "outputs": [
    {
     "data": {
      "text/plain": [
       "{'Linear Regression': 4763.057814075711,\n",
       " 'k-Best': 4691.093170985697,\n",
       " 'Poly-Lasso': 42548.69761111952}"
      ]
     },
     "execution_count": 192,
     "metadata": {},
     "output_type": "execute_result"
    }
   ],
   "source": [
    "rmse_dict['Poly-Lasso'] = test_rmse_lasso01\n",
    "rmse_dict"
   ]
  },
  {
   "cell_type": "code",
   "execution_count": 193,
   "metadata": {},
   "outputs": [
    {
     "data": {
      "image/png": "[encoded data removed]",
      "text/plain": [
       "<Figure size 864x432 with 1 Axes>"
      ]
     },
     "metadata": {},
     "output_type": "display_data"
    }
   ],
   "source": [
    "lasso_coef01 = pd.DataFrame(data=lasso.coef_).T\n",
    "lasso_coef01.columns = X_train.columns\n",
    "lasso_coef01 = lasso_coef01.T.sort_values(by=0).T\n",
    "lasso_coef01.plot(kind='bar', title='Model Coefficients', legend=False, figsize=(12,6))\n",
    "plt.show()"
   ]
  },
  {
   "cell_type": "markdown",
   "metadata": {},
   "source": [
    "### Polynomial: K-Best Model"
   ]
  },
  {
   "cell_type": "code",
   "execution_count": 194,
   "metadata": {},
   "outputs": [
    {
     "data": {
      "text/plain": [
       "SelectKBest(k=30, score_func=<function f_regression at 0x7fa837351790>)"
      ]
     },
     "execution_count": 194,
     "metadata": {},
     "output_type": "execute_result"
    }
   ],
   "source": [
    "selector = SelectKBest(f_regression, k=30)\n",
    "\n",
    "selector.fit(X_train, y_train)"
   ]
  },
  {
   "cell_type": "code",
   "execution_count": 195,
   "metadata": {},
   "outputs": [],
   "source": [
    "selected_columns = X_train.columns[selector.get_support()]\n",
    "removed_columns = X_train.columns[~selector.get_support()]"
   ]
  },
  {
   "cell_type": "code",
   "execution_count": 196,
   "metadata": {},
   "outputs": [
    {
     "name": "stdout",
     "output_type": "stream",
     "text": [
      "Index(['night_game', 'streak', 'games_left-games_behind', 'Apr', 'Aug', 'Jul',\n",
      "       'Jun', 'Mar', 'May', 'Oct',\n",
      "       ...\n",
      "       'TBR^2', 'TBR TEX', 'TBR TOR', 'TBR WSN', 'TEX^2', 'TEX TOR', 'TEX WSN',\n",
      "       'TOR^2', 'TOR WSN', 'WSN^2'],\n",
      "      dtype='object', length=1295)\n"
     ]
    }
   ],
   "source": [
    "print(removed_columns)"
   ]
  },
  {
   "cell_type": "code",
   "execution_count": 197,
   "metadata": {},
   "outputs": [
    {
     "name": "stdout",
     "output_type": "stream",
     "text": [
      "Index(['rank', 'games_behind', 'cli', 'weekend', 'weekend_x_night', 'NYY',\n",
      "       'rank CLE', 'games_behind games_left-games_behind', 'games_behind CLE',\n",
      "       'night_game weekend_x_night', 'cli games_left-games_behind', 'cli CLE',\n",
      "       'weekend^2', 'weekend Friday', 'weekend CLE', 'weekend_x_night^2',\n",
      "       'weekend_x_night Friday', 'weekend_x_night CLE', 'Apr NYY',\n",
      "       'Tuesday Wednesday', 'ARI NYY', 'ATL NYY', 'CHC NYY', 'CLE NYY',\n",
      "       'COL NYY', 'LAD NYY', 'NYY^2', 'NYY PHI', 'NYY STL', 'NYY WSN'],\n",
      "      dtype='object')\n"
     ]
    }
   ],
   "source": [
    "print(selected_columns)"
   ]
  },
  {
   "cell_type": "code",
   "execution_count": 198,
   "metadata": {},
   "outputs": [
    {
     "name": "stdout",
     "output_type": "stream",
     "text": [
      "Training RMSE: 4788\n",
      "Testing RMSE: 4719\n"
     ]
    }
   ],
   "source": [
    "lm_kbest = LinearRegression()\n",
    "\n",
    "lm_kbest = lm_kbest.fit(X_train[selected_columns], y_train)  #fit the linear regression to the data\n",
    "\n",
    "train_kbest = lm_kbest.predict(X_train[selected_columns])  # predict on the train and test k-best\n",
    "test_kbest = lm_kbest.predict(X_test[selected_columns])\n",
    "\n",
    "trainK_rmse = np.sqrt(mean_squared_error(y_train, train_kbest))  # calculate the train-test RMSE\n",
    "testK_rmse = np.sqrt(mean_squared_error(y_test, test_kbest))\n",
    "\n",
    "print('Training RMSE:' , int(trainK_rmse))\n",
    "print('Testing RMSE:' , int(testK_rmse))"
   ]
  },
  {
   "cell_type": "code",
   "execution_count": 199,
   "metadata": {},
   "outputs": [
    {
     "data": {
      "text/plain": [
       "{'Linear Regression': 4763.057814075711,\n",
       " 'k-Best': 4691.093170985697,\n",
       " 'Poly-Lasso': 42548.69761111952,\n",
       " 'Poly-K-Best': 4719.733960869721,\n",
       " 'Dummy Regressor': 5987.977955628345}"
      ]
     },
     "execution_count": 199,
     "metadata": {},
     "output_type": "execute_result"
    }
   ],
   "source": [
    "rmse_dict['Poly-K-Best'] = testK_rmse\n",
    "rmse_dict['Dummy Regressor'] = dummy_test_rmse\n",
    "rmse_dict"
   ]
  },
  {
   "cell_type": "code",
   "execution_count": 200,
   "metadata": {},
   "outputs": [
    {
     "data": {
      "text/html": [
       "<div>\n",
       "<style scoped>\n",
       "    .dataframe tbody tr th:only-of-type {\n",
       "        vertical-align: middle;\n",
       "    }\n",
       "\n",
       "    .dataframe tbody tr th {\n",
       "        vertical-align: top;\n",
       "    }\n",
       "\n",
       "    .dataframe thead th {\n",
       "        text-align: right;\n",
       "    }\n",
       "</style>\n",
       "<table border=\"1\" class=\"dataframe\">\n",
       "  <thead>\n",
       "    <tr style=\"text-align: right;\">\n",
       "      <th></th>\n",
       "      <th>RMSE</th>\n",
       "    </tr>\n",
       "  </thead>\n",
       "  <tbody>\n",
       "    <tr>\n",
       "      <th>k-Best</th>\n",
       "      <td>4691.09</td>\n",
       "    </tr>\n",
       "    <tr>\n",
       "      <th>Poly-K-Best</th>\n",
       "      <td>4719.73</td>\n",
       "    </tr>\n",
       "    <tr>\n",
       "      <th>Linear Regression</th>\n",
       "      <td>4763.06</td>\n",
       "    </tr>\n",
       "    <tr>\n",
       "      <th>Dummy Regressor</th>\n",
       "      <td>5987.98</td>\n",
       "    </tr>\n",
       "    <tr>\n",
       "      <th>Poly-Lasso</th>\n",
       "      <td>42548.70</td>\n",
       "    </tr>\n",
       "  </tbody>\n",
       "</table>\n",
       "</div>"
      ],
      "text/plain": [
       "                      RMSE\n",
       "k-Best             4691.09\n",
       "Poly-K-Best        4719.73\n",
       "Linear Regression  4763.06\n",
       "Dummy Regressor    5987.98\n",
       "Poly-Lasso        42548.70"
      ]
     },
     "execution_count": 200,
     "metadata": {},
     "output_type": "execute_result"
    }
   ],
   "source": [
    "rmse_df = pd.DataFrame(rmse_dict.values(), columns=['RMSE'], index = rmse_dict.keys())\n",
    "rmse_df.sort_values(by='RMSE')"
   ]
  },
  {
   "cell_type": "markdown",
   "metadata": {},
   "source": [
    "## Fit The Best Model On The Entire Train Set And The Holdout Set\n",
    "___"
   ]
  },
  {
   "cell_type": "code",
   "execution_count": 201,
   "metadata": {},
   "outputs": [
    {
     "name": "stderr",
     "output_type": "stream",
     "text": [
      "/Users/farhan/opt/anaconda3/lib/python3.8/site-packages/sklearn/feature_selection/_univariate_selection.py:295: RuntimeWarning: invalid value encountered in sqrt\n",
      "  X_norms = np.sqrt(row_norms(X.T, squared=True) -\n",
      "/Users/farhan/opt/anaconda3/lib/python3.8/site-packages/scipy/stats/_distn_infrastructure.py:1932: RuntimeWarning: invalid value encountered in less_equal\n",
      "  cond2 = cond0 & (x <= _a)\n"
     ]
    },
    {
     "data": {
      "text/plain": [
       "SelectKBest(k=25, score_func=<function f_regression at 0x7fa837351790>)"
      ]
     },
     "execution_count": 201,
     "metadata": {},
     "output_type": "execute_result"
    }
   ],
   "source": [
    "selector = SelectKBest(f_regression, k=25)\n",
    "\n",
    "selector.fit(features, target)"
   ]
  },
  {
   "cell_type": "code",
   "execution_count": 202,
   "metadata": {},
   "outputs": [],
   "source": [
    "selected_columns = features.columns[selector.get_support()]\n",
    "removed_columns = features.columns[~selector.get_support()]"
   ]
  },
  {
   "cell_type": "code",
   "execution_count": 203,
   "metadata": {},
   "outputs": [
    {
     "name": "stdout",
     "output_type": "stream",
     "text": [
      "Training RMSE: 4647\n"
     ]
    }
   ],
   "source": [
    "lm_kbest = LinearRegression()\n",
    "\n",
    "lm_kbest.fit(features[selected_columns], target)\n",
    "\n",
    "full_train_kbest = lm_kbest.predict(features[selected_columns])  # predict on the train and test k-best\n",
    "\n",
    "full_trainK_rmse = np.sqrt(mean_squared_error(target, full_train_kbest))  # calculate the train-test RMSE\n",
    "\n",
    "print('Training RMSE:' , int(full_trainK_rmse))"
   ]
  },
  {
   "cell_type": "markdown",
   "metadata": {},
   "source": [
    "### Predicting the Holdout"
   ]
  },
  {
   "cell_type": "code",
   "execution_count": 204,
   "metadata": {},
   "outputs": [],
   "source": [
    "test_target = test_set['attendance']\n",
    "\n",
    "test_features = test_set.drop(columns='attendance')"
   ]
  },
  {
   "cell_type": "code",
   "execution_count": 205,
   "metadata": {},
   "outputs": [
    {
     "name": "stderr",
     "output_type": "stream",
     "text": [
      "/Users/farhan/opt/anaconda3/lib/python3.8/site-packages/sklearn/feature_selection/_univariate_selection.py:295: RuntimeWarning: invalid value encountered in sqrt\n",
      "  X_norms = np.sqrt(row_norms(X.T, squared=True) -\n",
      "/Users/farhan/opt/anaconda3/lib/python3.8/site-packages/sklearn/feature_selection/_univariate_selection.py:302: RuntimeWarning: divide by zero encountered in true_divide\n",
      "  corr /= X_norms\n",
      "/Users/farhan/opt/anaconda3/lib/python3.8/site-packages/sklearn/feature_selection/_univariate_selection.py:307: RuntimeWarning: invalid value encountered in true_divide\n",
      "  F = corr ** 2 / (1 - corr ** 2) * degrees_of_freedom\n",
      "/Users/farhan/opt/anaconda3/lib/python3.8/site-packages/scipy/stats/_distn_infrastructure.py:1932: RuntimeWarning: invalid value encountered in less_equal\n",
      "  cond2 = cond0 & (x <= _a)\n"
     ]
    },
    {
     "data": {
      "text/plain": [
       "SelectKBest(k=25, score_func=<function f_regression at 0x7fa837351790>)"
      ]
     },
     "execution_count": 205,
     "metadata": {},
     "output_type": "execute_result"
    }
   ],
   "source": [
    "selector.fit(test_features, test_target)"
   ]
  },
  {
   "cell_type": "code",
   "execution_count": 206,
   "metadata": {},
   "outputs": [],
   "source": [
    "selected_columns = features.columns[selector.get_support()]\n",
    "removed_columns = features.columns[~selector.get_support()]"
   ]
  },
  {
   "cell_type": "code",
   "execution_count": 207,
   "metadata": {},
   "outputs": [
    {
     "name": "stdout",
     "output_type": "stream",
     "text": [
      "Testing RMSE: 2947\n",
      "Testing MAE: 2119\n"
     ]
    }
   ],
   "source": [
    "lm_kbest = LinearRegression()\n",
    "\n",
    "lm_kbest.fit(test_features[selected_columns], test_target)\n",
    "\n",
    "holdout_kbest = lm_kbest.predict(test_features[selected_columns])  # predict on the train and test k-best\n",
    "\n",
    "holdoutK_rmse = np.sqrt(mean_squared_error(test_target, holdout_kbest))  # calculate the train-test RMSE\n",
    "\n",
    "print('Testing RMSE:' , int(holdoutK_rmse))\n",
    "print('Testing MAE:', int(mean_absolute_error(test_target, holdout_kbest)))"
   ]
  },
  {
   "cell_type": "code",
   "execution_count": 208,
   "metadata": {},
   "outputs": [
    {
     "data": {
      "image/png": "[encoded data removed]",
      "text/plain": [
       "<Figure size 576x396 with 1 Axes>"
      ]
     },
     "metadata": {},
     "output_type": "display_data"
    }
   ],
   "source": [
    "sns.residplot(test_target, holdout_kbest, lowess=True, color= 'red')\n",
    "plt.show()"
   ]
  },
  {
   "cell_type": "code",
   "execution_count": 237,
   "metadata": {},
   "outputs": [],
   "source": [
    "values = [float(n) for n in lm_kbest.coef_]\n",
    "keys = test_features[selected_columns].columns"
   ]
  },
  {
   "cell_type": "code",
   "execution_count": 238,
   "metadata": {},
   "outputs": [
    {
     "name": "stdout",
     "output_type": "stream",
     "text": [
      "{'rank': -310.8861035802394, 'games_behind': 54.794081175941876, 'night_game': -707.188569932518, 'streak': -1005.54313655153, 'weekend': 809.3197220110806, 'weekend_x_night': 797.8763160423731, 'Aug': 1579.5708911995603, 'Jul': 165.60509149186566, 'May': -829.8716716149138, 'Sep': -1200.8499499911113, 'Monday': -1348.669309815241, 'Tuesday': -1142.329047230551, 'Wednesday': -1242.1430416724825, 'ARI': -318.18455003851966, 'ATL': 73.62165318693195, 'CHC': 430.2378514387454, 'CIN': -1076.3267312374446, 'LAD': 1177.3146462121108, 'MIA': -328.4018104317261, 'MIN': -542.5109169254492, 'NYY': 2822.35460377539, 'PIT': 862.8356849816502, 'SDP': 1233.2415806909491, 'SFG': -477.54865572121906, 'WSN': 1581.8250191242973}\n"
     ]
    }
   ],
   "source": [
    "coeff_dict = dict(zip(keys, values))\n",
    "print(coeff_dict)"
   ]
  },
  {
   "cell_type": "code",
   "execution_count": 239,
   "metadata": {},
   "outputs": [],
   "source": [
    "coeff_df = pd.DataFrame(coeff_dict.values(), index = coeff_dict.keys(), columns= ['Co-efficient of feature'])"
   ]
  },
  {
   "cell_type": "code",
   "execution_count": 250,
   "metadata": {},
   "outputs": [
    {
     "data": {
      "image/png": "[encoded data removed]",
      "text/plain": [
       "<Figure size 576x396 with 1 Axes>"
      ]
     },
     "metadata": {},
     "output_type": "display_data"
    }
   ],
   "source": [
    "sns.barplot(x = list(coeff_df.index), y= 'Co-efficient of feature', data=coeff_df)\n",
    "plt.xticks(rotation = 90)\n",
    "plt.xlabel('Features')\n",
    "plt.title('feature importances of the k-best linear regression model'.title())\n",
    "plt.savefig('feature_imp_kbest.png')"
   ]
  }
 ],
 "metadata": {
  "kernelspec": {
   "display_name": "Python 3",
   "language": "python",
   "name": "python3"
  },
  "language_info": {
   "codemirror_mode": {
    "name": "ipython",
    "version": 3
   },
   "file_extension": ".py",
   "mimetype": "text/x-python",
   "name": "python",
   "nbconvert_exporter": "python",
   "pygments_lexer": "ipython3",
   "version": "3.8.3"
  }
 },
 "nbformat": 4,
 "nbformat_minor": 4
}
