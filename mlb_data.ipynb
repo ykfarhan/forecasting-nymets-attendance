{
 "cells": [
  {
   "cell_type": "markdown",
   "metadata": {},
   "source": [
    "# Introduction\n",
    "___"
   ]
  },
  {
   "cell_type": "code",
   "execution_count": 69,
   "metadata": {},
   "outputs": [],
   "source": [
    "# import the libraries necessarry for cleaning and eda\n",
    "import numpy as np\n",
    "import pandas as pd\n",
    "import matplotlib.pyplot as plt\n",
    "%matplotlib inline\n",
    "\n",
    "import seaborn as sns\n",
    "sns.set(style='white')\n",
    "plt.style.use('seaborn')\n",
    "\n",
    "pd.set_option('display.max_columns', 100)  # display max rows and columns\n",
    "pd.set_option('display.max_rows', 100)\n",
    "pd.set_option('display.float_format', lambda x: '%.2f' % x)  # avoid outputing scientific notation"
   ]
  },
  {
   "cell_type": "code",
   "execution_count": 209,
   "metadata": {},
   "outputs": [],
   "source": [
    "nym = pd.read_csv('Untitled document.txt', sep = ',')  # read in the text file"
   ]
  },
  {
   "cell_type": "code",
   "execution_count": 210,
   "metadata": {},
   "outputs": [
    {
     "name": "stdout",
     "output_type": "stream",
     "text": [
      "(1620, 11)\n"
     ]
    },
    {
     "data": {
      "text/html": [
       "<div>\n",
       "<style scoped>\n",
       "    .dataframe tbody tr th:only-of-type {\n",
       "        vertical-align: middle;\n",
       "    }\n",
       "\n",
       "    .dataframe tbody tr th {\n",
       "        vertical-align: top;\n",
       "    }\n",
       "\n",
       "    .dataframe thead th {\n",
       "        text-align: right;\n",
       "    }\n",
       "</style>\n",
       "<table border=\"1\" class=\"dataframe\">\n",
       "  <thead>\n",
       "    <tr style=\"text-align: right;\">\n",
       "      <th></th>\n",
       "      <th>game#</th>\n",
       "      <th>date</th>\n",
       "      <th>h/a</th>\n",
       "      <th>opponent</th>\n",
       "      <th>w-l</th>\n",
       "      <th>rank</th>\n",
       "      <th>games_behind</th>\n",
       "      <th>d/n</th>\n",
       "      <th>attendance</th>\n",
       "      <th>cli</th>\n",
       "      <th>streak</th>\n",
       "    </tr>\n",
       "  </thead>\n",
       "  <tbody>\n",
       "    <tr>\n",
       "      <th>0</th>\n",
       "      <td>1</td>\n",
       "      <td>Monday Apr 5</td>\n",
       "      <td>NaN</td>\n",
       "      <td>FLA</td>\n",
       "      <td>1-0</td>\n",
       "      <td>1</td>\n",
       "      <td>Tied</td>\n",
       "      <td>D</td>\n",
       "      <td>41245.00</td>\n",
       "      <td>1.08</td>\n",
       "      <td>+</td>\n",
       "    </tr>\n",
       "    <tr>\n",
       "      <th>1</th>\n",
       "      <td>2</td>\n",
       "      <td>Wednesday Apr 7</td>\n",
       "      <td>NaN</td>\n",
       "      <td>FLA</td>\n",
       "      <td>1-1</td>\n",
       "      <td>3</td>\n",
       "      <td>1.0</td>\n",
       "      <td>N</td>\n",
       "      <td>38863.00</td>\n",
       "      <td>1.14</td>\n",
       "      <td>-</td>\n",
       "    </tr>\n",
       "    <tr>\n",
       "      <th>2</th>\n",
       "      <td>3</td>\n",
       "      <td>Thursday Apr 8</td>\n",
       "      <td>NaN</td>\n",
       "      <td>FLA</td>\n",
       "      <td>1-2</td>\n",
       "      <td>4</td>\n",
       "      <td>1.0</td>\n",
       "      <td>N</td>\n",
       "      <td>25982.00</td>\n",
       "      <td>1.01</td>\n",
       "      <td>--</td>\n",
       "    </tr>\n",
       "    <tr>\n",
       "      <th>3</th>\n",
       "      <td>4</td>\n",
       "      <td>Friday Apr 9</td>\n",
       "      <td>NaN</td>\n",
       "      <td>WSN</td>\n",
       "      <td>2-2</td>\n",
       "      <td>2</td>\n",
       "      <td>1.0</td>\n",
       "      <td>N</td>\n",
       "      <td>28055.00</td>\n",
       "      <td>0.98</td>\n",
       "      <td>+</td>\n",
       "    </tr>\n",
       "    <tr>\n",
       "      <th>4</th>\n",
       "      <td>5</td>\n",
       "      <td>Saturday Apr 10</td>\n",
       "      <td>NaN</td>\n",
       "      <td>WSN</td>\n",
       "      <td>2-3</td>\n",
       "      <td>4</td>\n",
       "      <td>2.0</td>\n",
       "      <td>D</td>\n",
       "      <td>33044.00</td>\n",
       "      <td>1.06</td>\n",
       "      <td>-</td>\n",
       "    </tr>\n",
       "  </tbody>\n",
       "</table>\n",
       "</div>"
      ],
      "text/plain": [
       "   game#             date  h/a opponent  w-l  rank games_behind d/n  \\\n",
       "0      1     Monday Apr 5  NaN      FLA  1-0     1         Tied   D   \n",
       "1      2  Wednesday Apr 7  NaN      FLA  1-1     3          1.0   N   \n",
       "2      3   Thursday Apr 8  NaN      FLA  1-2     4          1.0   N   \n",
       "3      4     Friday Apr 9  NaN      WSN  2-2     2          1.0   N   \n",
       "4      5  Saturday Apr 10  NaN      WSN  2-3     4          2.0   D   \n",
       "\n",
       "   attendance  cli streak  \n",
       "0    41245.00 1.08      +  \n",
       "1    38863.00 1.14      -  \n",
       "2    25982.00 1.01     --  \n",
       "3    28055.00 0.98      +  \n",
       "4    33044.00 1.06      -  "
      ]
     },
     "execution_count": 210,
     "metadata": {},
     "output_type": "execute_result"
    }
   ],
   "source": [
    "print(nym.shape)  # check the dimensions of the \n",
    "nym.head()  # print the first 5 rows"
   ]
  },
  {
   "cell_type": "markdown",
   "metadata": {},
   "source": [
    "* the `h/a` column indicates whether the game was played citifield, which is the Mets homeground, or at away ground.\n",
    "* '@' value indicates that it was played at the opponents home turf."
   ]
  },
  {
   "cell_type": "code",
   "execution_count": 211,
   "metadata": {},
   "outputs": [
    {
     "data": {
      "text/plain": [
       "@      810\n",
       "NaN    810\n",
       "Name: h/a, dtype: int64"
      ]
     },
     "execution_count": 211,
     "metadata": {},
     "output_type": "execute_result"
    }
   ],
   "source": [
    "nym['h/a'].value_counts(dropna=False)  # the games should be equally distributed in both classes"
   ]
  },
  {
   "cell_type": "code",
   "execution_count": 212,
   "metadata": {},
   "outputs": [
    {
     "data": {
      "text/plain": [
       "(810, 11)"
      ]
     },
     "execution_count": 212,
     "metadata": {},
     "output_type": "execute_result"
    }
   ],
   "source": [
    "# We only wantthe games that were played at the Ny Mets home stadium\n",
    "nym_home = nym[nym['h/a'] != '@'].copy()\n",
    "nym_home.shape"
   ]
  },
  {
   "cell_type": "markdown",
   "metadata": {},
   "source": [
    "81, 162, 243, 324, 405, 486, 567, 648, 729"
   ]
  },
  {
   "cell_type": "code",
   "execution_count": 213,
   "metadata": {},
   "outputs": [],
   "source": [
    "import warnings\n",
    "from pandas.core.common import SettingWithCopyWarning\n",
    "\n",
    "warnings.simplefilter(action=\"ignore\", category=SettingWithCopyWarning)"
   ]
  },
  {
   "cell_type": "code",
   "execution_count": 214,
   "metadata": {},
   "outputs": [],
   "source": [
    "nym_home['date'][:81] = nym_home['date'][:81] + ' 2010'\n",
    "nym_home['date'][81:162] = nym_home['date'][81:162] + ' 2011'\n",
    "nym_home['date'][162:243] = nym_home['date'][162:243] + ' 2012'\n",
    "nym_home['date'][243:324] = nym_home['date'][243:324] + ' 2013'\n",
    "nym_home['date'][324:405] = nym_home['date'][324:405] + ' 2014'\n",
    "nym_home['date'][405:486] = nym_home['date'][405:486] + ' 2015'\n",
    "nym_home['date'][486:567] = nym_home['date'][486:567] + ' 2016'\n",
    "nym_home['date'][567:648] = nym_home['date'][567:648] + ' 2017'\n",
    "nym_home['date'][648:729] = nym_home['date'][648:729] + ' 2018'\n",
    "nym_home['date'][729:] = nym_home['date'][729:] + ' 2019'"
   ]
  },
  {
   "cell_type": "code",
   "execution_count": 215,
   "metadata": {},
   "outputs": [
    {
     "name": "stdout",
     "output_type": "stream",
     "text": [
      "<class 'pandas.core.frame.DataFrame'>\n",
      "Int64Index: 810 entries, 0 to 1619\n",
      "Data columns (total 11 columns):\n",
      " #   Column        Non-Null Count  Dtype  \n",
      "---  ------        --------------  -----  \n",
      " 0   game#         810 non-null    int64  \n",
      " 1   date          810 non-null    object \n",
      " 2   h/a           0 non-null      object \n",
      " 3   opponent      810 non-null    object \n",
      " 4   w-l           810 non-null    object \n",
      " 5   rank          810 non-null    int64  \n",
      " 6   games_behind  810 non-null    object \n",
      " 7   d/n           810 non-null    object \n",
      " 8   attendance    797 non-null    float64\n",
      " 9   cli           810 non-null    float64\n",
      " 10  streak        810 non-null    object \n",
      "dtypes: float64(2), int64(2), object(7)\n",
      "memory usage: 75.9+ KB\n"
     ]
    }
   ],
   "source": [
    "nym_home.info()  # check the column types and how many null values they have"
   ]
  },
  {
   "cell_type": "markdown",
   "metadata": {},
   "source": [
    "* As expected, `h/a` column should have no more non-null values.\n",
    "* Attendance is missing for 13 games. Let's inspect these observations."
   ]
  },
  {
   "cell_type": "code",
   "execution_count": 216,
   "metadata": {},
   "outputs": [
    {
     "data": {
      "text/html": [
       "<div>\n",
       "<style scoped>\n",
       "    .dataframe tbody tr th:only-of-type {\n",
       "        vertical-align: middle;\n",
       "    }\n",
       "\n",
       "    .dataframe tbody tr th {\n",
       "        vertical-align: top;\n",
       "    }\n",
       "\n",
       "    .dataframe thead th {\n",
       "        text-align: right;\n",
       "    }\n",
       "</style>\n",
       "<table border=\"1\" class=\"dataframe\">\n",
       "  <thead>\n",
       "    <tr style=\"text-align: right;\">\n",
       "      <th></th>\n",
       "      <th>game#</th>\n",
       "      <th>date</th>\n",
       "      <th>h/a</th>\n",
       "      <th>opponent</th>\n",
       "      <th>w-l</th>\n",
       "      <th>rank</th>\n",
       "      <th>games_behind</th>\n",
       "      <th>d/n</th>\n",
       "      <th>attendance</th>\n",
       "      <th>cli</th>\n",
       "      <th>streak</th>\n",
       "    </tr>\n",
       "  </thead>\n",
       "  <tbody>\n",
       "    <tr>\n",
       "      <th>19</th>\n",
       "      <td>20</td>\n",
       "      <td>Tuesday Apr 27 (1) 2010</td>\n",
       "      <td>NaN</td>\n",
       "      <td>LAD</td>\n",
       "      <td>11-9</td>\n",
       "      <td>1</td>\n",
       "      <td>up 0.5</td>\n",
       "      <td>D</td>\n",
       "      <td>nan</td>\n",
       "      <td>1.02</td>\n",
       "      <td>+++++</td>\n",
       "    </tr>\n",
       "    <tr>\n",
       "      <th>156</th>\n",
       "      <td>157</td>\n",
       "      <td>Wednesday Sep 29 (1) 2010</td>\n",
       "      <td>NaN</td>\n",
       "      <td>MIL</td>\n",
       "      <td>77-80</td>\n",
       "      <td>3</td>\n",
       "      <td>17.5</td>\n",
       "      <td>D</td>\n",
       "      <td>nan</td>\n",
       "      <td>0.00</td>\n",
       "      <td>-</td>\n",
       "    </tr>\n",
       "    <tr>\n",
       "      <th>173</th>\n",
       "      <td>12</td>\n",
       "      <td>Thursday Apr 14 (1) 2011</td>\n",
       "      <td>NaN</td>\n",
       "      <td>COL</td>\n",
       "      <td>4-8</td>\n",
       "      <td>5</td>\n",
       "      <td>5.5</td>\n",
       "      <td>D</td>\n",
       "      <td>nan</td>\n",
       "      <td>0.78</td>\n",
       "      <td>----</td>\n",
       "    </tr>\n",
       "    <tr>\n",
       "      <th>292</th>\n",
       "      <td>131</td>\n",
       "      <td>Monday Aug 29 (1) 2011</td>\n",
       "      <td>NaN</td>\n",
       "      <td>FLA</td>\n",
       "      <td>63-68</td>\n",
       "      <td>3</td>\n",
       "      <td>21.0</td>\n",
       "      <td>D</td>\n",
       "      <td>nan</td>\n",
       "      <td>0.00</td>\n",
       "      <td>+++</td>\n",
       "    </tr>\n",
       "    <tr>\n",
       "      <th>303</th>\n",
       "      <td>142</td>\n",
       "      <td>Thursday Sep 8 (1) 2011</td>\n",
       "      <td>NaN</td>\n",
       "      <td>ATL</td>\n",
       "      <td>70-72</td>\n",
       "      <td>3</td>\n",
       "      <td>23.5</td>\n",
       "      <td>D</td>\n",
       "      <td>nan</td>\n",
       "      <td>0.02</td>\n",
       "      <td>-</td>\n",
       "    </tr>\n",
       "    <tr>\n",
       "      <th>338</th>\n",
       "      <td>15</td>\n",
       "      <td>Monday Apr 23 (1) 2012</td>\n",
       "      <td>NaN</td>\n",
       "      <td>SFG</td>\n",
       "      <td>8-7</td>\n",
       "      <td>3</td>\n",
       "      <td>4.0</td>\n",
       "      <td>D</td>\n",
       "      <td>nan</td>\n",
       "      <td>0.95</td>\n",
       "      <td>-</td>\n",
       "    </tr>\n",
       "    <tr>\n",
       "      <th>632</th>\n",
       "      <td>147</td>\n",
       "      <td>Saturday Sep 14 (1) 2013</td>\n",
       "      <td>NaN</td>\n",
       "      <td>MIA</td>\n",
       "      <td>65-82</td>\n",
       "      <td>4</td>\n",
       "      <td>23.0</td>\n",
       "      <td>D</td>\n",
       "      <td>nan</td>\n",
       "      <td>0.00</td>\n",
       "      <td>-</td>\n",
       "    </tr>\n",
       "    <tr>\n",
       "      <th>695</th>\n",
       "      <td>48</td>\n",
       "      <td>Sunday May 25 (1) 2014</td>\n",
       "      <td>NaN</td>\n",
       "      <td>ARI</td>\n",
       "      <td>21-27</td>\n",
       "      <td>4</td>\n",
       "      <td>6.0</td>\n",
       "      <td>D</td>\n",
       "      <td>nan</td>\n",
       "      <td>0.72</td>\n",
       "      <td>--</td>\n",
       "    </tr>\n",
       "    <tr>\n",
       "      <th>1069</th>\n",
       "      <td>98</td>\n",
       "      <td>Tuesday Jul 26 (1) 2016</td>\n",
       "      <td>NaN</td>\n",
       "      <td>STL</td>\n",
       "      <td>52-46</td>\n",
       "      <td>3</td>\n",
       "      <td>4.5</td>\n",
       "      <td>D</td>\n",
       "      <td>nan</td>\n",
       "      <td>1.53</td>\n",
       "      <td>-</td>\n",
       "    </tr>\n",
       "    <tr>\n",
       "      <th>1289</th>\n",
       "      <td>156</td>\n",
       "      <td>Monday Sep 25 (1) 2017</td>\n",
       "      <td>NaN</td>\n",
       "      <td>ATL</td>\n",
       "      <td>66-90</td>\n",
       "      <td>4</td>\n",
       "      <td>28.5</td>\n",
       "      <td>D</td>\n",
       "      <td>nan</td>\n",
       "      <td>0.00</td>\n",
       "      <td>---</td>\n",
       "    </tr>\n",
       "    <tr>\n",
       "      <th>1382</th>\n",
       "      <td>87</td>\n",
       "      <td>Monday Jul 9 (1) 2018</td>\n",
       "      <td>NaN</td>\n",
       "      <td>PHI</td>\n",
       "      <td>36-51</td>\n",
       "      <td>4</td>\n",
       "      <td>13.5</td>\n",
       "      <td>D</td>\n",
       "      <td>nan</td>\n",
       "      <td>0.05</td>\n",
       "      <td>+</td>\n",
       "    </tr>\n",
       "    <tr>\n",
       "      <th>1440</th>\n",
       "      <td>145</td>\n",
       "      <td>Thursday Sep 13 (1) 2018</td>\n",
       "      <td>NaN</td>\n",
       "      <td>MIA</td>\n",
       "      <td>67-78</td>\n",
       "      <td>4</td>\n",
       "      <td>14.0</td>\n",
       "      <td>D</td>\n",
       "      <td>nan</td>\n",
       "      <td>0.00</td>\n",
       "      <td>++</td>\n",
       "    </tr>\n",
       "    <tr>\n",
       "      <th>1569</th>\n",
       "      <td>112</td>\n",
       "      <td>Monday Aug 5 (1) 2019</td>\n",
       "      <td>NaN</td>\n",
       "      <td>MIA</td>\n",
       "      <td>56-56</td>\n",
       "      <td>4</td>\n",
       "      <td>8.5</td>\n",
       "      <td>D</td>\n",
       "      <td>nan</td>\n",
       "      <td>0.78</td>\n",
       "      <td>+++</td>\n",
       "    </tr>\n",
       "  </tbody>\n",
       "</table>\n",
       "</div>"
      ],
      "text/plain": [
       "      game#                       date  h/a opponent    w-l  rank  \\\n",
       "19       20    Tuesday Apr 27 (1) 2010  NaN      LAD   11-9     1   \n",
       "156     157  Wednesday Sep 29 (1) 2010  NaN      MIL  77-80     3   \n",
       "173      12   Thursday Apr 14 (1) 2011  NaN      COL    4-8     5   \n",
       "292     131     Monday Aug 29 (1) 2011  NaN      FLA  63-68     3   \n",
       "303     142    Thursday Sep 8 (1) 2011  NaN      ATL  70-72     3   \n",
       "338      15     Monday Apr 23 (1) 2012  NaN      SFG    8-7     3   \n",
       "632     147   Saturday Sep 14 (1) 2013  NaN      MIA  65-82     4   \n",
       "695      48     Sunday May 25 (1) 2014  NaN      ARI  21-27     4   \n",
       "1069     98    Tuesday Jul 26 (1) 2016  NaN      STL  52-46     3   \n",
       "1289    156     Monday Sep 25 (1) 2017  NaN      ATL  66-90     4   \n",
       "1382     87      Monday Jul 9 (1) 2018  NaN      PHI  36-51     4   \n",
       "1440    145   Thursday Sep 13 (1) 2018  NaN      MIA  67-78     4   \n",
       "1569    112      Monday Aug 5 (1) 2019  NaN      MIA  56-56     4   \n",
       "\n",
       "     games_behind d/n  attendance  cli streak  \n",
       "19         up 0.5   D         nan 1.02  +++++  \n",
       "156          17.5   D         nan 0.00      -  \n",
       "173           5.5   D         nan 0.78   ----  \n",
       "292          21.0   D         nan 0.00    +++  \n",
       "303          23.5   D         nan 0.02      -  \n",
       "338           4.0   D         nan 0.95      -  \n",
       "632          23.0   D         nan 0.00      -  \n",
       "695           6.0   D         nan 0.72     --  \n",
       "1069          4.5   D         nan 1.53      -  \n",
       "1289         28.5   D         nan 0.00    ---  \n",
       "1382         13.5   D         nan 0.05      +  \n",
       "1440         14.0   D         nan 0.00     ++  \n",
       "1569          8.5   D         nan 0.78    +++  "
      ]
     },
     "execution_count": 216,
     "metadata": {},
     "output_type": "execute_result"
    }
   ],
   "source": [
    "nym_home[nym_home['attendance'].isnull() == True]  # print the rows with null attendance"
   ]
  },
  {
   "cell_type": "markdown",
   "metadata": {},
   "source": [
    "* The data values of these rows have `'(1)'` attached at the end. This might indicate that two games were played that day against the same opponent.\n",
    "* Let's inspect couple of the rows right after these missing value rows."
   ]
  },
  {
   "cell_type": "code",
   "execution_count": 221,
   "metadata": {},
   "outputs": [
    {
     "data": {
      "text/html": [
       "<div>\n",
       "<style scoped>\n",
       "    .dataframe tbody tr th:only-of-type {\n",
       "        vertical-align: middle;\n",
       "    }\n",
       "\n",
       "    .dataframe tbody tr th {\n",
       "        vertical-align: top;\n",
       "    }\n",
       "\n",
       "    .dataframe thead th {\n",
       "        text-align: right;\n",
       "    }\n",
       "</style>\n",
       "<table border=\"1\" class=\"dataframe\">\n",
       "  <thead>\n",
       "    <tr style=\"text-align: right;\">\n",
       "      <th></th>\n",
       "      <th>game#</th>\n",
       "      <th>date</th>\n",
       "      <th>h/a</th>\n",
       "      <th>opponent</th>\n",
       "      <th>w-l</th>\n",
       "      <th>rank</th>\n",
       "      <th>games_behind</th>\n",
       "      <th>d/n</th>\n",
       "      <th>attendance</th>\n",
       "      <th>cli</th>\n",
       "      <th>streak</th>\n",
       "    </tr>\n",
       "  </thead>\n",
       "  <tbody>\n",
       "    <tr>\n",
       "      <th>1383</th>\n",
       "      <td>88</td>\n",
       "      <td>Monday Jul 9  2018</td>\n",
       "      <td>NaN</td>\n",
       "      <td>PHI</td>\n",
       "      <td>36-52</td>\n",
       "      <td>4</td>\n",
       "      <td>13.5</td>\n",
       "      <td>N</td>\n",
       "      <td>24139.00</td>\n",
       "      <td>0.06</td>\n",
       "      <td>-</td>\n",
       "    </tr>\n",
       "    <tr>\n",
       "      <th>1441</th>\n",
       "      <td>146</td>\n",
       "      <td>Thursday Sep 13  2018</td>\n",
       "      <td>NaN</td>\n",
       "      <td>MIA</td>\n",
       "      <td>68-78</td>\n",
       "      <td>4</td>\n",
       "      <td>14.0</td>\n",
       "      <td>N</td>\n",
       "      <td>22640.00</td>\n",
       "      <td>0.00</td>\n",
       "      <td>+++</td>\n",
       "    </tr>\n",
       "  </tbody>\n",
       "</table>\n",
       "</div>"
      ],
      "text/plain": [
       "      game#                   date  h/a opponent    w-l  rank games_behind  \\\n",
       "1383     88     Monday Jul 9  2018  NaN      PHI  36-52     4         13.5   \n",
       "1441    146  Thursday Sep 13  2018  NaN      MIA  68-78     4         14.0   \n",
       "\n",
       "     d/n  attendance  cli streak  \n",
       "1383   N    24139.00 0.06      -  \n",
       "1441   N    22640.00 0.00    +++  "
      ]
     },
     "execution_count": 221,
     "metadata": {},
     "output_type": "execute_result"
    }
   ],
   "source": [
    "nym_home[(nym_home.index == 1383) | (nym_home.index == 1441)]"
   ]
  },
  {
   "cell_type": "markdown",
   "metadata": {},
   "source": [
    "* We were correct in guessing that these were double-header games and attendance was only recorded for the second game.\n",
    "* We can either remove these rows and or impute the values with the actual attendaces from the second game of the day.\n",
    "* Tickets for double-headers are usually sold only once. Therefore, we would double counting values if we impute the missing numbers."
   ]
  },
  {
   "cell_type": "code",
   "execution_count": 218,
   "metadata": {},
   "outputs": [],
   "source": [
    "# drop the rows with missing attendance values\n",
    "nym_home = nym_home[nym_home['attendance'].notnull()].copy()"
   ]
  },
  {
   "cell_type": "code",
   "execution_count": 219,
   "metadata": {},
   "outputs": [],
   "source": [
    "import re  # import the RegEx module\n",
    "\n",
    "pattern = \"\\([12]\\)\"\n",
    "nym_home['date'] = nym_home['date'].str.replace(pattern, '')"
   ]
  },
  {
   "cell_type": "code",
   "execution_count": 222,
   "metadata": {},
   "outputs": [
    {
     "name": "stdout",
     "output_type": "stream",
     "text": [
      "19\n"
     ]
    },
    {
     "data": {
      "text/plain": [
       "array(['+', '-', '--', '++', '+++', '++++', '++++++', '+++++++', '+++++',\n",
       "       '---', '-----', '----', '------', '++++++++', '+++++++++',\n",
       "       '++++++++++', '+++++++++++', '-------', '--------'], dtype=object)"
      ]
     },
     "execution_count": 222,
     "metadata": {},
     "output_type": "execute_result"
    }
   ],
   "source": [
    "# transform the values in the streak column into integers indicating winning/losing streak\n",
    "print(nym_home['streak'].nunique())\n",
    "nym_home['streak'].unique()  # check the current number and types of unique streak values"
   ]
  },
  {
   "cell_type": "code",
   "execution_count": 223,
   "metadata": {},
   "outputs": [],
   "source": [
    "nym_home['streak'] = nym_home['streak'].apply(lambda x: len(x) * -1 if '-' in x else len(x))"
   ]
  },
  {
   "cell_type": "code",
   "execution_count": 224,
   "metadata": {},
   "outputs": [
    {
     "name": "stdout",
     "output_type": "stream",
     "text": [
      "19\n"
     ]
    },
    {
     "data": {
      "text/plain": [
       "array([ 1, -1, -2,  2,  3,  4,  6,  7,  5, -3, -5, -4, -6,  8,  9, 10, 11,\n",
       "       -7, -8])"
      ]
     },
     "execution_count": 224,
     "metadata": {},
     "output_type": "execute_result"
    }
   ],
   "source": [
    "print(nym_home['streak'].nunique())\n",
    "nym_home.streak.unique()  # check the transformed streak values"
   ]
  },
  {
   "cell_type": "code",
   "execution_count": 225,
   "metadata": {},
   "outputs": [
    {
     "data": {
      "text/plain": [
       "N    539\n",
       "D    258\n",
       "Name: d/n, dtype: int64"
      ]
     },
     "execution_count": 225,
     "metadata": {},
     "output_type": "execute_result"
    }
   ],
   "source": [
    "# convert d/n column to indicate if it was a night game or not\n",
    "nym_home['d/n'].value_counts() "
   ]
  },
  {
   "cell_type": "code",
   "execution_count": 226,
   "metadata": {},
   "outputs": [
    {
     "data": {
      "text/plain": [
       "1    539\n",
       "0    258\n",
       "Name: d/n, dtype: int64"
      ]
     },
     "execution_count": 226,
     "metadata": {},
     "output_type": "execute_result"
    }
   ],
   "source": [
    "# if it's a night game replace with 1 and if not replace with 0\n",
    "nym_home['d/n'] = nym_home['d/n'].apply(lambda x: 1 if x == 'N' else 0)\n",
    "nym_home['d/n'].value_counts()"
   ]
  },
  {
   "cell_type": "code",
   "execution_count": 227,
   "metadata": {},
   "outputs": [],
   "source": [
    "nym_home.rename(columns= {'d/n':'night_game'}, inplace= True)  # rename the column appropriately"
   ]
  },
  {
   "cell_type": "code",
   "execution_count": 228,
   "metadata": {},
   "outputs": [],
   "source": [
    "nym_home.drop(columns= ['h/a','w-l'], inplace= True)"
   ]
  },
  {
   "cell_type": "code",
   "execution_count": 229,
   "metadata": {},
   "outputs": [],
   "source": [
    "# nym_home.games_behind.value_counts(dropna=False)"
   ]
  },
  {
   "cell_type": "code",
   "execution_count": 230,
   "metadata": {},
   "outputs": [],
   "source": [
    "nym_home['games_behind'] = nym_home['games_behind'].str.replace('Tied', '0.0').str.replace('up ', '+')"
   ]
  },
  {
   "cell_type": "code",
   "execution_count": 231,
   "metadata": {},
   "outputs": [],
   "source": [
    "nym_home['games_behind'] = nym_home['games_behind'].apply(lambda x: float(x) * -1 if '+' not in x else float(x))"
   ]
  },
  {
   "cell_type": "code",
   "execution_count": 232,
   "metadata": {},
   "outputs": [
    {
     "name": "stdout",
     "output_type": "stream",
     "text": [
      "(797, 9)\n"
     ]
    },
    {
     "data": {
      "text/html": [
       "<div>\n",
       "<style scoped>\n",
       "    .dataframe tbody tr th:only-of-type {\n",
       "        vertical-align: middle;\n",
       "    }\n",
       "\n",
       "    .dataframe tbody tr th {\n",
       "        vertical-align: top;\n",
       "    }\n",
       "\n",
       "    .dataframe thead th {\n",
       "        text-align: right;\n",
       "    }\n",
       "</style>\n",
       "<table border=\"1\" class=\"dataframe\">\n",
       "  <thead>\n",
       "    <tr style=\"text-align: right;\">\n",
       "      <th></th>\n",
       "      <th>game#</th>\n",
       "      <th>date</th>\n",
       "      <th>opponent</th>\n",
       "      <th>rank</th>\n",
       "      <th>games_behind</th>\n",
       "      <th>night_game</th>\n",
       "      <th>attendance</th>\n",
       "      <th>cli</th>\n",
       "      <th>streak</th>\n",
       "    </tr>\n",
       "  </thead>\n",
       "  <tbody>\n",
       "    <tr>\n",
       "      <th>0</th>\n",
       "      <td>1</td>\n",
       "      <td>Monday Apr 5 2010</td>\n",
       "      <td>FLA</td>\n",
       "      <td>1</td>\n",
       "      <td>-0.00</td>\n",
       "      <td>0</td>\n",
       "      <td>41245.00</td>\n",
       "      <td>1.08</td>\n",
       "      <td>1</td>\n",
       "    </tr>\n",
       "    <tr>\n",
       "      <th>1</th>\n",
       "      <td>2</td>\n",
       "      <td>Wednesday Apr 7 2010</td>\n",
       "      <td>FLA</td>\n",
       "      <td>3</td>\n",
       "      <td>-1.00</td>\n",
       "      <td>1</td>\n",
       "      <td>38863.00</td>\n",
       "      <td>1.14</td>\n",
       "      <td>-1</td>\n",
       "    </tr>\n",
       "    <tr>\n",
       "      <th>2</th>\n",
       "      <td>3</td>\n",
       "      <td>Thursday Apr 8 2010</td>\n",
       "      <td>FLA</td>\n",
       "      <td>4</td>\n",
       "      <td>-1.00</td>\n",
       "      <td>1</td>\n",
       "      <td>25982.00</td>\n",
       "      <td>1.01</td>\n",
       "      <td>-2</td>\n",
       "    </tr>\n",
       "    <tr>\n",
       "      <th>3</th>\n",
       "      <td>4</td>\n",
       "      <td>Friday Apr 9 2010</td>\n",
       "      <td>WSN</td>\n",
       "      <td>2</td>\n",
       "      <td>-1.00</td>\n",
       "      <td>1</td>\n",
       "      <td>28055.00</td>\n",
       "      <td>0.98</td>\n",
       "      <td>1</td>\n",
       "    </tr>\n",
       "    <tr>\n",
       "      <th>4</th>\n",
       "      <td>5</td>\n",
       "      <td>Saturday Apr 10 2010</td>\n",
       "      <td>WSN</td>\n",
       "      <td>4</td>\n",
       "      <td>-2.00</td>\n",
       "      <td>0</td>\n",
       "      <td>33044.00</td>\n",
       "      <td>1.06</td>\n",
       "      <td>-1</td>\n",
       "    </tr>\n",
       "  </tbody>\n",
       "</table>\n",
       "</div>"
      ],
      "text/plain": [
       "   game#                  date opponent  rank  games_behind  night_game  \\\n",
       "0      1     Monday Apr 5 2010      FLA     1         -0.00           0   \n",
       "1      2  Wednesday Apr 7 2010      FLA     3         -1.00           1   \n",
       "2      3   Thursday Apr 8 2010      FLA     4         -1.00           1   \n",
       "3      4     Friday Apr 9 2010      WSN     2         -1.00           1   \n",
       "4      5  Saturday Apr 10 2010      WSN     4         -2.00           0   \n",
       "\n",
       "   attendance  cli  streak  \n",
       "0    41245.00 1.08       1  \n",
       "1    38863.00 1.14      -1  \n",
       "2    25982.00 1.01      -2  \n",
       "3    28055.00 0.98       1  \n",
       "4    33044.00 1.06      -1  "
      ]
     },
     "execution_count": 232,
     "metadata": {},
     "output_type": "execute_result"
    }
   ],
   "source": [
    "print(nym_home.shape)\n",
    "nym_home.head()"
   ]
  },
  {
   "cell_type": "code",
   "execution_count": null,
   "metadata": {},
   "outputs": [],
   "source": []
  },
  {
   "cell_type": "markdown",
   "metadata": {},
   "source": [
    "## Time-Series"
   ]
  },
  {
   "cell_type": "code",
   "execution_count": 261,
   "metadata": {},
   "outputs": [
    {
     "name": "stdout",
     "output_type": "stream",
     "text": [
      "(797, 2)\n"
     ]
    },
    {
     "data": {
      "text/html": [
       "<div>\n",
       "<style scoped>\n",
       "    .dataframe tbody tr th:only-of-type {\n",
       "        vertical-align: middle;\n",
       "    }\n",
       "\n",
       "    .dataframe tbody tr th {\n",
       "        vertical-align: top;\n",
       "    }\n",
       "\n",
       "    .dataframe thead th {\n",
       "        text-align: right;\n",
       "    }\n",
       "</style>\n",
       "<table border=\"1\" class=\"dataframe\">\n",
       "  <thead>\n",
       "    <tr style=\"text-align: right;\">\n",
       "      <th></th>\n",
       "      <th>date</th>\n",
       "      <th>attendance</th>\n",
       "    </tr>\n",
       "  </thead>\n",
       "  <tbody>\n",
       "    <tr>\n",
       "      <th>0</th>\n",
       "      <td>Monday Apr 5 2010</td>\n",
       "      <td>41245.00</td>\n",
       "    </tr>\n",
       "    <tr>\n",
       "      <th>1</th>\n",
       "      <td>Wednesday Apr 7 2010</td>\n",
       "      <td>38863.00</td>\n",
       "    </tr>\n",
       "    <tr>\n",
       "      <th>2</th>\n",
       "      <td>Thursday Apr 8 2010</td>\n",
       "      <td>25982.00</td>\n",
       "    </tr>\n",
       "    <tr>\n",
       "      <th>3</th>\n",
       "      <td>Friday Apr 9 2010</td>\n",
       "      <td>28055.00</td>\n",
       "    </tr>\n",
       "    <tr>\n",
       "      <th>4</th>\n",
       "      <td>Saturday Apr 10 2010</td>\n",
       "      <td>33044.00</td>\n",
       "    </tr>\n",
       "  </tbody>\n",
       "</table>\n",
       "</div>"
      ],
      "text/plain": [
       "                   date  attendance\n",
       "0     Monday Apr 5 2010    41245.00\n",
       "1  Wednesday Apr 7 2010    38863.00\n",
       "2   Thursday Apr 8 2010    25982.00\n",
       "3     Friday Apr 9 2010    28055.00\n",
       "4  Saturday Apr 10 2010    33044.00"
      ]
     },
     "execution_count": 261,
     "metadata": {},
     "output_type": "execute_result"
    }
   ],
   "source": [
    "time_nym = nym_home.loc[:,['date','attendance']]\n",
    "print(time_nym.shape)\n",
    "time_nym.head()"
   ]
  },
  {
   "cell_type": "code",
   "execution_count": 262,
   "metadata": {},
   "outputs": [],
   "source": [
    "# create a dictionary to change month values to appropriate values in order to convert it to DATETIME objects\n",
    "d = {'Mar':'March','Apr':'April', 'Jun':'June', 'Jul':'July', \n",
    "     'Aug':'August', 'Sep':'September', 'Oct': 'October'}"
   ]
  },
  {
   "cell_type": "code",
   "execution_count": 263,
   "metadata": {},
   "outputs": [],
   "source": [
    "time_nym['date'] = time_nym['date'].replace(d, regex=True)"
   ]
  },
  {
   "cell_type": "code",
   "execution_count": 264,
   "metadata": {},
   "outputs": [],
   "source": [
    "time_nym.date = pd.to_datetime(time_nym.date, format= '%A %B %d %Y')"
   ]
  },
  {
   "cell_type": "code",
   "execution_count": 267,
   "metadata": {},
   "outputs": [
    {
     "data": {
      "text/html": [
       "<div>\n",
       "<style scoped>\n",
       "    .dataframe tbody tr th:only-of-type {\n",
       "        vertical-align: middle;\n",
       "    }\n",
       "\n",
       "    .dataframe tbody tr th {\n",
       "        vertical-align: top;\n",
       "    }\n",
       "\n",
       "    .dataframe thead th {\n",
       "        text-align: right;\n",
       "    }\n",
       "</style>\n",
       "<table border=\"1\" class=\"dataframe\">\n",
       "  <thead>\n",
       "    <tr style=\"text-align: right;\">\n",
       "      <th></th>\n",
       "      <th>attendance</th>\n",
       "    </tr>\n",
       "    <tr>\n",
       "      <th>date</th>\n",
       "      <th></th>\n",
       "    </tr>\n",
       "  </thead>\n",
       "  <tbody>\n",
       "    <tr>\n",
       "      <th>2010-04-05</th>\n",
       "      <td>41245.00</td>\n",
       "    </tr>\n",
       "    <tr>\n",
       "      <th>2010-04-07</th>\n",
       "      <td>38863.00</td>\n",
       "    </tr>\n",
       "    <tr>\n",
       "      <th>2010-04-08</th>\n",
       "      <td>25982.00</td>\n",
       "    </tr>\n",
       "    <tr>\n",
       "      <th>2010-04-09</th>\n",
       "      <td>28055.00</td>\n",
       "    </tr>\n",
       "    <tr>\n",
       "      <th>2010-04-10</th>\n",
       "      <td>33044.00</td>\n",
       "    </tr>\n",
       "  </tbody>\n",
       "</table>\n",
       "</div>"
      ],
      "text/plain": [
       "            attendance\n",
       "date                  \n",
       "2010-04-05    41245.00\n",
       "2010-04-07    38863.00\n",
       "2010-04-08    25982.00\n",
       "2010-04-09    28055.00\n",
       "2010-04-10    33044.00"
      ]
     },
     "execution_count": 267,
     "metadata": {},
     "output_type": "execute_result"
    }
   ],
   "source": [
    "time_nym.set_index('date', inplace= True)\n",
    "time_nym.head()"
   ]
  },
  {
   "cell_type": "code",
   "execution_count": 277,
   "metadata": {},
   "outputs": [
    {
     "data": {
      "image/png": "[encoded data removed]",
      "text/plain": [
       "<Figure size 1440x504 with 1 Axes>"
      ]
     },
     "metadata": {},
     "output_type": "display_data"
    }
   ],
   "source": [
    "plt.figure(figsize=(20,7))\n",
    "plt.plot(time_nym.index, time_nym, color = 'red')\n",
    "plt.xlabel('YEAR')\n",
    "plt.ylabel('ATTENDANCE')\n",
    "plt.title('Attendance at New York Mets home ground over 10 seasons'.title())\n",
    "plt.show()"
   ]
  },
  {
   "cell_type": "code",
   "execution_count": 269,
   "metadata": {},
   "outputs": [
    {
     "data": {
      "text/plain": [
       "attendance   30038.20\n",
       "dtype: float64"
      ]
     },
     "execution_count": 269,
     "metadata": {},
     "output_type": "execute_result"
    }
   ],
   "source": [
    "time_nym.mean()"
   ]
  },
  {
   "cell_type": "code",
   "execution_count": 278,
   "metadata": {},
   "outputs": [
    {
     "name": "stdout",
     "output_type": "stream",
     "text": [
      "Test Statistic                 -6.30\n",
      "p-value                         0.00\n",
      "#Lags Used                      6.00\n",
      "Number of Observations Used   790.00\n",
      "dtype: float64\n"
     ]
    }
   ],
   "source": [
    "#perform dickey fuller to see if our data is stationary\n",
    "from statsmodels.tsa.stattools import adfuller\n",
    "test = adfuller(time_nym)\n",
    "dfoutput = pd.Series(test[0:4], index=['Test Statistic','p-value','#Lags Used','Number of Observations Used'])\n",
    "print(dfoutput)"
   ]
  },
  {
   "cell_type": "code",
   "execution_count": 274,
   "metadata": {},
   "outputs": [
    {
     "data": {
      "image/png": "[encoded data removed]",
      "text/plain": [
       "<Figure size 576x396 with 1 Axes>"
      ]
     },
     "metadata": {},
     "output_type": "display_data"
    }
   ],
   "source": [
    "#ACF/PACF to determine which terms in include (MA or AR or Both?)\n",
    "from statsmodels.graphics.tsaplots import plot_acf\n",
    "\n",
    "plot_acf(time_nym, alpha=.05); #plot autocorrelation for each lag (alpha is confidence interval)"
   ]
  },
  {
   "cell_type": "code",
   "execution_count": 275,
   "metadata": {},
   "outputs": [
    {
     "data": {
      "image/png": "[encoded data removed]",
      "text/plain": [
       "<Figure size 576x396 with 1 Axes>"
      ]
     },
     "metadata": {},
     "output_type": "display_data"
    }
   ],
   "source": [
    "from statsmodels.graphics.tsaplots import plot_pacf\n",
    "\n",
    "plot_pacf(time_nym, alpha=.025, lags=30);"
   ]
  },
  {
   "cell_type": "code",
   "execution_count": null,
   "metadata": {},
   "outputs": [],
   "source": []
  }
 ],
 "metadata": {
  "kernelspec": {
   "display_name": "Python 3",
   "language": "python",
   "name": "python3"
  },
  "language_info": {
   "codemirror_mode": {
    "name": "ipython",
    "version": 3
   },
   "file_extension": ".py",
   "mimetype": "text/x-python",
   "name": "python",
   "nbconvert_exporter": "python",
   "pygments_lexer": "ipython3",
   "version": "3.8.3"
  }
 },
 "nbformat": 4,
 "nbformat_minor": 4
}
